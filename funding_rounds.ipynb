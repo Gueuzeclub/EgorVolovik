{
 "cells": [
  {
   "cell_type": "markdown",
   "metadata": {
    "id": "4mJbK1knrJgz"
   },
   "source": [
    "# Проект: Исследование стартапов"
   ]
  },
  {
   "cell_type": "markdown",
   "metadata": {},
   "source": [
    "Написать вконце\n"
   ]
  },
  {
   "cell_type": "markdown",
   "metadata": {
    "id": "8lQtbsIUyFG6"
   },
   "source": [
    "## Цель и задачи  "
   ]
  },
  {
   "cell_type": "markdown",
   "metadata": {},
   "source": [
    "**Цель:** Провести анализ данных заказчика о стартапах и ответить на поставленные вопросы.   \n",
    "\n",
    "**Задачи:**\n",
    "1. Загрузить данные и познакомиться с их содержимым.\n",
    "2. Провести предобработку данных.\n",
    "3. Провести исследовательский анализ данных:\n",
    "    - проверить достоверность данных о сотрудниках стартапа и их образовании;\n",
    "    - изучить зависимость цены от категории стартапа и количества раундов финансирования перед его покупкой;\n",
    "4. Сформулировать выводы по проведённому анализу.\n"
   ]
  },
  {
   "cell_type": "markdown",
   "metadata": {},
   "source": [
    "## Данные"
   ]
  },
  {
   "cell_type": "markdown",
   "metadata": {},
   "source": [
    "**Для анализа поступили следующие данные о бизнесах и их сотрудниках. Данные состоят из пяти таблиц:**\n",
    "\n",
    "- `acquisition.csv` — Содержит информацию о покупках одними компаниями других компаний;\n",
    "- `company_and_rounds.csv` —  Содержит информацию о компаниях и раундах финансирования;\n",
    "- `education.csv` — Содержит информацию об образовании сотрудника;\n",
    "- `people.csv` —  Содержит информацию о сотрудниках;\n",
    "- `degrees.csv` — Содержит информацию о типе образования сотрудника.\n",
    "\n",
    "\n",
    "### Описание таблицы `acquisition`\n",
    "\n",
    "- id — идентификатор покупки.\n",
    "- acquiring_company_id — идентификатор покупающей компании.\n",
    "- acquired_company_id — идентификатор покупаемой компании.\n",
    "- term_code — варианты расчёта.\n",
    "- price_amount — сумма сделки.\n",
    "- acquired_at — дата сделки.\n",
    "\n",
    "### Описание таблицы `company_and_rounds`\n",
    "\n",
    "- company ID — идентификатор компании.\n",
    "- name — название компании.\n",
    "- category code — категория области деятельности компании.\n",
    "- status — статус компании.\n",
    "- founded at — дата инвестирования.\n",
    "- closed at — дата закрытия компании.\n",
    "- domain — официальный сайт компании.\n",
    "- network username — ник компании в сети.\n",
    "- country code — код страны компании.\n",
    "- investment rounds — число инвестиционных раундов.\n",
    "- funding rounds — число раундов финансирования.\n",
    "- funding total — сумма финансирования.\n",
    "- milestones — вехи финансирования.\n",
    "- funding round id — идентификатор этапа финансирования.\n",
    "- company id — идентификатор компании.\n",
    "- funded at — дата финансирования.\n",
    "- funding round type — тип финансирования.\n",
    "- raised amount — сумма финансирования.\n",
    "- pre money valuation — предварительная денежная оценка.\n",
    "- participants — число участников.\n",
    "- is first round — является ли раунд первым.\n",
    "- is last round — является раунд последним.\n",
    "\n",
    "### Описание таблицы `education`\n",
    "\n",
    "- id — идентификатор записи об образовании.\n",
    "- person_id — идентификатор работника.\n",
    "- instituition — название учебного заведения.\n",
    "- graduated_at — дата получения образования.\n",
    "\n",
    "### Описание таблицы `people`\n",
    "\n",
    "- id — идентификатор сотрудника.\n",
    "- first_name — имя сотрудника.\n",
    "- last_name — фамилия сотрудника.\n",
    "- company_id — идентификатор компании.\n",
    "- network_username — ник в социальных сетях.\n",
    "\n",
    "### Описание таблицы `degrees`\n",
    "\n",
    "- id — идентификатор записи.\n",
    "- object_id — идентификатор сотрудника.\n",
    "- degree_type — тип образования.\n",
    "- subject — специальность.\n",
    "\n",
    "---"
   ]
  },
  {
   "cell_type": "markdown",
   "metadata": {
    "id": "xqr6uttCrJg0"
   },
   "source": [
    "\n",
    "## Шаг 1. Знакомство с данными: загрузка и первичная предобработка\n",
    "\n"
   ]
  },
  {
   "cell_type": "code",
   "execution_count": 8,
   "metadata": {
    "id": "4u9np9gSnyqT",
    "scrolled": true
   },
   "outputs": [],
   "source": [
    "#!pip install phik\n",
    "import numpy as np\n",
    "import pandas as pd \n",
    "import matplotlib.pyplot as plt\n",
    "import seaborn as sns \n",
    "from phik import phik_matrix \n",
    "from matplotlib.ticker import ScalarFormatter"
   ]
  },
  {
   "cell_type": "code",
   "execution_count": 9,
   "metadata": {
    "id": "W_W4jRazrJg0"
   },
   "outputs": [],
   "source": [
    "path = 'https://code.s3.yandex.net/datasets/'\n",
    "\n",
    "acquisition_df = pd.read_csv(f'{path}acquisition.csv')\n",
    "cnr_df = pd.read_csv(f'{path}company_and_rounds.csv')\n",
    "degrees_df = pd.read_csv(f'{path}degrees.csv')\n",
    "education_df = pd.read_csv(f'{path}education.csv')\n",
    "people_df = pd.read_csv(f'{path}people.csv')\n",
    "fund_df = pd.read_csv(f'{path}fund.csv')"
   ]
  },
  {
   "cell_type": "code",
   "execution_count": 10,
   "metadata": {},
   "outputs": [
    {
     "data": {
      "text/html": [
       "<div>\n",
       "<style scoped>\n",
       "    .dataframe tbody tr th:only-of-type {\n",
       "        vertical-align: middle;\n",
       "    }\n",
       "\n",
       "    .dataframe tbody tr th {\n",
       "        vertical-align: top;\n",
       "    }\n",
       "\n",
       "    .dataframe thead th {\n",
       "        text-align: right;\n",
       "    }\n",
       "</style>\n",
       "<table border=\"1\" class=\"dataframe\">\n",
       "  <thead>\n",
       "    <tr style=\"text-align: right;\">\n",
       "      <th></th>\n",
       "      <th>id</th>\n",
       "      <th>acquiring_company_id</th>\n",
       "      <th>acquired_company_id</th>\n",
       "      <th>term_code</th>\n",
       "      <th>price_amount</th>\n",
       "      <th>acquired_at</th>\n",
       "    </tr>\n",
       "  </thead>\n",
       "  <tbody>\n",
       "    <tr>\n",
       "      <th>0</th>\n",
       "      <td>1</td>\n",
       "      <td>11</td>\n",
       "      <td>10</td>\n",
       "      <td>NaN</td>\n",
       "      <td>20000000</td>\n",
       "      <td>2007-05-30</td>\n",
       "    </tr>\n",
       "    <tr>\n",
       "      <th>1</th>\n",
       "      <td>7</td>\n",
       "      <td>59</td>\n",
       "      <td>72</td>\n",
       "      <td>cash</td>\n",
       "      <td>60000000</td>\n",
       "      <td>2007-07-01</td>\n",
       "    </tr>\n",
       "    <tr>\n",
       "      <th>2</th>\n",
       "      <td>8</td>\n",
       "      <td>24</td>\n",
       "      <td>132</td>\n",
       "      <td>cash</td>\n",
       "      <td>280000000</td>\n",
       "      <td>2007-05-01</td>\n",
       "    </tr>\n",
       "    <tr>\n",
       "      <th>3</th>\n",
       "      <td>9</td>\n",
       "      <td>59</td>\n",
       "      <td>155</td>\n",
       "      <td>cash</td>\n",
       "      <td>100000000</td>\n",
       "      <td>2007-06-01</td>\n",
       "    </tr>\n",
       "    <tr>\n",
       "      <th>4</th>\n",
       "      <td>10</td>\n",
       "      <td>212</td>\n",
       "      <td>215</td>\n",
       "      <td>cash</td>\n",
       "      <td>25000000</td>\n",
       "      <td>2007-07-01</td>\n",
       "    </tr>\n",
       "  </tbody>\n",
       "</table>\n",
       "</div>"
      ],
      "text/plain": [
       "   id  acquiring_company_id  acquired_company_id term_code  price_amount  \\\n",
       "0   1                    11                   10       NaN      20000000   \n",
       "1   7                    59                   72      cash      60000000   \n",
       "2   8                    24                  132      cash     280000000   \n",
       "3   9                    59                  155      cash     100000000   \n",
       "4  10                   212                  215      cash      25000000   \n",
       "\n",
       "  acquired_at  \n",
       "0  2007-05-30  \n",
       "1  2007-07-01  \n",
       "2  2007-05-01  \n",
       "3  2007-06-01  \n",
       "4  2007-07-01  "
      ]
     },
     "metadata": {},
     "output_type": "display_data"
    },
    {
     "name": "stdout",
     "output_type": "stream",
     "text": [
      "<class 'pandas.core.frame.DataFrame'>\n",
      "RangeIndex: 9407 entries, 0 to 9406\n",
      "Data columns (total 6 columns):\n",
      " #   Column                Non-Null Count  Dtype \n",
      "---  ------                --------------  ----- \n",
      " 0   id                    9407 non-null   int64 \n",
      " 1   acquiring_company_id  9407 non-null   int64 \n",
      " 2   acquired_company_id   9407 non-null   int64 \n",
      " 3   term_code             1831 non-null   object\n",
      " 4   price_amount          9407 non-null   int64 \n",
      " 5   acquired_at           9378 non-null   object\n",
      "dtypes: int64(4), object(2)\n",
      "memory usage: 441.1+ KB\n"
     ]
    },
    {
     "data": {
      "text/plain": [
       "(None, None)"
      ]
     },
     "execution_count": 10,
     "metadata": {},
     "output_type": "execute_result"
    }
   ],
   "source": [
    "display(acquisition_df.head()), acquisition_df.info()"
   ]
  },
  {
   "cell_type": "code",
   "execution_count": 11,
   "metadata": {},
   "outputs": [
    {
     "data": {
      "text/plain": [
       "id                      0.000000\n",
       "acquiring_company_id    0.000000\n",
       "acquired_company_id     0.000000\n",
       "term_code               0.805358\n",
       "price_amount            0.000000\n",
       "acquired_at             0.003083\n",
       "dtype: float64"
      ]
     },
     "execution_count": 11,
     "metadata": {},
     "output_type": "execute_result"
    }
   ],
   "source": [
    "acquisition_df.isna().sum()/acquisition_df.shape[0]"
   ]
  },
  {
   "cell_type": "markdown",
   "metadata": {},
   "source": [
    "<div class=\"alert alert-info \" role=\"alert\"> <b>\n",
    "    \n",
    "Таблица `acquisition_df` содержит 9407 строк и 6 столбцов, описание которых есть в описании данных проекта.\n",
    "\n",
    "Столбец `term_code` имеет более 80% пропусков. В исследовании варианты расчета анализироваться не будут, поэтому пропуски оставлю. \n",
    "Менее 1% пропусков в столбце `acquired_at`. Дата сделки могла \"потеряться\" из-за технической ошибки.<b>"
   ]
  },
  {
   "cell_type": "code",
   "execution_count": 13,
   "metadata": {},
   "outputs": [
    {
     "name": "stderr",
     "output_type": "stream",
     "text": [
      "/var/folders/b2/x7ybpd6s277f0mp7f_s013th0000gn/T/ipykernel_18878/2170803818.py:2: UserWarning: The argument 'infer_datetime_format' is deprecated and will be removed in a future version. A strict version of it is now the default, see https://pandas.pydata.org/pdeps/0004-consistent-to-datetime-parsing.html. You can safely remove this argument.\n",
      "  acquisition_df['acquired_at'] = pd.to_datetime(acquisition_df['acquired_at'], infer_datetime_format=True)\n"
     ]
    }
   ],
   "source": [
    "#Сразу приведу столбец \"acquired_at\" к нужному типу данных\n",
    "acquisition_df['acquired_at'] = pd.to_datetime(acquisition_df['acquired_at'], infer_datetime_format=True)"
   ]
  },
  {
   "cell_type": "code",
   "execution_count": 14,
   "metadata": {
    "scrolled": true
   },
   "outputs": [
    {
     "data": {
      "text/html": [
       "<div>\n",
       "<style scoped>\n",
       "    .dataframe tbody tr th:only-of-type {\n",
       "        vertical-align: middle;\n",
       "    }\n",
       "\n",
       "    .dataframe tbody tr th {\n",
       "        vertical-align: top;\n",
       "    }\n",
       "\n",
       "    .dataframe thead th {\n",
       "        text-align: right;\n",
       "    }\n",
       "</style>\n",
       "<table border=\"1\" class=\"dataframe\">\n",
       "  <thead>\n",
       "    <tr style=\"text-align: right;\">\n",
       "      <th></th>\n",
       "      <th>company  ID</th>\n",
       "      <th>name</th>\n",
       "      <th>category  code</th>\n",
       "      <th>status</th>\n",
       "      <th>founded  at</th>\n",
       "      <th>closed  at</th>\n",
       "      <th>domain</th>\n",
       "      <th>network  username</th>\n",
       "      <th>country  code</th>\n",
       "      <th>investment  rounds</th>\n",
       "      <th>...</th>\n",
       "      <th>milestones</th>\n",
       "      <th>funding  round  id</th>\n",
       "      <th>company  id</th>\n",
       "      <th>funded  at</th>\n",
       "      <th>funding  round  type</th>\n",
       "      <th>raised  amount</th>\n",
       "      <th>pre  money  valuation</th>\n",
       "      <th>participants</th>\n",
       "      <th>is  first  round</th>\n",
       "      <th>is  last  round</th>\n",
       "    </tr>\n",
       "  </thead>\n",
       "  <tbody>\n",
       "    <tr>\n",
       "      <th>0</th>\n",
       "      <td>1.0</td>\n",
       "      <td>Wetpaint</td>\n",
       "      <td>web</td>\n",
       "      <td>operating</td>\n",
       "      <td>2005-10-17</td>\n",
       "      <td>NaN</td>\n",
       "      <td>wetpaint-inc.com</td>\n",
       "      <td>BachelrWetpaint</td>\n",
       "      <td>USA</td>\n",
       "      <td>0.0</td>\n",
       "      <td>...</td>\n",
       "      <td>5.0</td>\n",
       "      <td>888.0</td>\n",
       "      <td>1.0</td>\n",
       "      <td>2005-10-01</td>\n",
       "      <td>series-a</td>\n",
       "      <td>5250000.0</td>\n",
       "      <td>0.0</td>\n",
       "      <td>2.0</td>\n",
       "      <td>0.0</td>\n",
       "      <td>1.0</td>\n",
       "    </tr>\n",
       "    <tr>\n",
       "      <th>1</th>\n",
       "      <td>1.0</td>\n",
       "      <td>Wetpaint</td>\n",
       "      <td>web</td>\n",
       "      <td>operating</td>\n",
       "      <td>2005-10-17</td>\n",
       "      <td>NaN</td>\n",
       "      <td>wetpaint-inc.com</td>\n",
       "      <td>BachelrWetpaint</td>\n",
       "      <td>USA</td>\n",
       "      <td>0.0</td>\n",
       "      <td>...</td>\n",
       "      <td>5.0</td>\n",
       "      <td>889.0</td>\n",
       "      <td>1.0</td>\n",
       "      <td>2007-01-01</td>\n",
       "      <td>series-b</td>\n",
       "      <td>9500000.0</td>\n",
       "      <td>0.0</td>\n",
       "      <td>3.0</td>\n",
       "      <td>0.0</td>\n",
       "      <td>0.0</td>\n",
       "    </tr>\n",
       "    <tr>\n",
       "      <th>2</th>\n",
       "      <td>1.0</td>\n",
       "      <td>Wetpaint</td>\n",
       "      <td>web</td>\n",
       "      <td>operating</td>\n",
       "      <td>2005-10-17</td>\n",
       "      <td>NaN</td>\n",
       "      <td>wetpaint-inc.com</td>\n",
       "      <td>BachelrWetpaint</td>\n",
       "      <td>USA</td>\n",
       "      <td>0.0</td>\n",
       "      <td>...</td>\n",
       "      <td>5.0</td>\n",
       "      <td>2312.0</td>\n",
       "      <td>1.0</td>\n",
       "      <td>2008-05-19</td>\n",
       "      <td>series-c+</td>\n",
       "      <td>25000000.0</td>\n",
       "      <td>0.0</td>\n",
       "      <td>4.0</td>\n",
       "      <td>1.0</td>\n",
       "      <td>0.0</td>\n",
       "    </tr>\n",
       "    <tr>\n",
       "      <th>3</th>\n",
       "      <td>10.0</td>\n",
       "      <td>Flektor</td>\n",
       "      <td>games_video</td>\n",
       "      <td>acquired</td>\n",
       "      <td>NaN</td>\n",
       "      <td>NaN</td>\n",
       "      <td>flektor.com</td>\n",
       "      <td>NaN</td>\n",
       "      <td>USA</td>\n",
       "      <td>0.0</td>\n",
       "      <td>...</td>\n",
       "      <td>0.0</td>\n",
       "      <td>NaN</td>\n",
       "      <td>NaN</td>\n",
       "      <td>NaN</td>\n",
       "      <td>NaN</td>\n",
       "      <td>NaN</td>\n",
       "      <td>NaN</td>\n",
       "      <td>NaN</td>\n",
       "      <td>NaN</td>\n",
       "      <td>NaN</td>\n",
       "    </tr>\n",
       "    <tr>\n",
       "      <th>4</th>\n",
       "      <td>100.0</td>\n",
       "      <td>There</td>\n",
       "      <td>games_video</td>\n",
       "      <td>acquired</td>\n",
       "      <td>NaN</td>\n",
       "      <td>NaN</td>\n",
       "      <td>there.com</td>\n",
       "      <td>NaN</td>\n",
       "      <td>USA</td>\n",
       "      <td>0.0</td>\n",
       "      <td>...</td>\n",
       "      <td>4.0</td>\n",
       "      <td>NaN</td>\n",
       "      <td>NaN</td>\n",
       "      <td>NaN</td>\n",
       "      <td>NaN</td>\n",
       "      <td>NaN</td>\n",
       "      <td>NaN</td>\n",
       "      <td>NaN</td>\n",
       "      <td>NaN</td>\n",
       "      <td>NaN</td>\n",
       "    </tr>\n",
       "  </tbody>\n",
       "</table>\n",
       "<p>5 rows × 22 columns</p>\n",
       "</div>"
      ],
      "text/plain": [
       "   company  ID      name category  code     status founded  at closed  at  \\\n",
       "0          1.0  Wetpaint            web  operating  2005-10-17        NaN   \n",
       "1          1.0  Wetpaint            web  operating  2005-10-17        NaN   \n",
       "2          1.0  Wetpaint            web  operating  2005-10-17        NaN   \n",
       "3         10.0   Flektor    games_video   acquired         NaN        NaN   \n",
       "4        100.0     There    games_video   acquired         NaN        NaN   \n",
       "\n",
       "             domain network  username country  code  investment  rounds  ...  \\\n",
       "0  wetpaint-inc.com   BachelrWetpaint           USA                 0.0  ...   \n",
       "1  wetpaint-inc.com   BachelrWetpaint           USA                 0.0  ...   \n",
       "2  wetpaint-inc.com   BachelrWetpaint           USA                 0.0  ...   \n",
       "3       flektor.com               NaN           USA                 0.0  ...   \n",
       "4         there.com               NaN           USA                 0.0  ...   \n",
       "\n",
       "   milestones  funding  round  id  company  id  funded  at  \\\n",
       "0         5.0               888.0          1.0  2005-10-01   \n",
       "1         5.0               889.0          1.0  2007-01-01   \n",
       "2         5.0              2312.0          1.0  2008-05-19   \n",
       "3         0.0                 NaN          NaN         NaN   \n",
       "4         4.0                 NaN          NaN         NaN   \n",
       "\n",
       "   funding  round  type raised  amount pre  money  valuation  participants  \\\n",
       "0              series-a      5250000.0                   0.0           2.0   \n",
       "1              series-b      9500000.0                   0.0           3.0   \n",
       "2             series-c+     25000000.0                   0.0           4.0   \n",
       "3                   NaN            NaN                   NaN           NaN   \n",
       "4                   NaN            NaN                   NaN           NaN   \n",
       "\n",
       "   is  first  round  is  last  round  \n",
       "0               0.0              1.0  \n",
       "1               0.0              0.0  \n",
       "2               1.0              0.0  \n",
       "3               NaN              NaN  \n",
       "4               NaN              NaN  \n",
       "\n",
       "[5 rows x 22 columns]"
      ]
     },
     "metadata": {},
     "output_type": "display_data"
    },
    {
     "name": "stdout",
     "output_type": "stream",
     "text": [
      "<class 'pandas.core.frame.DataFrame'>\n",
      "RangeIndex: 217774 entries, 0 to 217773\n",
      "Data columns (total 22 columns):\n",
      " #   Column                 Non-Null Count   Dtype  \n",
      "---  ------                 --------------   -----  \n",
      " 0   company  ID            217472 non-null  float64\n",
      " 1   name                   217471 non-null  object \n",
      " 2   category  code         143886 non-null  object \n",
      " 3   status                 217472 non-null  object \n",
      " 4   founded  at            109956 non-null  object \n",
      " 5   closed  at             3449 non-null    object \n",
      " 6   domain                 147159 non-null  object \n",
      " 7   network  username      95534 non-null   object \n",
      " 8   country  code          108607 non-null  object \n",
      " 9   investment  rounds     217472 non-null  float64\n",
      " 10  funding  rounds        217472 non-null  float64\n",
      " 11  funding  total         217472 non-null  float64\n",
      " 12  milestones             217472 non-null  float64\n",
      " 13  funding  round  id     52928 non-null   float64\n",
      " 14  company  id            52928 non-null   float64\n",
      " 15  funded  at             52680 non-null   object \n",
      " 16  funding  round  type   52928 non-null   object \n",
      " 17  raised  amount         52928 non-null   float64\n",
      " 18  pre  money  valuation  52928 non-null   float64\n",
      " 19  participants           52928 non-null   float64\n",
      " 20  is  first  round       52928 non-null   float64\n",
      " 21  is  last  round        52928 non-null   float64\n",
      "dtypes: float64(12), object(10)\n",
      "memory usage: 36.6+ MB\n"
     ]
    },
    {
     "data": {
      "text/plain": [
       "(None, None)"
      ]
     },
     "execution_count": 14,
     "metadata": {},
     "output_type": "execute_result"
    }
   ],
   "source": [
    "display(cnr_df.head()), cnr_df.info()"
   ]
  },
  {
   "cell_type": "code",
   "execution_count": 15,
   "metadata": {},
   "outputs": [
    {
     "data": {
      "text/plain": [
       "company  ID              0.001387\n",
       "name                     0.001391\n",
       "category  code           0.339288\n",
       "status                   0.001387\n",
       "founded  at              0.495091\n",
       "closed  at               0.984162\n",
       "domain                   0.324258\n",
       "network  username        0.561316\n",
       "country  code            0.501286\n",
       "investment  rounds       0.001387\n",
       "funding  rounds          0.001387\n",
       "funding  total           0.001387\n",
       "milestones               0.001387\n",
       "funding  round  id       0.756959\n",
       "company  id              0.756959\n",
       "funded  at               0.758098\n",
       "funding  round  type     0.756959\n",
       "raised  amount           0.756959\n",
       "pre  money  valuation    0.756959\n",
       "participants             0.756959\n",
       "is  first  round         0.756959\n",
       "is  last  round          0.756959\n",
       "dtype: float64"
      ]
     },
     "execution_count": 15,
     "metadata": {},
     "output_type": "execute_result"
    }
   ],
   "source": [
    "cnr_df.isna().sum()/cnr_df.shape[0]"
   ]
  },
  {
   "cell_type": "markdown",
   "metadata": {},
   "source": [
    "<div class=\"alert alert-info \" role=\"alert\"> <b>\n",
    "    \n",
    "Dataframe `cnr_df` содержит 217774 строк и 22 столбца, описание которых есть в описании данных проекта.\n",
    "\n",
    "Столбцы `company  ID`, `name`, `status` и еще несколько имеют одинаковую долю пропусков - около 0,1%. Видимо данные о нескольких компаний потерялись и такие строки можно удалить, это не повлияет на результат исследования. \n",
    "\n",
    "Так же примерно в половине строк были потеряны дата основания компании и код страны компании.\n",
    "    \n",
    "98% пропусков в `closed at` говорят о том, что 98% компаний в данных - действующие.\n",
    "    \n",
    "Пропуски в `domain` и `network  username` могут свидетельствовать о том, что у компании сайта или социальных сетей.\n",
    "    \n",
    "Почти 34% пропусков в `category  code` могут означать, что компания мультикатегорийная или в списке кодов категорий нет валидного кода для компании. Не исключено, что пропуски были вызваны технической ошибкой\n",
    "    \n",
    "Пропуски в последних 9-ти стобцах с информацией о раундах финансирования одинаково составляют 76% и требуют анализа. Скорее всего пропуски в этих столбцах коррелируют с другими данными, или раунды финансирования были проведены не для всех компаний.<b>"
   ]
  },
  {
   "cell_type": "code",
   "execution_count": 17,
   "metadata": {
    "scrolled": true
   },
   "outputs": [
    {
     "name": "stderr",
     "output_type": "stream",
     "text": [
      "/var/folders/b2/x7ybpd6s277f0mp7f_s013th0000gn/T/ipykernel_18878/495580444.py:5: UserWarning: The argument 'infer_datetime_format' is deprecated and will be removed in a future version. A strict version of it is now the default, see https://pandas.pydata.org/pdeps/0004-consistent-to-datetime-parsing.html. You can safely remove this argument.\n",
      "  cnr_df['founded  at'] = pd.to_datetime(cnr_df['founded  at'], infer_datetime_format=True)\n",
      "/var/folders/b2/x7ybpd6s277f0mp7f_s013th0000gn/T/ipykernel_18878/495580444.py:6: UserWarning: The argument 'infer_datetime_format' is deprecated and will be removed in a future version. A strict version of it is now the default, see https://pandas.pydata.org/pdeps/0004-consistent-to-datetime-parsing.html. You can safely remove this argument.\n",
      "  cnr_df['closed  at'] = pd.to_datetime(cnr_df['closed  at'], infer_datetime_format=True)\n",
      "/var/folders/b2/x7ybpd6s277f0mp7f_s013th0000gn/T/ipykernel_18878/495580444.py:7: UserWarning: The argument 'infer_datetime_format' is deprecated and will be removed in a future version. A strict version of it is now the default, see https://pandas.pydata.org/pdeps/0004-consistent-to-datetime-parsing.html. You can safely remove this argument.\n",
      "  cnr_df['funded  at'] = pd.to_datetime(cnr_df['funded  at'], infer_datetime_format=True)\n"
     ]
    },
    {
     "name": "stdout",
     "output_type": "stream",
     "text": [
      "<class 'pandas.core.frame.DataFrame'>\n",
      "Index: 217471 entries, 0 to 217471\n",
      "Data columns (total 22 columns):\n",
      " #   Column               Non-Null Count   Dtype         \n",
      "---  ------               --------------   -----         \n",
      " 0   company_id           217471 non-null  float64       \n",
      " 1   name                 217471 non-null  object        \n",
      " 2   category_code        143886 non-null  object        \n",
      " 3   status               217471 non-null  object        \n",
      " 4   founded_at           109955 non-null  datetime64[ns]\n",
      " 5   closed_at            3448 non-null    datetime64[ns]\n",
      " 6   domain               147159 non-null  object        \n",
      " 7   network_username     95534 non-null   object        \n",
      " 8   country_code         108607 non-null  object        \n",
      " 9   investment_rounds    217471 non-null  float64       \n",
      " 10  funding_rounds       217471 non-null  float64       \n",
      " 11  funding_total        217471 non-null  float64       \n",
      " 12  milestones           217471 non-null  float64       \n",
      " 13  funding_round_id     52626 non-null   float64       \n",
      " 14  company_id           52626 non-null   float64       \n",
      " 15  funded_at            52382 non-null   datetime64[ns]\n",
      " 16  funding_round_type   52626 non-null   object        \n",
      " 17  raised_amount        52626 non-null   float64       \n",
      " 18  pre_money_valuation  52626 non-null   float64       \n",
      " 19  participants         52626 non-null   float64       \n",
      " 20  is_first_round       52626 non-null   float64       \n",
      " 21  is_last_round        52626 non-null   float64       \n",
      "dtypes: datetime64[ns](3), float64(12), object(7)\n",
      "memory usage: 38.2+ MB\n"
     ]
    }
   ],
   "source": [
    "#Удалю 0,1% строк с пропусками в company ID, name, status, investment  rounds, funding  rounds, funding  total, milestones\n",
    "#И приведу столбцы с датой к оптимульному типу данных\n",
    "#Приведу названия столбцов к более удобному виду\n",
    "\n",
    "cnr_df['founded  at'] = pd.to_datetime(cnr_df['founded  at'], infer_datetime_format=True)\n",
    "cnr_df['closed  at'] = pd.to_datetime(cnr_df['closed  at'], infer_datetime_format=True)\n",
    "cnr_df['funded  at'] = pd.to_datetime(cnr_df['funded  at'], infer_datetime_format=True)\n",
    "\n",
    "cnr_df = cnr_df[cnr_df['name'].notna()]\n",
    "\n",
    "def col_to_snake_case(df):\n",
    "    for col in df.columns:\n",
    "        str_bad = col.lower()\n",
    "        for index_s, item_s in enumerate(str_bad):\n",
    "            if item_s == ' ' and str_bad[index_s + 1] == ' ':\n",
    "                str_bad = str_bad[:index_s] + '_' + str_bad[index_s + 1:]\n",
    "        str_bad = str_bad.replace(' ', '')\n",
    "        df = df.rename(columns={col: str_bad})\n",
    "    return df\n",
    "\n",
    "\n",
    "cnr_df = col_to_snake_case(cnr_df)\n",
    "\n",
    "cnr_df.info()"
   ]
  },
  {
   "cell_type": "code",
   "execution_count": 18,
   "metadata": {},
   "outputs": [],
   "source": [
    "#переименую столбцы с одинаковыми названиями \n",
    "new_columns = list(cnr_df.columns)[:14]\n",
    "new_columns.append('company_id_2')\n",
    "new_columns += list(cnr_df.columns)[15:]\n",
    "\n",
    "cnr_df.columns = new_columns\n"
   ]
  },
  {
   "cell_type": "code",
   "execution_count": 19,
   "metadata": {},
   "outputs": [
    {
     "data": {
      "text/html": [
       "<div>\n",
       "<style scoped>\n",
       "    .dataframe tbody tr th:only-of-type {\n",
       "        vertical-align: middle;\n",
       "    }\n",
       "\n",
       "    .dataframe tbody tr th {\n",
       "        vertical-align: top;\n",
       "    }\n",
       "\n",
       "    .dataframe thead th {\n",
       "        text-align: right;\n",
       "    }\n",
       "</style>\n",
       "<table border=\"1\" class=\"dataframe\">\n",
       "  <thead>\n",
       "    <tr style=\"text-align: right;\">\n",
       "      <th></th>\n",
       "      <th>id</th>\n",
       "      <th>object_id</th>\n",
       "      <th>degree_type</th>\n",
       "      <th>subject</th>\n",
       "    </tr>\n",
       "  </thead>\n",
       "  <tbody>\n",
       "    <tr>\n",
       "      <th>0</th>\n",
       "      <td>1</td>\n",
       "      <td>p:6117</td>\n",
       "      <td>MBA</td>\n",
       "      <td>NaN</td>\n",
       "    </tr>\n",
       "    <tr>\n",
       "      <th>1</th>\n",
       "      <td>2</td>\n",
       "      <td>p:6136</td>\n",
       "      <td>BA</td>\n",
       "      <td>English, French</td>\n",
       "    </tr>\n",
       "    <tr>\n",
       "      <th>2</th>\n",
       "      <td>3</td>\n",
       "      <td>p:6136</td>\n",
       "      <td>MS</td>\n",
       "      <td>Mass Communication</td>\n",
       "    </tr>\n",
       "    <tr>\n",
       "      <th>3</th>\n",
       "      <td>4</td>\n",
       "      <td>p:6005</td>\n",
       "      <td>MS</td>\n",
       "      <td>Internet Technology</td>\n",
       "    </tr>\n",
       "    <tr>\n",
       "      <th>4</th>\n",
       "      <td>5</td>\n",
       "      <td>p:5832</td>\n",
       "      <td>BCS</td>\n",
       "      <td>Computer Science, Psychology</td>\n",
       "    </tr>\n",
       "  </tbody>\n",
       "</table>\n",
       "</div>"
      ],
      "text/plain": [
       "   id object_id degree_type                       subject\n",
       "0   1    p:6117         MBA                           NaN\n",
       "1   2    p:6136          BA               English, French\n",
       "2   3    p:6136          MS            Mass Communication\n",
       "3   4    p:6005          MS           Internet Technology\n",
       "4   5    p:5832         BCS  Computer Science, Psychology"
      ]
     },
     "metadata": {},
     "output_type": "display_data"
    },
    {
     "name": "stdout",
     "output_type": "stream",
     "text": [
      "<class 'pandas.core.frame.DataFrame'>\n",
      "RangeIndex: 109610 entries, 0 to 109609\n",
      "Data columns (total 4 columns):\n",
      " #   Column       Non-Null Count   Dtype \n",
      "---  ------       --------------   ----- \n",
      " 0   id           109610 non-null  int64 \n",
      " 1   object_id    109610 non-null  object\n",
      " 2   degree_type  98389 non-null   object\n",
      " 3   subject      81298 non-null   object\n",
      "dtypes: int64(1), object(3)\n",
      "memory usage: 3.3+ MB\n"
     ]
    },
    {
     "data": {
      "text/plain": [
       "(None, None)"
      ]
     },
     "execution_count": 19,
     "metadata": {},
     "output_type": "execute_result"
    }
   ],
   "source": [
    "display(degrees_df.head()), degrees_df.info()"
   ]
  },
  {
   "cell_type": "code",
   "execution_count": 20,
   "metadata": {},
   "outputs": [
    {
     "data": {
      "text/plain": [
       "id             0.000000\n",
       "object_id      0.000000\n",
       "degree_type    0.102372\n",
       "subject        0.258298\n",
       "dtype: float64"
      ]
     },
     "execution_count": 20,
     "metadata": {},
     "output_type": "execute_result"
    }
   ],
   "source": [
    "degrees_df.isna().sum()/degrees_df.shape[0]"
   ]
  },
  {
   "cell_type": "markdown",
   "metadata": {},
   "source": [
    "<div class=\"alert alert-info \" role=\"alert\"> <b>\n",
    "    \n",
    "Dataframe `degrees_df` содержит 109610 строк и 4 столбца, описание которых есть в описании данных проекта.\n",
    "\n",
    "10% пропусков в `degree_type` могут означать, что у сотрудника нет научной степени, 26% пропусков в `subject` могут включать как тех, кто не имеет научной степени, так и тех, о ком не указана информация об их специальности.\n",
    "<b>"
   ]
  },
  {
   "cell_type": "code",
   "execution_count": 22,
   "metadata": {},
   "outputs": [
    {
     "data": {
      "text/html": [
       "<div>\n",
       "<style scoped>\n",
       "    .dataframe tbody tr th:only-of-type {\n",
       "        vertical-align: middle;\n",
       "    }\n",
       "\n",
       "    .dataframe tbody tr th {\n",
       "        vertical-align: top;\n",
       "    }\n",
       "\n",
       "    .dataframe thead th {\n",
       "        text-align: right;\n",
       "    }\n",
       "</style>\n",
       "<table border=\"1\" class=\"dataframe\">\n",
       "  <thead>\n",
       "    <tr style=\"text-align: right;\">\n",
       "      <th></th>\n",
       "      <th>id</th>\n",
       "      <th>person_id</th>\n",
       "      <th>instituition</th>\n",
       "      <th>graduated_at</th>\n",
       "    </tr>\n",
       "  </thead>\n",
       "  <tbody>\n",
       "    <tr>\n",
       "      <th>0</th>\n",
       "      <td>1</td>\n",
       "      <td>6117</td>\n",
       "      <td>NaN</td>\n",
       "      <td>NaN</td>\n",
       "    </tr>\n",
       "    <tr>\n",
       "      <th>1</th>\n",
       "      <td>2</td>\n",
       "      <td>6136</td>\n",
       "      <td>Washington University, St. Louis</td>\n",
       "      <td>1990-01-01</td>\n",
       "    </tr>\n",
       "    <tr>\n",
       "      <th>2</th>\n",
       "      <td>3</td>\n",
       "      <td>6136</td>\n",
       "      <td>Boston University</td>\n",
       "      <td>1992-01-01</td>\n",
       "    </tr>\n",
       "    <tr>\n",
       "      <th>3</th>\n",
       "      <td>4</td>\n",
       "      <td>6005</td>\n",
       "      <td>University of Greenwich</td>\n",
       "      <td>2006-01-01</td>\n",
       "    </tr>\n",
       "    <tr>\n",
       "      <th>4</th>\n",
       "      <td>5</td>\n",
       "      <td>5832</td>\n",
       "      <td>Rice University</td>\n",
       "      <td>NaN</td>\n",
       "    </tr>\n",
       "  </tbody>\n",
       "</table>\n",
       "</div>"
      ],
      "text/plain": [
       "   id  person_id                      instituition graduated_at\n",
       "0   1       6117                               NaN          NaN\n",
       "1   2       6136  Washington University, St. Louis   1990-01-01\n",
       "2   3       6136                 Boston University   1992-01-01\n",
       "3   4       6005           University of Greenwich   2006-01-01\n",
       "4   5       5832                   Rice University          NaN"
      ]
     },
     "metadata": {},
     "output_type": "display_data"
    },
    {
     "name": "stdout",
     "output_type": "stream",
     "text": [
      "<class 'pandas.core.frame.DataFrame'>\n",
      "RangeIndex: 109610 entries, 0 to 109609\n",
      "Data columns (total 4 columns):\n",
      " #   Column        Non-Null Count   Dtype \n",
      "---  ------        --------------   ----- \n",
      " 0   id            109610 non-null  int64 \n",
      " 1   person_id     109610 non-null  int64 \n",
      " 2   instituition  109555 non-null  object\n",
      " 3   graduated_at  58054 non-null   object\n",
      "dtypes: int64(2), object(2)\n",
      "memory usage: 3.3+ MB\n"
     ]
    },
    {
     "data": {
      "text/plain": [
       "(None, None)"
      ]
     },
     "execution_count": 22,
     "metadata": {},
     "output_type": "execute_result"
    }
   ],
   "source": [
    "display(education_df.head()), education_df.info()"
   ]
  },
  {
   "cell_type": "code",
   "execution_count": 23,
   "metadata": {},
   "outputs": [
    {
     "data": {
      "text/plain": [
       "id              0.000000\n",
       "person_id       0.000000\n",
       "instituition    0.000502\n",
       "graduated_at    0.470359\n",
       "dtype: float64"
      ]
     },
     "execution_count": 23,
     "metadata": {},
     "output_type": "execute_result"
    }
   ],
   "source": [
    "education_df.isna().sum()/education_df.shape[0]"
   ]
  },
  {
   "cell_type": "markdown",
   "metadata": {},
   "source": [
    "<div class=\"alert alert-info \" role=\"alert\"> <b>\n",
    "    \n",
    "Dataframe `education_df` содержит 109610 строк и 4 столбца, описание которых есть в описании данных проекта.\n",
    "\n",
    "Менее 0.1% пропусков в `instituition` могут быть вызваны технической ошибкой, либо говорить о том, что сотрудник не заканчивал институт. 47% пропусков в `graduated_at` могут включать в себя сотрудников, которые еще в процессе обучения и не имееют ученой степени.\n",
    "<b>"
   ]
  },
  {
   "cell_type": "code",
   "execution_count": 25,
   "metadata": {},
   "outputs": [
    {
     "data": {
      "text/html": [
       "<div>\n",
       "<style scoped>\n",
       "    .dataframe tbody tr th:only-of-type {\n",
       "        vertical-align: middle;\n",
       "    }\n",
       "\n",
       "    .dataframe tbody tr th {\n",
       "        vertical-align: top;\n",
       "    }\n",
       "\n",
       "    .dataframe thead th {\n",
       "        text-align: right;\n",
       "    }\n",
       "</style>\n",
       "<table border=\"1\" class=\"dataframe\">\n",
       "  <thead>\n",
       "    <tr style=\"text-align: right;\">\n",
       "      <th></th>\n",
       "      <th>id</th>\n",
       "      <th>first_name</th>\n",
       "      <th>last_name</th>\n",
       "      <th>company_id</th>\n",
       "      <th>network_username</th>\n",
       "    </tr>\n",
       "  </thead>\n",
       "  <tbody>\n",
       "    <tr>\n",
       "      <th>0</th>\n",
       "      <td>10</td>\n",
       "      <td>Mark</td>\n",
       "      <td>Zuckerberg</td>\n",
       "      <td>5.0</td>\n",
       "      <td>NaN</td>\n",
       "    </tr>\n",
       "    <tr>\n",
       "      <th>1</th>\n",
       "      <td>100</td>\n",
       "      <td>Peter</td>\n",
       "      <td>Lester</td>\n",
       "      <td>27.0</td>\n",
       "      <td>NaN</td>\n",
       "    </tr>\n",
       "    <tr>\n",
       "      <th>2</th>\n",
       "      <td>1000</td>\n",
       "      <td>Dr. Steven</td>\n",
       "      <td>E. Saunders</td>\n",
       "      <td>292.0</td>\n",
       "      <td>NaN</td>\n",
       "    </tr>\n",
       "    <tr>\n",
       "      <th>3</th>\n",
       "      <td>10000</td>\n",
       "      <td>Neil</td>\n",
       "      <td>Capel</td>\n",
       "      <td>2526.0</td>\n",
       "      <td>NaN</td>\n",
       "    </tr>\n",
       "    <tr>\n",
       "      <th>4</th>\n",
       "      <td>100000</td>\n",
       "      <td>Sue</td>\n",
       "      <td>Pilsch</td>\n",
       "      <td>NaN</td>\n",
       "      <td>NaN</td>\n",
       "    </tr>\n",
       "  </tbody>\n",
       "</table>\n",
       "</div>"
      ],
      "text/plain": [
       "       id  first_name    last_name  company_id network_username\n",
       "0      10        Mark   Zuckerberg         5.0              NaN\n",
       "1     100       Peter       Lester        27.0              NaN\n",
       "2    1000  Dr. Steven  E. Saunders       292.0              NaN\n",
       "3   10000        Neil        Capel      2526.0              NaN\n",
       "4  100000         Sue       Pilsch         NaN              NaN"
      ]
     },
     "metadata": {},
     "output_type": "display_data"
    },
    {
     "name": "stdout",
     "output_type": "stream",
     "text": [
      "<class 'pandas.core.frame.DataFrame'>\n",
      "RangeIndex: 226709 entries, 0 to 226708\n",
      "Data columns (total 5 columns):\n",
      " #   Column            Non-Null Count   Dtype  \n",
      "---  ------            --------------   -----  \n",
      " 0   id                226709 non-null  int64  \n",
      " 1   first_name        226700 non-null  object \n",
      " 2   last_name         226705 non-null  object \n",
      " 3   company_id        34615 non-null   float64\n",
      " 4   network_username  38867 non-null   object \n",
      "dtypes: float64(1), int64(1), object(3)\n",
      "memory usage: 8.6+ MB\n"
     ]
    },
    {
     "data": {
      "text/plain": [
       "(None, None)"
      ]
     },
     "execution_count": 25,
     "metadata": {},
     "output_type": "execute_result"
    }
   ],
   "source": [
    "display(people_df.head()), people_df.info()"
   ]
  },
  {
   "cell_type": "code",
   "execution_count": 26,
   "metadata": {},
   "outputs": [
    {
     "data": {
      "text/plain": [
       "id                  0.000000\n",
       "first_name          0.000040\n",
       "last_name           0.000018\n",
       "company_id          0.847315\n",
       "network_username    0.828560\n",
       "dtype: float64"
      ]
     },
     "execution_count": 26,
     "metadata": {},
     "output_type": "execute_result"
    }
   ],
   "source": [
    "people_df.isna().sum()/people_df.shape[0]"
   ]
  },
  {
   "cell_type": "markdown",
   "metadata": {},
   "source": [
    "<div class=\"alert alert-info \" role=\"alert\"> <b>\n",
    "    \n",
    "Dataframe `people_df` содержит 226709 строк и 5 столбцов, описание которых есть в описании данных проекта.\n",
    "\n",
    "Менее 0.1% пропусков в `first_name` могут быть вызваны технической ошибкой. \n",
    "    \n",
    "83% пропусков в `network_username` могут включать в себя сотрудников, которые не захотели указывать соответсующую информацию о себе или не имеют социальных сетей.\n",
    " \n",
    "85% пропусков в `company_id` скорее всего вызваны тем, что данные были неправильно подтянуты. К сожалению, большое количество пропусков в этом столбце не позволят анализировать образование сотрудников в разрезе разных стартапов или стран. \n",
    "  \n",
    "<b>"
   ]
  },
  {
   "cell_type": "markdown",
   "metadata": {
    "id": "FsL0A8RBrJg1"
   },
   "source": [
    " <div class=\"alert alert-info \" role=\"alert\"> <b>    \n",
    " В общем и целом в данных содержится много пропусков, однако это не помешает ответить на вопросы заказчика. \n",
    " Большинство данных имеет тип Float. \n",
    "    \n",
    "В ходе знакомства с данными были оптимизированы названия столбцов и данные содержащие дату приведены к типу datetime\n",
    "    \n",
    "    Первичное знакомтсво показывает, что данные соответсвуют своему описанию, хотя и содержат в себе много пропусков. Названия столбцов коретные, отображают содержащиеся значения.\n",
    "<b>"
   ]
  },
  {
   "cell_type": "markdown",
   "metadata": {
    "id": "u60cHsn6rJg1"
   },
   "source": [
    "## Шаг 2. Предобработка данных, предварительное исследование"
   ]
  },
  {
   "cell_type": "markdown",
   "metadata": {
    "id": "g2bHIIjcrJg1"
   },
   "source": [
    "\n",
    "### 2.1. Раунды финансирования по годам\n",
    "\n",
    "\n",
    "Что бы ответить на поставленные вопросы создам сводную таблицу по полю годам:\n",
    "\n",
    "* В каком году типичный размер собранных в рамках одного раунда средств был максимален?\n",
    "\n",
    "* Какая тенденция по количеству раундов и выделяемых в рамках каждого раунда средств наблюдалась в 2013 году?"
   ]
  },
  {
   "cell_type": "code",
   "execution_count": 31,
   "metadata": {
    "id": "ovyDibxNrJg1",
    "scrolled": true
   },
   "outputs": [
    {
     "data": {
      "text/html": [
       "<div>\n",
       "<style scoped>\n",
       "    .dataframe tbody tr th:only-of-type {\n",
       "        vertical-align: middle;\n",
       "    }\n",
       "\n",
       "    .dataframe tbody tr th {\n",
       "        vertical-align: top;\n",
       "    }\n",
       "\n",
       "    .dataframe thead th {\n",
       "        text-align: right;\n",
       "    }\n",
       "</style>\n",
       "<table border=\"1\" class=\"dataframe\">\n",
       "  <thead>\n",
       "    <tr style=\"text-align: right;\">\n",
       "      <th></th>\n",
       "      <th>years</th>\n",
       "      <th>median</th>\n",
       "      <th>count</th>\n",
       "    </tr>\n",
       "  </thead>\n",
       "  <tbody>\n",
       "    <tr>\n",
       "      <th>15</th>\n",
       "      <td>1999.0</td>\n",
       "      <td>2000000.0</td>\n",
       "      <td>76</td>\n",
       "    </tr>\n",
       "    <tr>\n",
       "      <th>16</th>\n",
       "      <td>2000.0</td>\n",
       "      <td>4200000.0</td>\n",
       "      <td>125</td>\n",
       "    </tr>\n",
       "    <tr>\n",
       "      <th>17</th>\n",
       "      <td>2001.0</td>\n",
       "      <td>3000000.0</td>\n",
       "      <td>95</td>\n",
       "    </tr>\n",
       "    <tr>\n",
       "      <th>18</th>\n",
       "      <td>2002.0</td>\n",
       "      <td>4200000.0</td>\n",
       "      <td>115</td>\n",
       "    </tr>\n",
       "    <tr>\n",
       "      <th>19</th>\n",
       "      <td>2003.0</td>\n",
       "      <td>3000000.0</td>\n",
       "      <td>154</td>\n",
       "    </tr>\n",
       "    <tr>\n",
       "      <th>20</th>\n",
       "      <td>2004.0</td>\n",
       "      <td>5000000.0</td>\n",
       "      <td>286</td>\n",
       "    </tr>\n",
       "    <tr>\n",
       "      <th>21</th>\n",
       "      <td>2005.0</td>\n",
       "      <td>5500000.0</td>\n",
       "      <td>1624</td>\n",
       "    </tr>\n",
       "    <tr>\n",
       "      <th>22</th>\n",
       "      <td>2006.0</td>\n",
       "      <td>5000000.0</td>\n",
       "      <td>2409</td>\n",
       "    </tr>\n",
       "    <tr>\n",
       "      <th>23</th>\n",
       "      <td>2007.0</td>\n",
       "      <td>4000000.0</td>\n",
       "      <td>3220</td>\n",
       "    </tr>\n",
       "    <tr>\n",
       "      <th>24</th>\n",
       "      <td>2008.0</td>\n",
       "      <td>3152000.0</td>\n",
       "      <td>3735</td>\n",
       "    </tr>\n",
       "    <tr>\n",
       "      <th>25</th>\n",
       "      <td>2009.0</td>\n",
       "      <td>2000000.0</td>\n",
       "      <td>4112</td>\n",
       "    </tr>\n",
       "    <tr>\n",
       "      <th>26</th>\n",
       "      <td>2010.0</td>\n",
       "      <td>1625290.0</td>\n",
       "      <td>6194</td>\n",
       "    </tr>\n",
       "    <tr>\n",
       "      <th>27</th>\n",
       "      <td>2011.0</td>\n",
       "      <td>1200000.0</td>\n",
       "      <td>9162</td>\n",
       "    </tr>\n",
       "    <tr>\n",
       "      <th>28</th>\n",
       "      <td>2012.0</td>\n",
       "      <td>1000000.0</td>\n",
       "      <td>9956</td>\n",
       "    </tr>\n",
       "    <tr>\n",
       "      <th>29</th>\n",
       "      <td>2013.0</td>\n",
       "      <td>1200000.0</td>\n",
       "      <td>11042</td>\n",
       "    </tr>\n",
       "  </tbody>\n",
       "</table>\n",
       "</div>"
      ],
      "text/plain": [
       "     years     median  count\n",
       "15  1999.0  2000000.0     76\n",
       "16  2000.0  4200000.0    125\n",
       "17  2001.0  3000000.0     95\n",
       "18  2002.0  4200000.0    115\n",
       "19  2003.0  3000000.0    154\n",
       "20  2004.0  5000000.0    286\n",
       "21  2005.0  5500000.0   1624\n",
       "22  2006.0  5000000.0   2409\n",
       "23  2007.0  4000000.0   3220\n",
       "24  2008.0  3152000.0   3735\n",
       "25  2009.0  2000000.0   4112\n",
       "26  2010.0  1625290.0   6194\n",
       "27  2011.0  1200000.0   9162\n",
       "28  2012.0  1000000.0   9956\n",
       "29  2013.0  1200000.0  11042"
      ]
     },
     "execution_count": 31,
     "metadata": {},
     "output_type": "execute_result"
    }
   ],
   "source": [
    "cnr_df['year_of_funding_round'] = cnr_df['funded_at'].dt.year\n",
    "\n",
    "pivot_rounds = pd.pivot_table(cnr_df, index = 'year_of_funding_round', \n",
    "                              values=['raised_amount'], aggfunc=['median', 'count']).reset_index()\n",
    "pivot_rounds.columns=['years', 'median', 'count']\n",
    "pivot_rounds = pivot_rounds[pivot_rounds['count'] > 50]\n",
    "\n",
    "pivot_rounds"
   ]
  },
  {
   "cell_type": "markdown",
   "metadata": {},
   "source": [
    "Построю линейную диаграмму, чтобы посмотреть динамику типичного размера средств, которые получали стартапы на одном круге финансирования"
   ]
  },
  {
   "cell_type": "code",
   "execution_count": 33,
   "metadata": {
    "id": "HB81GTA9n04M"
   },
   "outputs": [
    {
     "data": {
      "image/png": "[encoded data removed]",
      "text/plain": [
       "<Figure size 1200x500 with 1 Axes>"
      ]
     },
     "metadata": {},
     "output_type": "display_data"
    }
   ],
   "source": [
    "plt.rcParams[\"figure.figsize\"] = (12,5)\n",
    "\n",
    "pivot_rounds.plot(x='years', y='median', marker='o', markersize=7, legend=False, grid=True)\n",
    "\n",
    "plt.xlabel('Год')\n",
    "plt.ylabel('Типичный размер средств, млн. руб.')\n",
    "plt.xticks(np.arange(1999, 2014, 1.0))\n",
    "\n",
    "plt.show()"
   ]
  },
  {
   "cell_type": "markdown",
   "metadata": {},
   "source": [
    "<div class=\"alert alert-info \" role=\"alert\"> <b>\n",
    "    \n",
    "По приведенным данным видно:\n",
    "- в 2005 типичный размер финансирования на одном круге был максимальным за период с 1999 по 2013 и составлял > 5,5 млн рублей\n",
    "- Однако начиная с 2005 года началась тенденция на увеличение числа раундов финансирования в целом, и с 1624 в 2005 году это число увеличелось до 11042 в 2013 году\n",
    "  \n",
    "<b>"
   ]
  },
  {
   "cell_type": "markdown",
   "metadata": {
    "id": "45if1en1rJg2"
   },
   "source": [
    "\n",
    "### 2.2. Люди и их образование\n",
    "\n"
   ]
  },
  {
   "cell_type": "markdown",
   "metadata": {},
   "source": [
    "Для начала анализа образования сотрудников, соединю два ДатаФрейма с людьми и их образованием"
   ]
  },
  {
   "cell_type": "code",
   "execution_count": 37,
   "metadata": {
    "id": "psPO7C4MrJg2"
   },
   "outputs": [
    {
     "data": {
      "text/html": [
       "<div>\n",
       "<style scoped>\n",
       "    .dataframe tbody tr th:only-of-type {\n",
       "        vertical-align: middle;\n",
       "    }\n",
       "\n",
       "    .dataframe tbody tr th {\n",
       "        vertical-align: top;\n",
       "    }\n",
       "\n",
       "    .dataframe thead th {\n",
       "        text-align: right;\n",
       "    }\n",
       "</style>\n",
       "<table border=\"1\" class=\"dataframe\">\n",
       "  <thead>\n",
       "    <tr style=\"text-align: right;\">\n",
       "      <th></th>\n",
       "      <th>company_id</th>\n",
       "      <th>id</th>\n",
       "      <th>is_inst</th>\n",
       "    </tr>\n",
       "  </thead>\n",
       "  <tbody>\n",
       "    <tr>\n",
       "      <th>0</th>\n",
       "      <td>59.0</td>\n",
       "      <td>244</td>\n",
       "      <td>168</td>\n",
       "    </tr>\n",
       "    <tr>\n",
       "      <th>1</th>\n",
       "      <td>29.0</td>\n",
       "      <td>150</td>\n",
       "      <td>110</td>\n",
       "    </tr>\n",
       "    <tr>\n",
       "      <th>2</th>\n",
       "      <td>1242.0</td>\n",
       "      <td>138</td>\n",
       "      <td>101</td>\n",
       "    </tr>\n",
       "    <tr>\n",
       "      <th>3</th>\n",
       "      <td>231067.0</td>\n",
       "      <td>72</td>\n",
       "      <td>58</td>\n",
       "    </tr>\n",
       "    <tr>\n",
       "      <th>4</th>\n",
       "      <td>499.0</td>\n",
       "      <td>63</td>\n",
       "      <td>43</td>\n",
       "    </tr>\n",
       "    <tr>\n",
       "      <th>5</th>\n",
       "      <td>5.0</td>\n",
       "      <td>61</td>\n",
       "      <td>45</td>\n",
       "    </tr>\n",
       "    <tr>\n",
       "      <th>6</th>\n",
       "      <td>494.0</td>\n",
       "      <td>56</td>\n",
       "      <td>36</td>\n",
       "    </tr>\n",
       "    <tr>\n",
       "      <th>7</th>\n",
       "      <td>4175.0</td>\n",
       "      <td>56</td>\n",
       "      <td>49</td>\n",
       "    </tr>\n",
       "    <tr>\n",
       "      <th>8</th>\n",
       "      <td>12.0</td>\n",
       "      <td>51</td>\n",
       "      <td>26</td>\n",
       "    </tr>\n",
       "    <tr>\n",
       "      <th>9</th>\n",
       "      <td>317.0</td>\n",
       "      <td>48</td>\n",
       "      <td>41</td>\n",
       "    </tr>\n",
       "  </tbody>\n",
       "</table>\n",
       "</div>"
      ],
      "text/plain": [
       "   company_id   id  is_inst\n",
       "0        59.0  244      168\n",
       "1        29.0  150      110\n",
       "2      1242.0  138      101\n",
       "3    231067.0   72       58\n",
       "4       499.0   63       43\n",
       "5         5.0   61       45\n",
       "6       494.0   56       36\n",
       "7      4175.0   56       49\n",
       "8        12.0   51       26\n",
       "9       317.0   48       41"
      ]
     },
     "execution_count": 37,
     "metadata": {},
     "output_type": "execute_result"
    }
   ],
   "source": [
    "employees = people_df.merge(education_df[['person_id','instituition', 'graduated_at']], \n",
    "                            how='left', left_on='id', right_on='person_id')\n",
    "#Удалю дубликаты по 'id', на случай если есть несколько записей об одном сотруднике,\n",
    "#если он заканчивал несколько институтов. Мы потеряем часть информации об институтах, но сохраним число людей, об образовании которых есть информация\n",
    "employees = employees.drop_duplicates(subset='id')\n",
    "\n",
    "#Создам столбец \"is_inst\", который покажет, есть ли информация об институте сотрудника. Именно эту информацию будем считать за информацию об образовании\n",
    "employees['is_inst'] = employees['instituition'].notna()\n",
    "\n",
    "#Создам dataframe с компаниями и количеством сотрудников и колличеством сотрудников с информацией об институте\n",
    "company_edu = employees.groupby('company_id').agg({'id':'count', 'is_inst':'sum'}).sort_values(by='id', ascending=False).reset_index()\n",
    "\n",
    "\n",
    "company_edu.head(10)"
   ]
  },
  {
   "cell_type": "code",
   "execution_count": 38,
   "metadata": {
    "id": "xdQ6H5ZSn1ZM"
   },
   "outputs": [
    {
     "name": "stdout",
     "output_type": "stream",
     "text": [
      "Всего 18116 компаний с числом сотудников: 1\n",
      "\n",
      "Всего 2709 компаний с числом сотудников: 2\n",
      "\n",
      "Всего 921 компаний с числом сотудников: 3\n",
      "\n",
      "Всего 450 компаний с числом сотудников: 4\n",
      "\n",
      "Всего 237 компаний с числом сотудников: 5\n",
      "\n",
      "Всего 138 компаний с числом сотудников: 6\n",
      "\n",
      "Всего 100 компаний с числом сотудников: 7\n",
      "\n",
      "Всего 59 компаний с числом сотудников: 8\n",
      "\n",
      "Всего 46 компаний с числом сотудников: 9\n",
      "\n",
      "Всего 25 компаний с числом сотудников: 10\n",
      "\n"
     ]
    },
    {
     "name": "stderr",
     "output_type": "stream",
     "text": [
      "/var/folders/b2/x7ybpd6s277f0mp7f_s013th0000gn/T/ipykernel_18878/644720835.py:4: FutureWarning: Series.__getitem__ treating keys as positions is deprecated. In a future version, integer keys will always be treated as labels (consistent with DataFrame behavior). To access a value by position, use `ser.iloc[pos]`\n",
      "  num_pips = company_edu[company_edu['id'] == i].count()[0]\n",
      "/var/folders/b2/x7ybpd6s277f0mp7f_s013th0000gn/T/ipykernel_18878/644720835.py:4: FutureWarning: Series.__getitem__ treating keys as positions is deprecated. In a future version, integer keys will always be treated as labels (consistent with DataFrame behavior). To access a value by position, use `ser.iloc[pos]`\n",
      "  num_pips = company_edu[company_edu['id'] == i].count()[0]\n",
      "/var/folders/b2/x7ybpd6s277f0mp7f_s013th0000gn/T/ipykernel_18878/644720835.py:4: FutureWarning: Series.__getitem__ treating keys as positions is deprecated. In a future version, integer keys will always be treated as labels (consistent with DataFrame behavior). To access a value by position, use `ser.iloc[pos]`\n",
      "  num_pips = company_edu[company_edu['id'] == i].count()[0]\n",
      "/var/folders/b2/x7ybpd6s277f0mp7f_s013th0000gn/T/ipykernel_18878/644720835.py:4: FutureWarning: Series.__getitem__ treating keys as positions is deprecated. In a future version, integer keys will always be treated as labels (consistent with DataFrame behavior). To access a value by position, use `ser.iloc[pos]`\n",
      "  num_pips = company_edu[company_edu['id'] == i].count()[0]\n",
      "/var/folders/b2/x7ybpd6s277f0mp7f_s013th0000gn/T/ipykernel_18878/644720835.py:4: FutureWarning: Series.__getitem__ treating keys as positions is deprecated. In a future version, integer keys will always be treated as labels (consistent with DataFrame behavior). To access a value by position, use `ser.iloc[pos]`\n",
      "  num_pips = company_edu[company_edu['id'] == i].count()[0]\n",
      "/var/folders/b2/x7ybpd6s277f0mp7f_s013th0000gn/T/ipykernel_18878/644720835.py:4: FutureWarning: Series.__getitem__ treating keys as positions is deprecated. In a future version, integer keys will always be treated as labels (consistent with DataFrame behavior). To access a value by position, use `ser.iloc[pos]`\n",
      "  num_pips = company_edu[company_edu['id'] == i].count()[0]\n",
      "/var/folders/b2/x7ybpd6s277f0mp7f_s013th0000gn/T/ipykernel_18878/644720835.py:4: FutureWarning: Series.__getitem__ treating keys as positions is deprecated. In a future version, integer keys will always be treated as labels (consistent with DataFrame behavior). To access a value by position, use `ser.iloc[pos]`\n",
      "  num_pips = company_edu[company_edu['id'] == i].count()[0]\n",
      "/var/folders/b2/x7ybpd6s277f0mp7f_s013th0000gn/T/ipykernel_18878/644720835.py:4: FutureWarning: Series.__getitem__ treating keys as positions is deprecated. In a future version, integer keys will always be treated as labels (consistent with DataFrame behavior). To access a value by position, use `ser.iloc[pos]`\n",
      "  num_pips = company_edu[company_edu['id'] == i].count()[0]\n",
      "/var/folders/b2/x7ybpd6s277f0mp7f_s013th0000gn/T/ipykernel_18878/644720835.py:4: FutureWarning: Series.__getitem__ treating keys as positions is deprecated. In a future version, integer keys will always be treated as labels (consistent with DataFrame behavior). To access a value by position, use `ser.iloc[pos]`\n",
      "  num_pips = company_edu[company_edu['id'] == i].count()[0]\n",
      "/var/folders/b2/x7ybpd6s277f0mp7f_s013th0000gn/T/ipykernel_18878/644720835.py:4: FutureWarning: Series.__getitem__ treating keys as positions is deprecated. In a future version, integer keys will always be treated as labels (consistent with DataFrame behavior). To access a value by position, use `ser.iloc[pos]`\n",
      "  num_pips = company_edu[company_edu['id'] == i].count()[0]\n"
     ]
    }
   ],
   "source": [
    "# Чтобы решить, на какие группы по числу сотрудников стоит разделить компании, посчитаю, сколько компаний имеют в штате от 1 до 10 сотрудников, так как у меня есть гипотеза, что таких компаний большинство\n",
    "\n",
    "for i in range(1, 11):\n",
    "    num_pips = company_edu[company_edu['id'] == i].count()[0]\n",
    "    print(f'Всего {num_pips} компаний с числом сотудников: {i}', end='\\n\\n')"
   ]
  },
  {
   "cell_type": "markdown",
   "metadata": {},
   "source": [
    "Мы видим, что абсолютное большинство стартапов состоит из 1 сотрудника - 18116. Предлагаю такие компании выделить в отдельную категорию. Числа компаний с 2 и 3 сотрудниками так же имею большой развыв от других компании и состоавляют 2709 и 921 соответсвенно. По первым строкам таблицы мы видим, что компании с числом сотрудников > 100 скорее исключение и встречаются крайне редко, поэтому выделим в категории компании с числом сотрудников > 10. И остается последняя категория - от 4 до 10 сотрудников."
   ]
  },
  {
   "cell_type": "code",
   "execution_count": 40,
   "metadata": {},
   "outputs": [
    {
     "data": {
      "text/html": [
       "<div>\n",
       "<style scoped>\n",
       "    .dataframe tbody tr th:only-of-type {\n",
       "        vertical-align: middle;\n",
       "    }\n",
       "\n",
       "    .dataframe tbody tr th {\n",
       "        vertical-align: top;\n",
       "    }\n",
       "\n",
       "    .dataframe thead th {\n",
       "        text-align: right;\n",
       "    }\n",
       "</style>\n",
       "<table border=\"1\" class=\"dataframe\">\n",
       "  <thead>\n",
       "    <tr style=\"text-align: right;\">\n",
       "      <th></th>\n",
       "      <th>id</th>\n",
       "      <th>is_inst</th>\n",
       "      <th>share_is_inst</th>\n",
       "    </tr>\n",
       "    <tr>\n",
       "      <th>cat_of_com</th>\n",
       "      <th></th>\n",
       "      <th></th>\n",
       "      <th></th>\n",
       "    </tr>\n",
       "  </thead>\n",
       "  <tbody>\n",
       "    <tr>\n",
       "      <th>1 employee</th>\n",
       "      <td>18116</td>\n",
       "      <td>9726</td>\n",
       "      <td>0.536873</td>\n",
       "    </tr>\n",
       "    <tr>\n",
       "      <th>2 or 3</th>\n",
       "      <td>8181</td>\n",
       "      <td>4303</td>\n",
       "      <td>0.525975</td>\n",
       "    </tr>\n",
       "    <tr>\n",
       "      <th>&gt; 10</th>\n",
       "      <td>2668</td>\n",
       "      <td>1678</td>\n",
       "      <td>0.628936</td>\n",
       "    </tr>\n",
       "    <tr>\n",
       "      <th>&gt; 3</th>\n",
       "      <td>5649</td>\n",
       "      <td>2735</td>\n",
       "      <td>0.484156</td>\n",
       "    </tr>\n",
       "  </tbody>\n",
       "</table>\n",
       "</div>"
      ],
      "text/plain": [
       "               id  is_inst  share_is_inst\n",
       "cat_of_com                               \n",
       "1 employee  18116     9726       0.536873\n",
       "2 or 3       8181     4303       0.525975\n",
       "> 10         2668     1678       0.628936\n",
       "> 3          5649     2735       0.484156"
      ]
     },
     "execution_count": 40,
     "metadata": {},
     "output_type": "execute_result"
    }
   ],
   "source": [
    "#Напишу функцию для категоризации данных\n",
    "\n",
    "def categorize_company(row):\n",
    "    if row['id'] > 10:\n",
    "        return '> 10'\n",
    "    elif row['id'] > 3:\n",
    "        return '> 3'\n",
    "    elif row['id'] > 1:\n",
    "        return '2 or 3'\n",
    "    else:\n",
    "        return '1 employee'\n",
    "    \n",
    "company_edu['cat_of_com'] = company_edu.apply(categorize_company, axis=1)\n",
    "\n",
    "#Сделаю сводник для подсчета долей пропусков в информации об образовании по категориям компаний\n",
    "\n",
    "for_bar_com_edu = company_edu.groupby('cat_of_com').agg({'id':'sum', 'is_inst':'sum'})\n",
    "for_bar_com_edu['share_is_inst'] = for_bar_com_edu['is_inst'] / for_bar_com_edu['id']\n",
    "\n",
    "for_bar_com_edu"
   ]
  },
  {
   "cell_type": "code",
   "execution_count": 41,
   "metadata": {},
   "outputs": [
    {
     "data": {
      "image/png": "[encoded data removed]",
      "text/plain": [
       "<Figure size 800x500 with 1 Axes>"
      ]
     },
     "metadata": {},
     "output_type": "display_data"
    }
   ],
   "source": [
    "plt.rcParams[\"figure.figsize\"] = (8,5)\n",
    "\n",
    "for_bar_com_edu[['share_is_inst']].sort_values(by='share_is_inst').plot(kind='bar', grid=True)\n",
    "\n",
    "plt.xlabel('Категория стартапа по числу сотрудников')\n",
    "plt.ylabel('Доля сотрудников с информацией об образовании')\n",
    "plt.title('Распределение доли сотрудников с информацией об институте по категориям стартапов')\n",
    "\n",
    "plt.show()"
   ]
  },
  {
   "cell_type": "markdown",
   "metadata": {},
   "source": [
    "<div class=\"alert alert-info \" role=\"alert\"> <b>\n",
    "    \n",
    "По получившейся диаграмме можно сделать следующие выводы:\n",
    "- Меньше всего шансов найти в данных информацию об образовании сотрудника в стартапах с числом сотрудников от 4 до 10: < 50%\n",
    "- Для стартапов с числом сотрудников 1, или 2 или 3 включительно эта доля составляет чуть больше 50%\n",
    "- При анализе компаний с числом сотрудников более 10 эта доля вырастает до 60% и выше                                                                                                                            \n",
    "    \n",
    "Далее проверю возможность джоина датафрейма с информацией об образовательной степени сотрудника\n",
    "<b>"
   ]
  },
  {
   "cell_type": "code",
   "execution_count": 43,
   "metadata": {
    "scrolled": true
   },
   "outputs": [
    {
     "data": {
      "text/plain": [
       "68451"
      ]
     },
     "execution_count": 43,
     "metadata": {},
     "output_type": "execute_result"
    }
   ],
   "source": [
    "degrees_df['object_id'].nunique()"
   ]
  },
  {
   "cell_type": "code",
   "execution_count": 44,
   "metadata": {},
   "outputs": [
    {
     "data": {
      "text/plain": [
       "68451"
      ]
     },
     "execution_count": 44,
     "metadata": {},
     "output_type": "execute_result"
    }
   ],
   "source": [
    "education_df['person_id'].nunique()"
   ]
  },
  {
   "cell_type": "markdown",
   "metadata": {},
   "source": [
    "Наличие одинакового количества уникальных записей в датафреймах выглядит так, как будто информация имеется об одних и тех же сотрудников. Cначала приведу идентификатор сотрудника в датафрейме degrees_df к нужному типу"
   ]
  },
  {
   "cell_type": "code",
   "execution_count": 46,
   "metadata": {
    "scrolled": true
   },
   "outputs": [
    {
     "data": {
      "text/html": [
       "<div>\n",
       "<style scoped>\n",
       "    .dataframe tbody tr th:only-of-type {\n",
       "        vertical-align: middle;\n",
       "    }\n",
       "\n",
       "    .dataframe tbody tr th {\n",
       "        vertical-align: top;\n",
       "    }\n",
       "\n",
       "    .dataframe thead th {\n",
       "        text-align: right;\n",
       "    }\n",
       "</style>\n",
       "<table border=\"1\" class=\"dataframe\">\n",
       "  <thead>\n",
       "    <tr style=\"text-align: right;\">\n",
       "      <th></th>\n",
       "      <th>id</th>\n",
       "      <th>object_id</th>\n",
       "      <th>degree_type</th>\n",
       "      <th>subject</th>\n",
       "    </tr>\n",
       "  </thead>\n",
       "  <tbody>\n",
       "    <tr>\n",
       "      <th>0</th>\n",
       "      <td>1</td>\n",
       "      <td>6117</td>\n",
       "      <td>MBA</td>\n",
       "      <td>NaN</td>\n",
       "    </tr>\n",
       "    <tr>\n",
       "      <th>1</th>\n",
       "      <td>2</td>\n",
       "      <td>6136</td>\n",
       "      <td>BA</td>\n",
       "      <td>English, French</td>\n",
       "    </tr>\n",
       "    <tr>\n",
       "      <th>2</th>\n",
       "      <td>3</td>\n",
       "      <td>6136</td>\n",
       "      <td>MS</td>\n",
       "      <td>Mass Communication</td>\n",
       "    </tr>\n",
       "    <tr>\n",
       "      <th>3</th>\n",
       "      <td>4</td>\n",
       "      <td>6005</td>\n",
       "      <td>MS</td>\n",
       "      <td>Internet Technology</td>\n",
       "    </tr>\n",
       "    <tr>\n",
       "      <th>4</th>\n",
       "      <td>5</td>\n",
       "      <td>5832</td>\n",
       "      <td>BCS</td>\n",
       "      <td>Computer Science, Psychology</td>\n",
       "    </tr>\n",
       "    <tr>\n",
       "      <th>...</th>\n",
       "      <td>...</td>\n",
       "      <td>...</td>\n",
       "      <td>...</td>\n",
       "      <td>...</td>\n",
       "    </tr>\n",
       "    <tr>\n",
       "      <th>109605</th>\n",
       "      <td>109606</td>\n",
       "      <td>268589</td>\n",
       "      <td>CPA</td>\n",
       "      <td>NaN</td>\n",
       "    </tr>\n",
       "    <tr>\n",
       "      <th>109606</th>\n",
       "      <td>109607</td>\n",
       "      <td>268527</td>\n",
       "      <td>MS &amp; BS</td>\n",
       "      <td>Engineering</td>\n",
       "    </tr>\n",
       "    <tr>\n",
       "      <th>109607</th>\n",
       "      <td>109608</td>\n",
       "      <td>268527</td>\n",
       "      <td>PhD</td>\n",
       "      <td>Engineering</td>\n",
       "    </tr>\n",
       "    <tr>\n",
       "      <th>109608</th>\n",
       "      <td>109609</td>\n",
       "      <td>268528</td>\n",
       "      <td>B.S.</td>\n",
       "      <td>Electrical Engineering</td>\n",
       "    </tr>\n",
       "    <tr>\n",
       "      <th>109609</th>\n",
       "      <td>109610</td>\n",
       "      <td>268528</td>\n",
       "      <td>J.D.</td>\n",
       "      <td>NaN</td>\n",
       "    </tr>\n",
       "  </tbody>\n",
       "</table>\n",
       "<p>109610 rows × 4 columns</p>\n",
       "</div>"
      ],
      "text/plain": [
       "            id object_id degree_type                       subject\n",
       "0            1      6117         MBA                           NaN\n",
       "1            2      6136          BA               English, French\n",
       "2            3      6136          MS            Mass Communication\n",
       "3            4      6005          MS           Internet Technology\n",
       "4            5      5832         BCS  Computer Science, Psychology\n",
       "...        ...       ...         ...                           ...\n",
       "109605  109606    268589         CPA                           NaN\n",
       "109606  109607    268527     MS & BS                   Engineering\n",
       "109607  109608    268527         PhD                   Engineering\n",
       "109608  109609    268528        B.S.        Electrical Engineering\n",
       "109609  109610    268528        J.D.                           NaN\n",
       "\n",
       "[109610 rows x 4 columns]"
      ]
     },
     "execution_count": 46,
     "metadata": {},
     "output_type": "execute_result"
    }
   ],
   "source": [
    "degrees_df['object_id'] = degrees_df['object_id'].apply(lambda x: x[2:])\n",
    "degrees_df"
   ]
  },
  {
   "cell_type": "markdown",
   "metadata": {},
   "source": [
    "<div class=\"alert alert-info \" role=\"alert\"> <b>\n",
    "Из-за того, что в данных как об институте, так и о степени примерно 40000 дубликатов, которые говорят о том, что сотрудник мог заканчивать разые институтуты и получить несколько степеней, корректно сджойнить эти датафреймы не получится. Чтобы это было возможндо сделать, надо джоинить по нескольким ключам, однако у нас ключ один - id сотрудника. \n",
    "\n",
    "Чтобы не дублировать сроки, могу предложить хранить информацию об институтах одного сотрудника и о его степенях в виде списка, тогда строк будет столько же, сколько и сотрудников. Для дальнейшего исследования это нам не пригодится. Поэтому данный абзац носит рекомендательный характер.\n",
    "<b>"
   ]
  },
  {
   "cell_type": "markdown",
   "metadata": {},
   "source": [
    "### 2.3. Объединять или не объединять — вот в чём вопрос\n",
    "\n",
    "Для того, чтобы проанализировать значения в \"network_username\" создам отдельные три датафрейма с значением этих колонок, попробую сджоинить их и посчитаю, сколько получилось сджоинить и сколько пропусков"
   ]
  },
  {
   "cell_type": "code",
   "execution_count": 49,
   "metadata": {
    "id": "Cf5IjfOQrJg1"
   },
   "outputs": [],
   "source": [
    "username_from_people = people_df[people_df['network_username'].notna()]['network_username'].copy().reset_index()\n",
    "username_from_people = username_from_people.rename(columns={'index':'index_people','network_username':'network_username_people'})\n",
    "username_from_people = username_from_people.drop_duplicates(subset='network_username_people')\n",
    "\n",
    "username_from_fund = fund_df[fund_df['network_username'].notna()]['network_username'].copy().reset_index()\n",
    "username_from_fund = username_from_fund.rename(columns={'index':'index_fund','network_username':'network_username_fund'})\n",
    "username_from_fund = username_from_fund.drop_duplicates(subset='network_username_fund')\n",
    "\n",
    "username_from_cnr = cnr_df[cnr_df['network_username'].notna()]['network_username'].copy().reset_index()\n",
    "username_from_cnr = username_from_cnr.rename(columns={'index':'index_cnr','network_username':'network_username_cnr'})\n",
    "username_from_cnr = username_from_cnr.drop_duplicates(subset='network_username_cnr')"
   ]
  },
  {
   "cell_type": "code",
   "execution_count": 50,
   "metadata": {
    "id": "CilOkz-inz37"
   },
   "outputs": [
    {
     "name": "stdout",
     "output_type": "stream",
     "text": [
      "Число совпадений по username в датафреймах cnr_df и people_df:\n",
      "2199\n",
      "При том в cnr_df у нас есть информация о 79571 никах,\n",
      "а в people_df - о 38421 никах\n"
     ]
    }
   ],
   "source": [
    "# Проверю, на сколько network_username из cnr_df подходит для джоина people_df\n",
    "username_cnr_people = username_from_people.merge(username_from_cnr, \n",
    "                      how='outer', left_on='network_username_people', right_on='network_username_cnr')\n",
    "# выведу число строк, которое получилось сдоинить\n",
    "print('Число совпадений по username в датафреймах cnr_df и people_df:')\n",
    "print(username_cnr_people[(username_cnr_people['network_username_people'].notna()) \n",
    "                    & (username_cnr_people['network_username_cnr'].notna())].shape[0])\n",
    "print(f'''При том в cnr_df у нас есть информация о {username_from_cnr.shape[0]} никах,\n",
    "а в people_df - о {username_from_people.shape[0]} никах''')\n"
   ]
  },
  {
   "cell_type": "markdown",
   "metadata": {},
   "source": [
    "Как видно, совпадений совсем немного, поэтому network_username не подходит для объединения данных датафреймов. В целом это и логично, так как people_df содержит информацию о людях, а cnr_df о компаниях"
   ]
  },
  {
   "cell_type": "code",
   "execution_count": 52,
   "metadata": {},
   "outputs": [
    {
     "name": "stdout",
     "output_type": "stream",
     "text": [
      "Число совпадений по username в датафреймах cnr_df и fund_df:\n",
      "70\n",
      "При том в cnr_df у нас есть информация о 79571 никах,\n",
      "а в fund_df - о 2098 никах\n"
     ]
    }
   ],
   "source": [
    "# Проверю, на сколько network_username из cnr_df подходит для джоина fund_df\n",
    "username_cnr_fund = username_from_cnr.merge(username_from_fund, \n",
    "                      how='outer', left_on='network_username_cnr', right_on='network_username_fund')\n",
    "# выведу число строк, которое получилось сдоинить\n",
    "print('Число совпадений по username в датафреймах cnr_df и fund_df:')\n",
    "print(username_cnr_fund[(username_cnr_fund['network_username_cnr'].notna()) \n",
    "                    & (username_cnr_fund['network_username_fund'].notna())].shape[0])\n",
    "print(f'''При том в cnr_df у нас есть информация о {username_from_cnr.shape[0]} никах,\n",
    "а в fund_df - о {username_from_fund.shape[0]} никах''')"
   ]
  },
  {
   "cell_type": "markdown",
   "metadata": {},
   "source": [
    "Как видно, совпадений совсем немного, поэтому network_username не подходит для объединения данных датафреймов. В целом это и логично, так как fund_df содержит информацию о фондах, а cnr_df о компаниях"
   ]
  },
  {
   "cell_type": "markdown",
   "metadata": {},
   "source": [
    "<div class=\"alert alert-info \" role=\"alert\"> <b>\n",
    "    \n",
    "'network_username' столбец хоть и называется одинаково в разных Датафреймах, но содержит разную информацию и не подходит для соединения таблиц\n",
    "<b>"
   ]
  },
  {
   "cell_type": "markdown",
   "metadata": {
    "id": "EHcODomVrJg1"
   },
   "source": [
    "\n",
    "### 2.4. Проблемный датасет и причина возникновения пропусков\n",
    "\n",
    "Для начала анализа проблемного датасета определю, совпадают ли значения в company_id_2 и company_id"
   ]
  },
  {
   "cell_type": "code",
   "execution_count": 56,
   "metadata": {
    "id": "tJ6Sl6MKrJg1"
   },
   "outputs": [
    {
     "name": "stdout",
     "output_type": "stream",
     "text": [
      "Сколько значений в company_id_2 совпадают со значениями в company_id:\n"
     ]
    },
    {
     "data": {
      "text/plain": [
       "52626"
      ]
     },
     "execution_count": 56,
     "metadata": {},
     "output_type": "execute_result"
    }
   ],
   "source": [
    "print('Сколько значений в company_id_2 совпадают со значениями в company_id:')\n",
    "cnr_df[cnr_df['company_id'] == cnr_df['company_id_2']].shape[0]"
   ]
  },
  {
   "cell_type": "code",
   "execution_count": 57,
   "metadata": {
    "id": "SFfUmzron0Tc"
   },
   "outputs": [
    {
     "name": "stdout",
     "output_type": "stream",
     "text": [
      "Сколько значений в company_id_2 без пропусков:\n"
     ]
    },
    {
     "data": {
      "text/plain": [
       "np.int64(52626)"
      ]
     },
     "execution_count": 57,
     "metadata": {},
     "output_type": "execute_result"
    }
   ],
   "source": [
    "print('Сколько значений в company_id_2 без пропусков:')\n",
    "cnr_df['company_id_2'].notna().sum()"
   ]
  },
  {
   "cell_type": "markdown",
   "metadata": {},
   "source": [
    "Все не пропущенные значения в company_id_2 совпадают со значениями в company_id. Скорее всего так произошло, потому что изначально это было два разных датафрейма - в первом хванилась информация о компании, а во втором хранилась информация о кругах финансирования компаний. Большое количество пропусков в информации о кругах финансирования говорит о том, что финансировались не все компании из списка всех стартапов в первом датасете"
   ]
  },
  {
   "cell_type": "markdown",
   "metadata": {},
   "source": [
    "<div class=\"alert alert-info \" role=\"alert\"> <b>\n",
    "Для анализа кругов финансирования в дальнейшем нам не нужны данные о всех существущих стартапов за период, которые не проводили круги финансирования.\n",
    "\n",
    "предлагаю создать новый датафрейм, в котором будет информация только о компаниях и о кругах финансирования компаний, которые финансировались\n",
    "    <b>"
   ]
  },
  {
   "cell_type": "code",
   "execution_count": 60,
   "metadata": {},
   "outputs": [
    {
     "name": "stderr",
     "output_type": "stream",
     "text": [
      "/var/folders/b2/x7ybpd6s277f0mp7f_s013th0000gn/T/ipykernel_18878/743026137.py:6: FutureWarning: errors='ignore' is deprecated and will raise in a future version. Use to_numeric without passing `errors` and catch exceptions explicitly instead\n",
      "  cnr_df[col] = pd.to_numeric(cnr_df[col], errors='ignore', downcast='integer')\n",
      "/Users/macbookpro/opt/anaconda3/lib/python3.9/site-packages/pandas/core/dtypes/cast.py:377: RuntimeWarning: invalid value encountered in cast\n",
      "  new_result = trans(result).astype(dtype)\n"
     ]
    }
   ],
   "source": [
    "#Оптимизирую тип данных\n",
    "for col in list(cnr_df.columns):\n",
    "    if cnr_df[col].dtype == '<M8[ns]':\n",
    "        pass\n",
    "    else:\n",
    "        cnr_df[col] = pd.to_numeric(cnr_df[col], errors='ignore', downcast='integer')\n",
    "    "
   ]
  },
  {
   "cell_type": "code",
   "execution_count": 61,
   "metadata": {},
   "outputs": [
    {
     "name": "stdout",
     "output_type": "stream",
     "text": [
      "<class 'pandas.core.frame.DataFrame'>\n",
      "Index: 217471 entries, 0 to 217471\n",
      "Data columns (total 23 columns):\n",
      " #   Column                 Non-Null Count   Dtype         \n",
      "---  ------                 --------------   -----         \n",
      " 0   company_id             217471 non-null  int32         \n",
      " 1   name                   217471 non-null  object        \n",
      " 2   category_code          143886 non-null  object        \n",
      " 3   status                 217471 non-null  object        \n",
      " 4   founded_at             109955 non-null  datetime64[ns]\n",
      " 5   closed_at              3448 non-null    datetime64[ns]\n",
      " 6   domain                 147159 non-null  object        \n",
      " 7   network_username       95534 non-null   object        \n",
      " 8   country_code           108607 non-null  object        \n",
      " 9   investment_rounds      217471 non-null  int16         \n",
      " 10  funding_rounds         217471 non-null  int8          \n",
      " 11  funding_total          217471 non-null  int64         \n",
      " 12  milestones             217471 non-null  int8          \n",
      " 13  funding_round_id       52626 non-null   float64       \n",
      " 14  company_id_2           52626 non-null   float64       \n",
      " 15  funded_at              52382 non-null   datetime64[ns]\n",
      " 16  funding_round_type     52626 non-null   object        \n",
      " 17  raised_amount          52626 non-null   float64       \n",
      " 18  pre_money_valuation    52626 non-null   float64       \n",
      " 19  participants           52626 non-null   float64       \n",
      " 20  is_first_round         52626 non-null   float64       \n",
      " 21  is_last_round          52626 non-null   float64       \n",
      " 22  year_of_funding_round  52382 non-null   float64       \n",
      "dtypes: datetime64[ns](3), float64(8), int16(1), int32(1), int64(1), int8(2), object(7)\n",
      "memory usage: 34.8+ MB\n"
     ]
    }
   ],
   "source": [
    "cnr_df.info()"
   ]
  },
  {
   "cell_type": "markdown",
   "metadata": {},
   "source": [
    "В получившимся датафрейме теперь храниться информация и о кругах финансирования и о компаниях, которые финансировались. \n",
    "Для оптимизации дальнейшего исследования и вычислений предлагаю разделить данный датафрейм на два: первый - о компаниях, второй - с более детальной информацией о кругах финансирования"
   ]
  },
  {
   "cell_type": "code",
   "execution_count": 63,
   "metadata": {},
   "outputs": [
    {
     "data": {
      "text/plain": [
       "np.float64(737.0)"
      ]
     },
     "execution_count": 63,
     "metadata": {},
     "output_type": "execute_result"
    }
   ],
   "source": [
    "# Проверю, правильно ли посчитал столбец \"funding_total\". Если он посчитал правильно, \n",
    "#то сумма по этому столбцу \"raised_amount\" должна совпадать с суммой столбца \"funding_total\" при отборе уникальных компаний\n",
    "cnr_df['raised_amount'].sum() - cnr_df.drop_duplicates(subset='company_id')['funding_total'].sum()\n"
   ]
  },
  {
   "cell_type": "markdown",
   "metadata": {},
   "source": [
    "Суммы почти совпадают. Разница в 737 денежных единиц незначильна и может быть вызвана технической ошибкой при подгрузке данных или человеческим фактором при расчетах. Считаю, что \"funding_total\" посчитан правильно.\n",
    "\n",
    "Тем же способом проверю столбец \"funding_rounds\""
   ]
  },
  {
   "cell_type": "code",
   "execution_count": 65,
   "metadata": {},
   "outputs": [
    {
     "data": {
      "text/plain": [
       "np.int64(0)"
      ]
     },
     "execution_count": 65,
     "metadata": {},
     "output_type": "execute_result"
    }
   ],
   "source": [
    "cnr_df['funding_round_id'].count() - cnr_df.drop_duplicates(subset='company_id')['funding_rounds'].sum()\n"
   ]
  },
  {
   "cell_type": "markdown",
   "metadata": {},
   "source": [
    "Отлично, стобец \"funding_rounds\" посчитан правильно и нам не нужно писать оконную функцию для подсчета кругов финансирования для каждой коомпании"
   ]
  },
  {
   "cell_type": "code",
   "execution_count": 67,
   "metadata": {},
   "outputs": [],
   "source": [
    "companies_df = cnr_df.iloc[:, :13].drop_duplicates()\n",
    "funding_rounds_df = cnr_df.iloc[:, 13:]"
   ]
  },
  {
   "cell_type": "markdown",
   "metadata": {},
   "source": [
    "<div class=\"alert alert-info \" role=\"alert\"> <b>\n",
    "Теперь у нас есть два Датафрейма:\n",
    "    \n",
    "    \n",
    "- companies_df с информацией об уникальных компаниях, которые учавствовали в кругах финансирования\n",
    "- funding_rounds_df с информацией о кругах финансирования этих компаний\n",
    "    <b>"
   ]
  },
  {
   "cell_type": "markdown",
   "metadata": {},
   "source": [
    "#### Вывод\n",
    "\n",
    "<div class=\"alert alert-info \" role=\"alert\"> <b>\n",
    "Во втором шаге данного проекта, были определены:\n",
    "    \n",
    "- тенденции изменения числа кругов финансирования и средней суммы финансирования по годам: в 2005 году средняя сумма финансирования была максимальной за период и составила 5.5 млн. ден. ед., однако число кругов финансирования увеличивается из года в год и к 2013 году составляла 11042.\n",
    "- В компаниях с числом сотрудников > 10 больше шанс найти информацию об образовании сотрудника (60+%).\n",
    "- Столбец \"network_username\" в разных датафреймах принимает разные значения и не подходит в роли ключа для джоина\n",
    "- рекомендация хранить информацию об образовании 1 сотрудника в 1 строке используя списки в роли значений\n",
    "- Анализ данных company_and_rounds.csv. Проведена отчистка датафрейма от компаний без информации о кругах финансирования и разделение датафрейма на 2: companies_df и funding_rounds_df\n",
    "    <b>\n"
   ]
  },
  {
   "cell_type": "markdown",
   "metadata": {
    "id": "bmVYhphNrJg2"
   },
   "source": [
    "\n",
    "## Шаг 3. Исследовательский анализ объединённых таблиц\n",
    "\n"
   ]
  },
  {
   "cell_type": "markdown",
   "metadata": {
    "id": "3Di6tCT3rJg2"
   },
   "source": [
    "\n",
    "### 3.1. Объединение данных\n",
    "\n",
    "Для того, чтобы анализировать только те компании, которые меняли или готовы менять владельцев, которые и интересуют заказчика, отфильтрую создам датафрейм (на основе фрейма companies_df), в котором будут компании с числом investment_rounds и funding_rounds > 0 и status = \"acquired\""
   ]
  },
  {
   "cell_type": "code",
   "execution_count": 72,
   "metadata": {
    "id": "mGYqoHS7rJg2"
   },
   "outputs": [],
   "source": [
    "companies_filtered = companies_df[((companies_df['investment_rounds'] > 0) \n",
    "                                       | (companies_df['funding_rounds'] > 0)\n",
    "                                       | (companies_df['status'] == 'acquired'))]\n",
    "\n"
   ]
  },
  {
   "cell_type": "code",
   "execution_count": 73,
   "metadata": {},
   "outputs": [
    {
     "data": {
      "text/html": [
       "<div>\n",
       "<style scoped>\n",
       "    .dataframe tbody tr th:only-of-type {\n",
       "        vertical-align: middle;\n",
       "    }\n",
       "\n",
       "    .dataframe tbody tr th {\n",
       "        vertical-align: top;\n",
       "    }\n",
       "\n",
       "    .dataframe thead th {\n",
       "        text-align: right;\n",
       "    }\n",
       "</style>\n",
       "<table border=\"1\" class=\"dataframe\">\n",
       "  <thead>\n",
       "    <tr style=\"text-align: right;\">\n",
       "      <th></th>\n",
       "      <th>company_id</th>\n",
       "      <th>name</th>\n",
       "      <th>category_code</th>\n",
       "      <th>status</th>\n",
       "      <th>founded_at</th>\n",
       "      <th>closed_at</th>\n",
       "      <th>domain</th>\n",
       "      <th>network_username</th>\n",
       "      <th>country_code</th>\n",
       "      <th>investment_rounds</th>\n",
       "      <th>funding_rounds</th>\n",
       "      <th>funding_total</th>\n",
       "      <th>milestones</th>\n",
       "    </tr>\n",
       "  </thead>\n",
       "  <tbody>\n",
       "    <tr>\n",
       "      <th>0</th>\n",
       "      <td>1</td>\n",
       "      <td>Wetpaint</td>\n",
       "      <td>web</td>\n",
       "      <td>operating</td>\n",
       "      <td>2005-10-17</td>\n",
       "      <td>NaT</td>\n",
       "      <td>wetpaint-inc.com</td>\n",
       "      <td>BachelrWetpaint</td>\n",
       "      <td>USA</td>\n",
       "      <td>0</td>\n",
       "      <td>3</td>\n",
       "      <td>39750000</td>\n",
       "      <td>5</td>\n",
       "    </tr>\n",
       "    <tr>\n",
       "      <th>3</th>\n",
       "      <td>10</td>\n",
       "      <td>Flektor</td>\n",
       "      <td>games_video</td>\n",
       "      <td>acquired</td>\n",
       "      <td>NaT</td>\n",
       "      <td>NaT</td>\n",
       "      <td>flektor.com</td>\n",
       "      <td>NaN</td>\n",
       "      <td>USA</td>\n",
       "      <td>0</td>\n",
       "      <td>0</td>\n",
       "      <td>0</td>\n",
       "      <td>0</td>\n",
       "    </tr>\n",
       "    <tr>\n",
       "      <th>4</th>\n",
       "      <td>100</td>\n",
       "      <td>There</td>\n",
       "      <td>games_video</td>\n",
       "      <td>acquired</td>\n",
       "      <td>NaT</td>\n",
       "      <td>NaT</td>\n",
       "      <td>there.com</td>\n",
       "      <td>NaN</td>\n",
       "      <td>USA</td>\n",
       "      <td>0</td>\n",
       "      <td>0</td>\n",
       "      <td>0</td>\n",
       "      <td>4</td>\n",
       "    </tr>\n",
       "    <tr>\n",
       "      <th>15</th>\n",
       "      <td>1001</td>\n",
       "      <td>FriendFeed</td>\n",
       "      <td>web</td>\n",
       "      <td>acquired</td>\n",
       "      <td>2007-10-01</td>\n",
       "      <td>NaT</td>\n",
       "      <td>friendfeed.com</td>\n",
       "      <td>friendfeed</td>\n",
       "      <td>USA</td>\n",
       "      <td>0</td>\n",
       "      <td>1</td>\n",
       "      <td>5000000</td>\n",
       "      <td>3</td>\n",
       "    </tr>\n",
       "    <tr>\n",
       "      <th>20</th>\n",
       "      <td>10014</td>\n",
       "      <td>Mobclix</td>\n",
       "      <td>mobile</td>\n",
       "      <td>acquired</td>\n",
       "      <td>2008-03-01</td>\n",
       "      <td>NaT</td>\n",
       "      <td>mobclix.com</td>\n",
       "      <td>mobclix</td>\n",
       "      <td>USA</td>\n",
       "      <td>0</td>\n",
       "      <td>1</td>\n",
       "      <td>0</td>\n",
       "      <td>4</td>\n",
       "    </tr>\n",
       "  </tbody>\n",
       "</table>\n",
       "</div>"
      ],
      "text/plain": [
       "    company_id        name category_code     status founded_at closed_at  \\\n",
       "0            1    Wetpaint           web  operating 2005-10-17       NaT   \n",
       "3           10     Flektor   games_video   acquired        NaT       NaT   \n",
       "4          100       There   games_video   acquired        NaT       NaT   \n",
       "15        1001  FriendFeed           web   acquired 2007-10-01       NaT   \n",
       "20       10014     Mobclix        mobile   acquired 2008-03-01       NaT   \n",
       "\n",
       "              domain network_username country_code  investment_rounds  \\\n",
       "0   wetpaint-inc.com  BachelrWetpaint          USA                  0   \n",
       "3        flektor.com              NaN          USA                  0   \n",
       "4          there.com              NaN          USA                  0   \n",
       "15    friendfeed.com       friendfeed          USA                  0   \n",
       "20       mobclix.com          mobclix          USA                  0   \n",
       "\n",
       "    funding_rounds  funding_total  milestones  \n",
       "0                3       39750000           5  \n",
       "3                0              0           0  \n",
       "4                0              0           4  \n",
       "15               1        5000000           3  \n",
       "20               1              0           4  "
      ]
     },
     "execution_count": 73,
     "metadata": {},
     "output_type": "execute_result"
    }
   ],
   "source": [
    "companies_filtered.head()"
   ]
  },
  {
   "cell_type": "markdown",
   "metadata": {
    "id": "DFHINkV3rJg2"
   },
   "source": [
    "\n",
    "### 3.2. Анализ выбросов\n",
    "\n",
    "Заказчика интересует обычный для рассматриваемого периода размер средств, который предоставлялся компаниям.\n",
    "\n",
    "* По предобработанному столбцу `funding_total` графическим способом оценю, какой размер общего финансирования для одной компании будет типичным, а какой — выбивающимся.\n"
   ]
  },
  {
   "cell_type": "code",
   "execution_count": 75,
   "metadata": {},
   "outputs": [],
   "source": [
    "pd.options.display.float_format = '{:.1f}'.format "
   ]
  },
  {
   "cell_type": "code",
   "execution_count": 76,
   "metadata": {
    "id": "8jm75fKXrJg2"
   },
   "outputs": [
    {
     "data": {
      "text/plain": [
       "count        40747.0\n",
       "mean      10135609.6\n",
       "std       56464360.0\n",
       "min              0.0\n",
       "25%              0.0\n",
       "50%         600000.0\n",
       "75%        5650650.0\n",
       "max     5700000000.0\n",
       "Name: funding_total, dtype: float64"
      ]
     },
     "execution_count": 76,
     "metadata": {},
     "output_type": "execute_result"
    }
   ],
   "source": [
    "companies_filtered['funding_total'].describe()"
   ]
  },
  {
   "cell_type": "markdown",
   "metadata": {},
   "source": [
    "Стандартное отклонение в 10 раз больше медианного, что говорит о том, что разброс данных очень большой. Как видно Максимальное значение в почти 6 млд явно отклоняет среднее значение 'funding_total' от медианы. а Q1 равный 0 может свидетельствовать о том, что много компаний не финансировались или имеют \"0\" в поле 'funding_total'"
   ]
  },
  {
   "cell_type": "code",
   "execution_count": 78,
   "metadata": {},
   "outputs": [
    {
     "name": "stdout",
     "output_type": "stream",
     "text": [
      "компаний со значением \"0\" в \"funding_total\": 12873\n",
      "компаний со значением \"1\" в \"funding_total\": 0\n",
      "компаний со значением \"2\" в \"funding_total\": 0\n",
      "компаний со значением \"3\" в \"funding_total\": 0\n",
      "компаний со значением \"4\" в \"funding_total\": 0\n",
      "компаний со значением \"5\" в \"funding_total\": 0\n"
     ]
    }
   ],
   "source": [
    "#Проверю, как много компаний \"финансированись\" на 0 или значения близкие нулю\n",
    "\n",
    "for i in range(6):\n",
    "    print(f'компаний со значением \"{i}\" в \"funding_total\": {companies_filtered[companies_filtered[\"funding_total\"]==i][\"funding_total\"].count()}')"
   ]
  },
  {
   "cell_type": "code",
   "execution_count": 79,
   "metadata": {
    "scrolled": true
   },
   "outputs": [
    {
     "data": {
      "image/png": "[encoded data removed]",
      "text/plain": [
       "<Figure size 700x200 with 1 Axes>"
      ]
     },
     "metadata": {},
     "output_type": "display_data"
    }
   ],
   "source": [
    "plt.figure(figsize=(7, 2))\n",
    "\n",
    "sns.boxplot(x=companies_filtered['funding_total'])\n",
    "\n",
    "plt.title('Распределение значений финансирования стартапа')\n",
    "plt.xlabel('Финансирование стартапа, млрд')\n",
    "\n",
    "\n",
    "plt.show()"
   ]
  },
  {
   "cell_type": "markdown",
   "metadata": {},
   "source": [
    "Данный график подтверждаее ранее сказанное - большинство значений находятся в диапазоне менее полумиллиарда денежных единиц, однако в наших данных имеется много ярко выраженных выбросов. К данным в том виде, в котором они у нас есть, невозможно применить классические методы определения типичных значений. Требуется определеить границы выбросов и проанализировать большое колличество компаний с 0 в 'funding_total'"
   ]
  },
  {
   "cell_type": "code",
   "execution_count": 81,
   "metadata": {},
   "outputs": [
    {
     "data": {
      "image/png": "[encoded data removed]",
      "text/plain": [
       "<Figure size 700x200 with 1 Axes>"
      ]
     },
     "metadata": {},
     "output_type": "display_data"
    }
   ],
   "source": [
    "Q3= companies_filtered['funding_total'].quantile(q=0.75)\n",
    "Q1= companies_filtered['funding_total'].quantile(q=0.25)\n",
    "\n",
    "plt.figure(figsize=(7, 2))\n",
    "\n",
    "sns.boxplot(x=companies_filtered[(companies_filtered['funding_total'] < Q3) \n",
    "                                &(companies_filtered['funding_total'] > Q1)]['funding_total'])\n",
    "\n",
    "plt.title('Распределение значений финансирования стартапа')\n",
    "plt.xlabel('Финансирование стартапа, млн')\n",
    "\n",
    "\n",
    "plt.show()"
   ]
  },
  {
   "cell_type": "markdown",
   "metadata": {},
   "source": [
    "Если отсеять половину значений - самые маленькие и самые большие и посмотреть на значения в рамках межквартильного интервала, то видно, что наиболее часто компании финансировались на сумму примерно 900 тысяч. Однако стоит учитывать, что мы отсеяли половину значений."
   ]
  },
  {
   "cell_type": "markdown",
   "metadata": {
    "id": "wJHXCBwwrJg2"
   },
   "source": [
    "<div class=\"alert alert-info \" role=\"alert\"> <b>\n",
    "    Аналитически рассчитаю верхнюю и нижнюю границу выбросов для столбца funding_total и укажу, каким процентилям границы соответствуют. Так как разброс большой, использую логарифмическое преобразование\n",
    "   <b> "
   ]
  },
  {
   "cell_type": "code",
   "execution_count": 84,
   "metadata": {
    "id": "-kA4CO27n2ql"
   },
   "outputs": [
    {
     "name": "stdout",
     "output_type": "stream",
     "text": [
      "Нижняя граница выбросов: -11301300\n",
      "Верхняя граница выбросов: 11301316\n"
     ]
    },
    {
     "name": "stderr",
     "output_type": "stream",
     "text": [
      "/var/folders/b2/x7ybpd6s277f0mp7f_s013th0000gn/T/ipykernel_18878/3939858494.py:1: SettingWithCopyWarning: \n",
      "A value is trying to be set on a copy of a slice from a DataFrame.\n",
      "Try using .loc[row_indexer,col_indexer] = value instead\n",
      "\n",
      "See the caveats in the documentation: https://pandas.pydata.org/pandas-docs/stable/user_guide/indexing.html#returning-a-view-versus-a-copy\n",
      "  companies_filtered['log_funding_total'] = np.log(companies_filtered['funding_total'] + 1)\n"
     ]
    }
   ],
   "source": [
    "companies_filtered['log_funding_total'] = np.log(companies_filtered['funding_total'] + 1)\n",
    "\n",
    "Q3_log = companies_filtered['log_funding_total'].quantile(q=0.75)\n",
    "Q1_log = companies_filtered['log_funding_total'].quantile(q=0.25)\n",
    "\n",
    "IQR_log = Q3 - Q1\n",
    "\n",
    "#Так как разброс данных очень большой, буду использовать более высокий коэффицент IQR - 2 вместо 1.5\n",
    "\n",
    "lower_bound = Q1_log - 2 * IQR_log\n",
    "upper_bound = Q3_log + 2 * IQR_log\n",
    "\n",
    "print(f'Нижняя граница выбросов: {round(lower_bound)}')\n",
    "print(f'Верхняя граница выбросов: {round(upper_bound)}')"
   ]
  },
  {
   "cell_type": "markdown",
   "metadata": {},
   "source": [
    "Даже после логарифмичекого преобразования мы получили большую разницу между Q1 и Q2, что говорит об очень широком диапозоне значений, большом числе выбросов. \n",
    "\n",
    "Все данные положительные и нижнюю границу мы не можем оставить отрицательной. Примем 1 за нижнюю границу, так как 12к компаний имеют 0 в значении \"funding_total\""
   ]
  },
  {
   "cell_type": "code",
   "execution_count": 86,
   "metadata": {
    "scrolled": true
   },
   "outputs": [
    {
     "data": {
      "image/png": "[encoded data removed]",
      "text/plain": [
       "<Figure size 1200x200 with 1 Axes>"
      ]
     },
     "metadata": {},
     "output_type": "display_data"
    }
   ],
   "source": [
    "plt.figure(figsize=(12, 2))\n",
    "\n",
    "sns.boxplot(x=companies_filtered[(companies_filtered['funding_total'] < upper_bound) \n",
    "                                &(companies_filtered['funding_total'] > 1)]['funding_total'])\n",
    "\n",
    "\n",
    "plt.title('Распределение значений финансирования стартапа')\n",
    "plt.xlabel('Финансирование стартапа, десятки млн')\n",
    "\n",
    "\n",
    "plt.show()"
   ]
  },
  {
   "cell_type": "markdown",
   "metadata": {},
   "source": [
    "После логарифмического преобразования и определения верхней и нижней границы получаем график, на котором отсеяли выбросы, и на котором видно, что медиана составляет примерно 1,3 млн. \n",
    "Определю перцентили новых границ выбросов"
   ]
  },
  {
   "cell_type": "code",
   "execution_count": 88,
   "metadata": {},
   "outputs": [
    {
     "name": "stdout",
     "output_type": "stream",
     "text": [
      "перцентиль нижней границы выбросов:\n",
      "32\n",
      "перцентиль верхней границы выбросов:\n",
      "83\n"
     ]
    }
   ],
   "source": [
    "print(\"перцентиль нижней границы выбросов:\")\n",
    "\n",
    "print(round(companies_filtered[companies_filtered['funding_total'] < 1]['funding_total'].count()/companies_filtered['funding_total'].count() * 100))\n",
    "\n",
    "print(\"перцентиль верхней границы выбросов:\")\n",
    "\n",
    "print(round(companies_filtered[companies_filtered['funding_total'] < 11301316]['funding_total'].count()/companies_filtered['funding_total'].count() * 100))\n"
   ]
  },
  {
   "cell_type": "markdown",
   "metadata": {},
   "source": [
    "<div class=\"alert alert-info \" role=\"alert\"> <b>\n",
    "Высокий перцентиль нижней границы обоснован большим числом компаний с нулевым \"funding_total\". Таким образом при отсеивании 17% аномально высоких значений и большого числа нулевых значений, мы получаем типичный объем финансирования - 1,3 млн <b>"
   ]
  },
  {
   "cell_type": "markdown",
   "metadata": {},
   "source": [
    "### 3.3. Куплены забесплатно?"
   ]
  },
  {
   "cell_type": "markdown",
   "metadata": {},
   "source": [
    "<div class=\"alert alert-info \" role=\"alert\"> <b>\n",
    "Исследую компании, которые были проданы за ноль или за один доллар, и при этом известно, что у них был ненулевой общий объём финансирования. Использую ДатаФрейм \"acquisition\"\n",
    "    <b>"
   ]
  },
  {
   "cell_type": "code",
   "execution_count": 92,
   "metadata": {},
   "outputs": [
    {
     "data": {
      "text/html": [
       "<div>\n",
       "<style scoped>\n",
       "    .dataframe tbody tr th:only-of-type {\n",
       "        vertical-align: middle;\n",
       "    }\n",
       "\n",
       "    .dataframe tbody tr th {\n",
       "        vertical-align: top;\n",
       "    }\n",
       "\n",
       "    .dataframe thead th {\n",
       "        text-align: right;\n",
       "    }\n",
       "</style>\n",
       "<table border=\"1\" class=\"dataframe\">\n",
       "  <thead>\n",
       "    <tr style=\"text-align: right;\">\n",
       "      <th></th>\n",
       "      <th>id</th>\n",
       "      <th>acquiring_company_id</th>\n",
       "      <th>acquired_company_id</th>\n",
       "      <th>term_code</th>\n",
       "      <th>price_amount</th>\n",
       "      <th>acquired_at</th>\n",
       "      <th>company_id</th>\n",
       "      <th>name</th>\n",
       "      <th>category_code</th>\n",
       "      <th>status</th>\n",
       "      <th>founded_at</th>\n",
       "      <th>closed_at</th>\n",
       "      <th>domain</th>\n",
       "      <th>network_username</th>\n",
       "      <th>country_code</th>\n",
       "      <th>investment_rounds</th>\n",
       "      <th>funding_rounds</th>\n",
       "      <th>funding_total</th>\n",
       "      <th>milestones</th>\n",
       "      <th>log_funding_total</th>\n",
       "    </tr>\n",
       "  </thead>\n",
       "  <tbody>\n",
       "    <tr>\n",
       "      <th>7</th>\n",
       "      <td>14</td>\n",
       "      <td>318</td>\n",
       "      <td>314</td>\n",
       "      <td>cash</td>\n",
       "      <td>0</td>\n",
       "      <td>2006-10-01</td>\n",
       "      <td>314.0</td>\n",
       "      <td>Reddit</td>\n",
       "      <td>web</td>\n",
       "      <td>acquired</td>\n",
       "      <td>2005-01-01</td>\n",
       "      <td>NaT</td>\n",
       "      <td>reddit.com</td>\n",
       "      <td>reddit</td>\n",
       "      <td>USA</td>\n",
       "      <td>0.0</td>\n",
       "      <td>1.0</td>\n",
       "      <td>100000.0</td>\n",
       "      <td>3.0</td>\n",
       "      <td>11.5</td>\n",
       "    </tr>\n",
       "    <tr>\n",
       "      <th>49</th>\n",
       "      <td>65</td>\n",
       "      <td>146</td>\n",
       "      <td>698</td>\n",
       "      <td>cash</td>\n",
       "      <td>0</td>\n",
       "      <td>2007-08-01</td>\n",
       "      <td>698.0</td>\n",
       "      <td>Maya's Mom</td>\n",
       "      <td>web</td>\n",
       "      <td>acquired</td>\n",
       "      <td>NaT</td>\n",
       "      <td>NaT</td>\n",
       "      <td>mayasmom.com</td>\n",
       "      <td>NaN</td>\n",
       "      <td>USA</td>\n",
       "      <td>0.0</td>\n",
       "      <td>1.0</td>\n",
       "      <td>1000000.0</td>\n",
       "      <td>2.0</td>\n",
       "      <td>13.8</td>\n",
       "    </tr>\n",
       "    <tr>\n",
       "      <th>51</th>\n",
       "      <td>67</td>\n",
       "      <td>156</td>\n",
       "      <td>718</td>\n",
       "      <td>cash</td>\n",
       "      <td>0</td>\n",
       "      <td>2007-08-01</td>\n",
       "      <td>718.0</td>\n",
       "      <td>Glimpse</td>\n",
       "      <td>ecommerce</td>\n",
       "      <td>acquired</td>\n",
       "      <td>NaT</td>\n",
       "      <td>NaT</td>\n",
       "      <td>glimpse.com</td>\n",
       "      <td>NaN</td>\n",
       "      <td>USA</td>\n",
       "      <td>0.0</td>\n",
       "      <td>1.0</td>\n",
       "      <td>4000000.0</td>\n",
       "      <td>0.0</td>\n",
       "      <td>15.2</td>\n",
       "    </tr>\n",
       "    <tr>\n",
       "      <th>65</th>\n",
       "      <td>87</td>\n",
       "      <td>1035</td>\n",
       "      <td>175</td>\n",
       "      <td>cash</td>\n",
       "      <td>0</td>\n",
       "      <td>2007-10-01</td>\n",
       "      <td>175.0</td>\n",
       "      <td>Newsvine</td>\n",
       "      <td>web</td>\n",
       "      <td>acquired</td>\n",
       "      <td>2005-03-31</td>\n",
       "      <td>NaT</td>\n",
       "      <td>newsvine.com</td>\n",
       "      <td>NaN</td>\n",
       "      <td>USA</td>\n",
       "      <td>0.0</td>\n",
       "      <td>1.0</td>\n",
       "      <td>1250000.0</td>\n",
       "      <td>0.0</td>\n",
       "      <td>14.0</td>\n",
       "    </tr>\n",
       "    <tr>\n",
       "      <th>85</th>\n",
       "      <td>115</td>\n",
       "      <td>396</td>\n",
       "      <td>1582</td>\n",
       "      <td>cash</td>\n",
       "      <td>0</td>\n",
       "      <td>2007-12-01</td>\n",
       "      <td>1582.0</td>\n",
       "      <td>BeliefNet</td>\n",
       "      <td>web</td>\n",
       "      <td>acquired</td>\n",
       "      <td>2008-01-01</td>\n",
       "      <td>NaT</td>\n",
       "      <td>beliefnet.com</td>\n",
       "      <td>eliefnet</td>\n",
       "      <td>USA</td>\n",
       "      <td>0.0</td>\n",
       "      <td>1.0</td>\n",
       "      <td>7000000.0</td>\n",
       "      <td>3.0</td>\n",
       "      <td>15.8</td>\n",
       "    </tr>\n",
       "  </tbody>\n",
       "</table>\n",
       "</div>"
      ],
      "text/plain": [
       "     id  acquiring_company_id  acquired_company_id term_code  price_amount  \\\n",
       "7    14                   318                  314      cash             0   \n",
       "49   65                   146                  698      cash             0   \n",
       "51   67                   156                  718      cash             0   \n",
       "65   87                  1035                  175      cash             0   \n",
       "85  115                   396                 1582      cash             0   \n",
       "\n",
       "   acquired_at  company_id        name category_code    status founded_at  \\\n",
       "7   2006-10-01       314.0      Reddit           web  acquired 2005-01-01   \n",
       "49  2007-08-01       698.0  Maya's Mom           web  acquired        NaT   \n",
       "51  2007-08-01       718.0     Glimpse     ecommerce  acquired        NaT   \n",
       "65  2007-10-01       175.0    Newsvine           web  acquired 2005-03-31   \n",
       "85  2007-12-01      1582.0   BeliefNet           web  acquired 2008-01-01   \n",
       "\n",
       "   closed_at         domain network_username country_code  investment_rounds  \\\n",
       "7        NaT     reddit.com           reddit          USA                0.0   \n",
       "49       NaT   mayasmom.com              NaN          USA                0.0   \n",
       "51       NaT    glimpse.com              NaN          USA                0.0   \n",
       "65       NaT   newsvine.com              NaN          USA                0.0   \n",
       "85       NaT  beliefnet.com         eliefnet          USA                0.0   \n",
       "\n",
       "    funding_rounds  funding_total  milestones  log_funding_total  \n",
       "7              1.0       100000.0         3.0               11.5  \n",
       "49             1.0      1000000.0         2.0               13.8  \n",
       "51             1.0      4000000.0         0.0               15.2  \n",
       "65             1.0      1250000.0         0.0               14.0  \n",
       "85             1.0      7000000.0         3.0               15.8  "
      ]
     },
     "execution_count": 92,
     "metadata": {},
     "output_type": "execute_result"
    }
   ],
   "source": [
    "# присоединю информацию о продажах компании и оставлю только те компании, которые продавались\n",
    "\n",
    "acquisitions = pd.merge(acquisition_df, companies_filtered, \n",
    "        how='left', \n",
    "        left_on='acquired_company_id',\n",
    "        right_on='company_id')\n",
    "\n",
    "#выберу компании, у которых был ненулевой общий объём финансирования.\n",
    "\n",
    "acquisitions_filtered = acquisitions[(acquisitions['funding_total'] > 0) & \n",
    "                                     ((acquisitions['price_amount'] == 0) |\n",
    "                                      (acquisitions['price_amount'] == 1))]\n",
    "\n",
    "acquisitions_filtered.head()"
   ]
  },
  {
   "cell_type": "markdown",
   "metadata": {},
   "source": [
    "Сразу же бросается в глаза Reddit, у которого price amount = 0, хотя нам известно, что данный стартап был продан за 10 млн долларов в 2006 году компанией \"Condé Nast\" [https://rb.ru/story/reddit-internet-frontpage/] или компаний Yedda, которая была продана в 2007, однако условия сделки все еще не раскрыты.\n",
    "\n",
    "Можно сделать вывод, что компании, которые \"проданы за 1 или 0\", просто не раскрывали условия своих сделок, или условия не были известны на момент собирания данной базы, которую просто неактулизировали. Так или иначе, это не значит, что такие компании были отданы даром.\n",
    "\n",
    "Далее проанализирую \"funding_total\" у таких компаний."
   ]
  },
  {
   "cell_type": "code",
   "execution_count": 94,
   "metadata": {},
   "outputs": [
    {
     "data": {
      "text/plain": [
       "count         1618.0\n",
       "mean      18152961.9\n",
       "std      144503027.5\n",
       "min           3750.0\n",
       "25%        2000000.0\n",
       "50%        6000000.0\n",
       "75%       15500000.0\n",
       "max     5700000000.0\n",
       "Name: funding_total, dtype: float64"
      ]
     },
     "execution_count": 94,
     "metadata": {},
     "output_type": "execute_result"
    }
   ],
   "source": [
    "acquisitions_filtered['funding_total'].describe()"
   ]
  },
  {
   "cell_type": "markdown",
   "metadata": {},
   "source": [
    "Стандартное отклонение намного больше медианного, что снова говорит о том, что разброс данных очень большой. Как видно Максимальное значение в почти 6 млд явно отклоняет среднее значение 'funding_total' от медианы."
   ]
  },
  {
   "cell_type": "code",
   "execution_count": 96,
   "metadata": {},
   "outputs": [
    {
     "data": {
      "image/png": "[encoded data removed]",
      "text/plain": [
       "<Figure size 1200x200 with 1 Axes>"
      ]
     },
     "metadata": {},
     "output_type": "display_data"
    }
   ],
   "source": [
    "plt.figure(figsize=(12, 2))\n",
    "\n",
    "sns.boxplot(x=acquisitions_filtered['funding_total'])\n",
    "\n",
    "plt.title('Распределение значений финансирования стартапа')\n",
    "plt.xlabel('Финансирование стартапа, млрд')\n",
    "\n",
    "\n",
    "plt.show()"
   ]
  },
  {
   "cell_type": "markdown",
   "metadata": {},
   "source": [
    "Максимальный выброс, значение которого больше 5-ти миллиардов, сильно растягивает диаграмму. предлагаю его отсеять для большей наглядности"
   ]
  },
  {
   "cell_type": "code",
   "execution_count": 98,
   "metadata": {},
   "outputs": [
    {
     "data": {
      "image/png": "[encoded data removed]",
      "text/plain": [
       "<Figure size 1200x200 with 1 Axes>"
      ]
     },
     "metadata": {},
     "output_type": "display_data"
    }
   ],
   "source": [
    "plt.figure(figsize=(12, 2))\n",
    "\n",
    "sns.boxplot(x=acquisitions_filtered[acquisitions_filtered['funding_total'] < 5000000000]['funding_total'])\n",
    "\n",
    "plt.title('Распределение значений финансирования стартапа')\n",
    "plt.xlabel('Финансирование стартапа, сотен миллионов')\n",
    "\n",
    "\n",
    "plt.show()"
   ]
  },
  {
   "cell_type": "markdown",
   "metadata": {},
   "source": [
    "Полученный \"Ящик с усами\" более наглядный. Видно, что большинество значений распределены примерно до 100 миллионов. Предлагаю снова посмотреть на график, а котором отсеяны большие значения "
   ]
  },
  {
   "cell_type": "code",
   "execution_count": 100,
   "metadata": {},
   "outputs": [
    {
     "data": {
      "text/plain": [
       "np.float64(0.01)"
      ]
     },
     "execution_count": 100,
     "metadata": {},
     "output_type": "execute_result"
    }
   ],
   "source": [
    "# Посчитаю, какую долю значений занимают значения до 100 млн\n",
    "\n",
    "round(acquisitions_filtered[acquisitions_filtered['funding_total'] > 100000000]['funding_total'].count() / acquisitions_filtered['funding_total'].count(), 2)"
   ]
  },
  {
   "cell_type": "markdown",
   "metadata": {},
   "source": [
    "Могу их отсеять, не боясь за искажение данных"
   ]
  },
  {
   "cell_type": "code",
   "execution_count": 102,
   "metadata": {
    "scrolled": true
   },
   "outputs": [
    {
     "data": {
      "image/png": "[encoded data removed]",
      "text/plain": [
       "<Figure size 1200x200 with 1 Axes>"
      ]
     },
     "metadata": {},
     "output_type": "display_data"
    }
   ],
   "source": [
    "plt.figure(figsize=(12, 2))\n",
    "\n",
    "sns.boxplot(x=acquisitions_filtered[acquisitions_filtered['funding_total'] < 100000000]['funding_total'])\n",
    "\n",
    "plt.title('Распределение значений финансирования стартапа')\n",
    "plt.xlabel('Финансирование стартапа, десятков миллионов')\n",
    "\n",
    "\n",
    "plt.show()"
   ]
  },
  {
   "cell_type": "markdown",
   "metadata": {},
   "source": [
    "На данном графике уже разборчиво видно, что 75% значений лежит в диапазоне до 18 млн, а выбросы определены значениями больше 37 миллионов. Предлагаю определить данное значение, как верхнюю границу выбросов. Проверю, каким персентилем она обозначается"
   ]
  },
  {
   "cell_type": "code",
   "execution_count": 104,
   "metadata": {},
   "outputs": [
    {
     "name": "stdout",
     "output_type": "stream",
     "text": [
      "перцентиль нижней границы выбросов:\n",
      "0\n",
      "перцентиль верхней границы выбросов:\n",
      "91\n"
     ]
    }
   ],
   "source": [
    "print(\"перцентиль нижней границы выбросов:\")\n",
    "\n",
    "print(round(acquisitions_filtered[acquisitions_filtered['funding_total'] < 3751]['funding_total'].count()/acquisitions_filtered['funding_total'].count() * 100))\n",
    "\n",
    "print(\"перцентиль верхней границы выбросов:\")\n",
    "\n",
    "print(round(acquisitions_filtered[acquisitions_filtered['funding_total'] < 37000000]['funding_total'].count()/acquisitions_filtered['funding_total'].count() * 100))\n"
   ]
  },
  {
   "cell_type": "markdown",
   "metadata": {},
   "source": [
    "<div class=\"alert alert-info \" role=\"alert\"> <b>\n",
    "При анализе компании, которые были проданы за 1 или 0 рублей были определены следующие границы выбросов - 3751 и 37 млн, что соответсвует 0 и 91 персентилю. Медианное значение финансирования таких компании соответсвует 8,5 млн. Рекомендуется разделить компании на сегменты по сумме финансирования и провести отдельную аналитику для сегментов\n",
    "    <b>"
   ]
  },
  {
   "cell_type": "markdown",
   "metadata": {
    "id": "mEiWpROjrJg2"
   },
   "source": [
    "\n",
    "### 3.4. Цены стартапов по категориям\n",
    "\n",
    "Категории стартапов с наибольшими ценами и значительным разбросом цен могут быть наиболее привлекательными для крупных инвесторов, которые готовы к высоким рискам ради потенциально больших доходов. Среди категорий стартапов выделите категории стартапов, характеризующиеся:\n",
    "\n",
    "* наибольшими ценами;\n",
    "* и наибольшим разбросом цен за стартап.\n",
    "\n",
    "Объясните, почему решили составить топ именно из такого числа категорий и почему рассчитывали именно так."
   ]
  },
  {
   "cell_type": "code",
   "execution_count": 107,
   "metadata": {
    "id": "jQ09dYUWrJg2"
   },
   "outputs": [
    {
     "name": "stdout",
     "output_type": "stream",
     "text": [
      "Топ категорий с наибольшим разбросом цен за стратап:\n",
      "\n",
      "category_code\n",
      "enterprise         128088235060.2\n",
      "public_relations     4059244205.0\n",
      "real_estate          2505122913.1\n",
      "automotive           2297757559.0\n",
      "biotech              1540373521.4\n",
      "health               1249084287.1\n",
      "other                1085128941.4\n",
      "manufacturing         969657968.0\n",
      "finance               796098475.8\n",
      "semiconductor         790488902.8\n",
      "Name: price_amount, dtype: float64\n",
      "\n",
      "Топ категорий с наибольшими ценами за стратап:\n",
      "category_code\n",
      "nanotech        584000000.0\n",
      "manufacturing    72000000.0\n",
      "real_estate      50000000.0\n",
      "automotive       43000000.0\n",
      "biotech          13200000.0\n",
      "hospitality      12500000.0\n",
      "finance            600000.0\n",
      "news                    0.0\n",
      "nonprofit               0.0\n",
      "other                   0.0\n",
      "Name: price_amount, dtype: float64\n",
      "\n",
      "Топ категорий по стоимости дорогих компании:\n",
      "category_code\n",
      "automotive       4080000000.0\n",
      "real_estate      3400000000.0\n",
      "manufacturing    1760000000.0\n",
      "sports            695000000.0\n",
      "finance           684400000.0\n",
      "biotech           650000000.0\n",
      "hospitality       600000000.0\n",
      "nanotech          584000000.0\n",
      "transportation    578000000.0\n",
      "health            409400000.0\n",
      "Name: price_amount, dtype: float64\n"
     ]
    }
   ],
   "source": [
    "\n",
    "# Определю топ категорий с наибольшим разбросом цен, сравнивать буду именно std, так как std и говорит нам о разбросе значений\n",
    "print('Топ категорий с наибольшим разбросом цен за стратап:')\n",
    "print()\n",
    "print(\n",
    "acquisitions.groupby('category_code')['price_amount'].std().sort_values(ascending=False).head(10)\n",
    ")   \n",
    "# Определю топ категорий с наибольшими типичными ценами для категории, сравнивать буду медиану\n",
    "\n",
    "print()\n",
    "print('Топ категорий с наибольшими ценами за стратап:')\n",
    "print(\n",
    "acquisitions.groupby('category_code')['price_amount'].median().sort_values(ascending=False).head(10)\n",
    ")\n",
    "# Определю топ категорий по стоимости дорогих компании, сравнивать буду 90й перцентиль. \n",
    "# он покажет, от какой стоимости начинаются 10% самых дорогих компаний в категории\n",
    "\n",
    "print()\n",
    "print('Топ категорий по стоимости дорогих компании:')\n",
    "print(\n",
    "acquisitions.groupby('category_code')['price_amount'].quantile(q=0.90).sort_values(ascending=False).head(10)\n",
    ")"
   ]
  },
  {
   "cell_type": "markdown",
   "metadata": {},
   "source": [
    "Выводы по выведенным данным:\n",
    "* enterprise, public_relations, real_estate, automotive, biotech, health, other - категории с наибольшим разбросом цен за стартап (std > 1 млрд)   \n",
    "* nanotech, manufacturing, real_estate, automotive, biotech, hospitality, finance - категории, в которых типичная цена стартапа выше остальных категорий\n",
    "* automotive, real_estate, manufacturing - категории, в которых дорогие стартапы относительно своей категории дороже остальных. В этих категориях самая дешевая компания среди 10% самых дорогих была продана более чем за 1 мдлр"
   ]
  },
  {
   "cell_type": "code",
   "execution_count": 109,
   "metadata": {
    "id": "MFONscXPn29F"
   },
   "outputs": [],
   "source": [
    "# Теперь визуализации\n",
    "top_std = acquisitions.groupby('category_code')['price_amount'].std().sort_values(ascending=False).head(7)\n",
    "top_median = acquisitions.groupby('category_code')['price_amount'].median().sort_values(ascending=False).head(7)\n",
    "top_expensive = acquisitions.groupby('category_code')['price_amount'].quantile(q=0.90).sort_values(ascending=False).head(15)\n"
   ]
  },
  {
   "cell_type": "code",
   "execution_count": 110,
   "metadata": {},
   "outputs": [
    {
     "data": {
      "image/png": "[encoded data removed]",
      "text/plain": [
       "<Figure size 800x500 with 1 Axes>"
      ]
     },
     "metadata": {},
     "output_type": "display_data"
    }
   ],
   "source": [
    "plt.rcParams[\"figure.figsize\"] = (8,5)\n",
    "\n",
    "top_std.plot(kind='bar', grid = True)\n",
    "\n",
    "plt.title('Топ категорий по разбросу цен стартапа')\n",
    "plt.ylabel('Стандартное отклонение, в сотнях млрд')\n",
    "\n",
    "plt.show()"
   ]
  },
  {
   "cell_type": "markdown",
   "metadata": {},
   "source": [
    "Так как категория enterprise сильно выделяется, выведу топ без этой категории"
   ]
  },
  {
   "cell_type": "code",
   "execution_count": 112,
   "metadata": {},
   "outputs": [
    {
     "data": {
      "image/png": "[encoded data removed]",
      "text/plain": [
       "<Figure size 800x500 with 1 Axes>"
      ]
     },
     "metadata": {},
     "output_type": "display_data"
    }
   ],
   "source": [
    "plt.rcParams[\"figure.figsize\"] = (8,5)\n",
    "\n",
    "top_std.loc[['public_relations', \n",
    "             'real_estate', \n",
    "             'automotive',\n",
    "             'biotech',\n",
    "             'health',\n",
    "             'other']].plot(kind='bar', grid = True)\n",
    "\n",
    "plt.title('Топ категорий по разбросу цен стартапа, без enterprise')\n",
    "plt.ylabel('Стандартное отклонение, в млрд')\n",
    "\n",
    "plt.show()"
   ]
  },
  {
   "cell_type": "code",
   "execution_count": 113,
   "metadata": {
    "scrolled": true
   },
   "outputs": [
    {
     "data": {
      "image/png": "[encoded data removed]",
      "text/plain": [
       "<Figure size 800x500 with 1 Axes>"
      ]
     },
     "metadata": {},
     "output_type": "display_data"
    }
   ],
   "source": [
    "plt.rcParams[\"figure.figsize\"] = (8,5)\n",
    "\n",
    "top_median.plot(kind='bar', grid = True)\n",
    "\n",
    "plt.title('Топ категорий по типичной цене стартапа')\n",
    "plt.ylabel('Медиана, в сотнях млн')\n",
    "\n",
    "plt.show()"
   ]
  },
  {
   "cell_type": "markdown",
   "metadata": {},
   "source": [
    "Так как категория nanotech сильно выделяется, выведу топ без этой категории"
   ]
  },
  {
   "cell_type": "code",
   "execution_count": 115,
   "metadata": {
    "scrolled": true
   },
   "outputs": [
    {
     "data": {
      "image/png": "[encoded data removed]",
      "text/plain": [
       "<Figure size 800x500 with 1 Axes>"
      ]
     },
     "metadata": {},
     "output_type": "display_data"
    }
   ],
   "source": [
    "plt.rcParams[\"figure.figsize\"] = (8,5)\n",
    "\n",
    "top_median.loc[['manufacturing',\n",
    "                'real_estate',\n",
    "                'automotive',\n",
    "                'biotech',\n",
    "                'hospitality',\n",
    "                'finance']].plot(kind='bar', grid = True)\n",
    "\n",
    "plt.title('Топ категорий по типичной цене стартапа')\n",
    "plt.ylabel('Медиана, в десятках млн')\n",
    "\n",
    "plt.show()"
   ]
  },
  {
   "cell_type": "code",
   "execution_count": 116,
   "metadata": {
    "scrolled": true
   },
   "outputs": [
    {
     "data": {
      "image/png": "[encoded data removed]",
      "text/plain": [
       "<Figure size 800x500 with 1 Axes>"
      ]
     },
     "metadata": {},
     "output_type": "display_data"
    }
   ],
   "source": [
    "plt.rcParams[\"figure.figsize\"] = (8,5)\n",
    "\n",
    "top_expensive.plot(kind='bar', grid = True)\n",
    "\n",
    "plt.title('Топ дорогих категорий среди дорогих стартапов в каждой категории')\n",
    "plt.ylabel('90й перцентиль, в млрд')\n",
    "\n",
    "plt.show()"
   ]
  },
  {
   "cell_type": "markdown",
   "metadata": {},
   "source": [
    "<div class=\"alert alert-info \" role=\"alert\"> <b>\n",
    "Подводя итоги можно выделить:\n",
    "    \n",
    "    \n",
    "- категорию enterprise с самым большим разбросом цен - более 100 млрд, при том, что в остальных категориях это значение не выше 5 млрд\n",
    "- категорию nanotech с типичной ценой продажи стартапа почти 600 млн, в то время, как в остальных категориях это значение не выше 100 млн\n",
    "- категории automotive, real_estate, manufacturing, как категории в которых дорогие стартапы наиболее дорогие\n",
    "    <b>"
   ]
  },
  {
   "cell_type": "markdown",
   "metadata": {
    "id": "ADOfyVY_rJg3"
   },
   "source": [
    "\n",
    "### 3.5. Сколько раундов продержится стартап перед покупкой\n",
    "\n",
    "* Необходимо проанализировать столбец `funding_rounds`. Исследуйте значения столбца. Заказчика интересует типичное значение количества раундов для каждого возможного статуса стартапа.\n",
    "\n",
    "* Постройте график, который отображает, сколько в среднем раундов финансирования проходило для стартапов из каждой группы. Сделайте выводы."
   ]
  },
  {
   "cell_type": "code",
   "execution_count": 119,
   "metadata": {
    "id": "hgXMPC4WrJg3",
    "scrolled": true
   },
   "outputs": [
    {
     "data": {
      "text/plain": [
       "status\n",
       "ipo         1.9\n",
       "operating   1.5\n",
       "closed      1.4\n",
       "acquired    0.5\n",
       "Name: funding_rounds, dtype: float64"
      ]
     },
     "execution_count": 119,
     "metadata": {},
     "output_type": "execute_result"
    }
   ],
   "source": [
    "#Использую companies_filtered, в котором информация о всех уникальных компаниях\n",
    "companies_filtered.groupby('status')['funding_rounds'].mean().sort_values(ascending=False)"
   ]
  },
  {
   "cell_type": "code",
   "execution_count": 120,
   "metadata": {},
   "outputs": [
    {
     "data": {
      "image/png": "[encoded data removed]",
      "text/plain": [
       "<Figure size 800x500 with 1 Axes>"
      ]
     },
     "metadata": {},
     "output_type": "display_data"
    }
   ],
   "source": [
    "plt.rcParams[\"figure.figsize\"] = (8,5)\n",
    "\n",
    "companies_filtered.groupby('status')['funding_rounds'].mean().sort_values(ascending=False).plot(kind='bar')\n",
    "\n",
    "plt.title('Среднее число кругов финансирования по статусам стартапа')\n",
    "\n",
    "plt.show()"
   ]
  },
  {
   "cell_type": "markdown",
   "metadata": {},
   "source": [
    "<div class=\"alert alert-info \" role=\"alert\"> <b>\n",
    "Самое большое число кругов финансирования имеют стартапы со статусом ipo\n",
    "    <b>"
   ]
  },
  {
   "cell_type": "markdown",
   "metadata": {
    "id": "VAFEZ2HBrJg3"
   },
   "source": [
    "\n",
    "## Шаг 4. Итоговый вывод и рекомендации\n",
    "\n",
    "### Выводы по итогам проделанной работы:\n",
    "* В данных содержится много пропусков, однако это не помешало ответить на вопросы заказчика. \n",
    "* В ходе знакомства с данными были оптимизированы названия столбцов и тип данных \n",
    "- Тенденции изменения числа кругов финансирования и средней суммы финансирования по годам: в 2005 году средняя сумма финансирования была максимальной за период и составила 5.5 млн. ден. ед., однако число кругов финансирования увеличивается из года в год и к 2013 году составляла 11042.\n",
    "- В компаниях с числом сотрудников > 10 больше шанс найти информацию об образовании сотрудника (60+%).\n",
    "- Столбец \"network_username\" в разных датафреймах принимает разные значения и не подходит в роли ключа для джоина\n",
    "- Рекомендация хранить информацию об образовании 1 сотрудника в 1 строке используя списки в роли значений\n",
    "- Проведена отчистка датафрейма company_and_rounds.csv от компаний без информации о кругах финансирования и разделение датафрейма на 2: companies_df и funding_rounds_df\n",
    "- 1618 компаний, которые финансировались, были проданы за 1 и 0, однако определенно недостаточными сведениями о каждой такой сделке\n",
    "- При анализе компании, которые были проданы за 1 или 0 рублей были определены следующие границы выбросов - 3751 и 37 млн, что соответсвует 0 и 91 персентилю. Медианное значение финансирования таких компании соответсвует 8,5 млн.\n",
    "- Для анализа финансировалия всех компаний рекомендуется разделить компании на сегменты по funding_total и анализировать каждый сегмент отдельно\n",
    "- Самое большое число кругов финансирования имеют стартапы со статусом ipo\n",
    "\n",
    "\n",
    "При анализе категорий стартапов можно выделить следующие категории:\n",
    "\n",
    "- категорию enterprise с самым большим разбросом цен - более 100 млрд, при том, что в остальных категориях это значение не выше 5 млрд\n",
    "- категорию nanotech с типичной ценой продажи стартапа почти 600 млн, в то время, как в остальных категориях это значение не выше 100 млн\n",
    "- категории automotive, real_estate, manufacturing, как категории в которых дорогие стартапы наиболее дорогие\n"
   ]
  },
  {
   "cell_type": "code",
   "execution_count": null,
   "metadata": {},
   "outputs": [],
   "source": []
  }
 ],
 "metadata": {
  "ExecuteTimeLog": [
   {
    "duration": 6364,
    "start_time": "2025-02-25T15:47:04.444Z"
   },
   {
    "duration": 2140,
    "start_time": "2025-02-25T15:50:13.758Z"
   },
   {
    "duration": 12,
    "start_time": "2025-02-25T15:52:12.078Z"
   },
   {
    "duration": 15,
    "start_time": "2025-02-25T15:52:26.912Z"
   },
   {
    "duration": 25,
    "start_time": "2025-02-25T15:52:42.946Z"
   },
   {
    "duration": 13,
    "start_time": "2025-02-25T15:59:52.360Z"
   },
   {
    "duration": 8,
    "start_time": "2025-02-25T15:59:58.908Z"
   },
   {
    "duration": 8,
    "start_time": "2025-02-25T16:00:15.202Z"
   },
   {
    "duration": 115,
    "start_time": "2025-02-25T16:10:33.704Z"
   },
   {
    "duration": 103,
    "start_time": "2025-02-25T16:11:10.445Z"
   },
   {
    "duration": 130,
    "start_time": "2025-02-25T16:29:20.775Z"
   },
   {
    "duration": 131,
    "start_time": "2025-02-25T16:29:51.884Z"
   },
   {
    "duration": 123,
    "start_time": "2025-02-25T16:30:51.403Z"
   },
   {
    "duration": 3,
    "start_time": "2025-02-25T16:33:49.904Z"
   },
   {
    "duration": 95,
    "start_time": "2025-02-25T16:36:49.341Z"
   },
   {
    "duration": 43,
    "start_time": "2025-02-25T16:36:56.971Z"
   },
   {
    "duration": 133,
    "start_time": "2025-02-25T16:37:07.895Z"
   },
   {
    "duration": 116,
    "start_time": "2025-02-25T16:37:32.560Z"
   },
   {
    "duration": 36,
    "start_time": "2025-02-25T16:37:42.211Z"
   },
   {
    "duration": 8,
    "start_time": "2025-02-25T16:41:05.609Z"
   },
   {
    "duration": 10,
    "start_time": "2025-02-25T16:41:18.068Z"
   },
   {
    "duration": 35,
    "start_time": "2025-02-25T16:50:54.185Z"
   },
   {
    "duration": 49,
    "start_time": "2025-02-26T15:19:41.507Z"
   },
   {
    "duration": 4762,
    "start_time": "2025-02-26T15:19:50.938Z"
   },
   {
    "duration": 2434,
    "start_time": "2025-02-26T15:19:55.702Z"
   },
   {
    "duration": 21,
    "start_time": "2025-02-26T15:19:58.137Z"
   },
   {
    "duration": 8,
    "start_time": "2025-02-26T15:19:58.160Z"
   },
   {
    "duration": 18,
    "start_time": "2025-02-26T15:19:58.169Z"
   },
   {
    "duration": 134,
    "start_time": "2025-02-26T15:19:58.189Z"
   },
   {
    "duration": 105,
    "start_time": "2025-02-26T15:19:58.329Z"
   },
   {
    "duration": 113,
    "start_time": "2025-02-26T15:19:58.436Z"
   },
   {
    "duration": 188,
    "start_time": "2025-02-26T15:22:15.026Z"
   },
   {
    "duration": 76,
    "start_time": "2025-02-26T15:22:26.094Z"
   },
   {
    "duration": 468,
    "start_time": "2025-02-26T15:26:15.314Z"
   },
   {
    "duration": 531,
    "start_time": "2025-02-26T15:26:29.137Z"
   },
   {
    "duration": 534,
    "start_time": "2025-02-26T15:30:38.686Z"
   },
   {
    "duration": 976,
    "start_time": "2025-02-26T15:33:45.285Z"
   },
   {
    "duration": 3598,
    "start_time": "2025-02-26T15:34:01.089Z"
   },
   {
    "duration": 2255,
    "start_time": "2025-02-26T15:34:04.689Z"
   },
   {
    "duration": 21,
    "start_time": "2025-02-26T15:34:06.946Z"
   },
   {
    "duration": 9,
    "start_time": "2025-02-26T15:34:06.969Z"
   },
   {
    "duration": 26,
    "start_time": "2025-02-26T15:34:06.980Z"
   },
   {
    "duration": 125,
    "start_time": "2025-02-26T15:34:07.007Z"
   },
   {
    "duration": 101,
    "start_time": "2025-02-26T15:34:07.133Z"
   },
   {
    "duration": 657,
    "start_time": "2025-02-26T15:34:07.236Z"
   },
   {
    "duration": 1003,
    "start_time": "2025-02-26T15:34:40.871Z"
   },
   {
    "duration": 3565,
    "start_time": "2025-02-26T15:34:48.806Z"
   },
   {
    "duration": 2037,
    "start_time": "2025-02-26T15:34:52.373Z"
   },
   {
    "duration": 24,
    "start_time": "2025-02-26T15:34:54.412Z"
   },
   {
    "duration": 37,
    "start_time": "2025-02-26T15:34:54.437Z"
   },
   {
    "duration": 7,
    "start_time": "2025-02-26T15:34:54.475Z"
   },
   {
    "duration": 119,
    "start_time": "2025-02-26T15:34:54.484Z"
   },
   {
    "duration": 95,
    "start_time": "2025-02-26T15:34:54.605Z"
   },
   {
    "duration": 658,
    "start_time": "2025-02-26T15:34:54.701Z"
   },
   {
    "duration": 3407,
    "start_time": "2025-02-26T15:40:49.657Z"
   },
   {
    "duration": 2143,
    "start_time": "2025-02-26T15:40:53.066Z"
   },
   {
    "duration": 24,
    "start_time": "2025-02-26T15:40:55.211Z"
   },
   {
    "duration": 10,
    "start_time": "2025-02-26T15:40:55.236Z"
   },
   {
    "duration": 8,
    "start_time": "2025-02-26T15:40:55.248Z"
   },
   {
    "duration": 135,
    "start_time": "2025-02-26T15:40:55.257Z"
   },
   {
    "duration": 103,
    "start_time": "2025-02-26T15:40:55.394Z"
   },
   {
    "duration": 676,
    "start_time": "2025-02-26T15:40:55.499Z"
   },
   {
    "duration": 3548,
    "start_time": "2025-02-26T15:44:40.990Z"
   },
   {
    "duration": 1926,
    "start_time": "2025-02-26T15:44:44.540Z"
   },
   {
    "duration": 21,
    "start_time": "2025-02-26T15:44:46.469Z"
   },
   {
    "duration": 7,
    "start_time": "2025-02-26T15:44:46.492Z"
   },
   {
    "duration": 29,
    "start_time": "2025-02-26T15:44:46.501Z"
   },
   {
    "duration": 122,
    "start_time": "2025-02-26T15:44:46.532Z"
   },
   {
    "duration": 98,
    "start_time": "2025-02-26T15:44:46.655Z"
   },
   {
    "duration": 661,
    "start_time": "2025-02-26T15:44:46.755Z"
   },
   {
    "duration": 3450,
    "start_time": "2025-02-26T15:45:16.638Z"
   },
   {
    "duration": 1960,
    "start_time": "2025-02-26T15:45:20.091Z"
   },
   {
    "duration": 21,
    "start_time": "2025-02-26T15:45:22.053Z"
   },
   {
    "duration": 8,
    "start_time": "2025-02-26T15:45:22.076Z"
   },
   {
    "duration": 13,
    "start_time": "2025-02-26T15:45:22.085Z"
   },
   {
    "duration": 144,
    "start_time": "2025-02-26T15:45:22.099Z"
   },
   {
    "duration": 101,
    "start_time": "2025-02-26T15:45:22.244Z"
   },
   {
    "duration": 687,
    "start_time": "2025-02-26T15:45:22.347Z"
   },
   {
    "duration": 3389,
    "start_time": "2025-02-26T15:47:05.278Z"
   },
   {
    "duration": 2419,
    "start_time": "2025-02-26T15:47:08.668Z"
   },
   {
    "duration": 23,
    "start_time": "2025-02-26T15:47:11.088Z"
   },
   {
    "duration": 23,
    "start_time": "2025-02-26T15:47:11.113Z"
   },
   {
    "duration": 8,
    "start_time": "2025-02-26T15:47:11.138Z"
   },
   {
    "duration": 201,
    "start_time": "2025-02-26T15:47:11.148Z"
   },
   {
    "duration": 113,
    "start_time": "2025-02-26T15:47:11.351Z"
   },
   {
    "duration": 653,
    "start_time": "2025-02-26T15:47:11.465Z"
   },
   {
    "duration": 3384,
    "start_time": "2025-02-26T15:48:22.383Z"
   },
   {
    "duration": 1751,
    "start_time": "2025-02-26T15:48:25.768Z"
   },
   {
    "duration": 26,
    "start_time": "2025-02-26T15:48:27.521Z"
   },
   {
    "duration": 8,
    "start_time": "2025-02-26T15:48:27.549Z"
   },
   {
    "duration": 7,
    "start_time": "2025-02-26T15:48:27.559Z"
   },
   {
    "duration": 135,
    "start_time": "2025-02-26T15:48:27.568Z"
   },
   {
    "duration": 96,
    "start_time": "2025-02-26T15:48:27.705Z"
   },
   {
    "duration": 643,
    "start_time": "2025-02-26T15:48:27.802Z"
   },
   {
    "duration": 3547,
    "start_time": "2025-02-26T15:50:28.436Z"
   },
   {
    "duration": 2101,
    "start_time": "2025-02-26T15:50:31.985Z"
   },
   {
    "duration": 22,
    "start_time": "2025-02-26T15:50:34.088Z"
   },
   {
    "duration": 23,
    "start_time": "2025-02-26T15:50:34.112Z"
   },
   {
    "duration": 7,
    "start_time": "2025-02-26T15:50:34.137Z"
   },
   {
    "duration": 205,
    "start_time": "2025-02-26T15:50:34.145Z"
   },
   {
    "duration": 93,
    "start_time": "2025-02-26T15:50:34.351Z"
   },
   {
    "duration": 685,
    "start_time": "2025-02-26T15:50:34.446Z"
   },
   {
    "duration": 3467,
    "start_time": "2025-02-26T15:52:56.923Z"
   },
   {
    "duration": 2566,
    "start_time": "2025-02-26T15:53:00.392Z"
   },
   {
    "duration": 21,
    "start_time": "2025-02-26T15:53:02.960Z"
   },
   {
    "duration": 13,
    "start_time": "2025-02-26T15:53:02.983Z"
   },
   {
    "duration": 11,
    "start_time": "2025-02-26T15:53:02.998Z"
   },
   {
    "duration": 139,
    "start_time": "2025-02-26T15:53:03.010Z"
   },
   {
    "duration": 101,
    "start_time": "2025-02-26T15:53:03.150Z"
   },
   {
    "duration": 681,
    "start_time": "2025-02-26T15:53:03.252Z"
   },
   {
    "duration": 3476,
    "start_time": "2025-02-26T15:53:55.901Z"
   },
   {
    "duration": 2247,
    "start_time": "2025-02-26T15:53:59.379Z"
   },
   {
    "duration": 21,
    "start_time": "2025-02-26T15:54:01.630Z"
   },
   {
    "duration": 21,
    "start_time": "2025-02-26T15:54:01.653Z"
   },
   {
    "duration": 33,
    "start_time": "2025-02-26T15:54:01.675Z"
   },
   {
    "duration": 143,
    "start_time": "2025-02-26T15:54:01.710Z"
   },
   {
    "duration": 103,
    "start_time": "2025-02-26T15:54:01.855Z"
   },
   {
    "duration": 697,
    "start_time": "2025-02-26T15:54:01.960Z"
   },
   {
    "duration": 3431,
    "start_time": "2025-02-26T15:54:17.535Z"
   },
   {
    "duration": 1696,
    "start_time": "2025-02-26T15:54:20.968Z"
   },
   {
    "duration": 20,
    "start_time": "2025-02-26T15:54:22.666Z"
   },
   {
    "duration": 7,
    "start_time": "2025-02-26T15:54:22.688Z"
   },
   {
    "duration": 8,
    "start_time": "2025-02-26T15:54:22.696Z"
   },
   {
    "duration": 134,
    "start_time": "2025-02-26T15:54:22.705Z"
   },
   {
    "duration": 97,
    "start_time": "2025-02-26T15:54:22.841Z"
   },
   {
    "duration": 648,
    "start_time": "2025-02-26T15:54:22.940Z"
   },
   {
    "duration": 3385,
    "start_time": "2025-02-26T15:55:45.795Z"
   },
   {
    "duration": 1989,
    "start_time": "2025-02-26T15:55:49.182Z"
   },
   {
    "duration": 20,
    "start_time": "2025-02-26T15:55:51.172Z"
   },
   {
    "duration": 63,
    "start_time": "2025-02-26T15:55:51.194Z"
   },
   {
    "duration": 10,
    "start_time": "2025-02-26T15:55:51.259Z"
   },
   {
    "duration": 132,
    "start_time": "2025-02-26T15:55:51.271Z"
   },
   {
    "duration": 109,
    "start_time": "2025-02-26T15:55:51.405Z"
   },
   {
    "duration": 679,
    "start_time": "2025-02-26T15:55:51.516Z"
   },
   {
    "duration": 3408,
    "start_time": "2025-02-26T15:56:36.468Z"
   },
   {
    "duration": 1760,
    "start_time": "2025-02-26T15:56:39.878Z"
   },
   {
    "duration": 21,
    "start_time": "2025-02-26T15:56:41.639Z"
   },
   {
    "duration": 8,
    "start_time": "2025-02-26T15:56:41.662Z"
   },
   {
    "duration": 21,
    "start_time": "2025-02-26T15:56:41.671Z"
   },
   {
    "duration": 123,
    "start_time": "2025-02-26T15:56:41.694Z"
   },
   {
    "duration": 101,
    "start_time": "2025-02-26T15:56:41.818Z"
   },
   {
    "duration": 670,
    "start_time": "2025-02-26T15:56:41.921Z"
   },
   {
    "duration": 3500,
    "start_time": "2025-02-26T15:56:57.967Z"
   },
   {
    "duration": 1792,
    "start_time": "2025-02-26T15:57:01.470Z"
   },
   {
    "duration": 21,
    "start_time": "2025-02-26T15:57:03.263Z"
   },
   {
    "duration": 8,
    "start_time": "2025-02-26T15:57:03.286Z"
   },
   {
    "duration": 7,
    "start_time": "2025-02-26T15:57:03.295Z"
   },
   {
    "duration": 159,
    "start_time": "2025-02-26T15:57:03.304Z"
   },
   {
    "duration": 97,
    "start_time": "2025-02-26T15:57:03.465Z"
   },
   {
    "duration": 680,
    "start_time": "2025-02-26T15:57:03.564Z"
   },
   {
    "duration": 3516,
    "start_time": "2025-02-26T15:58:31.169Z"
   },
   {
    "duration": 1684,
    "start_time": "2025-02-26T15:58:34.688Z"
   },
   {
    "duration": 21,
    "start_time": "2025-02-26T15:58:36.374Z"
   },
   {
    "duration": 8,
    "start_time": "2025-02-26T15:58:36.397Z"
   },
   {
    "duration": 25,
    "start_time": "2025-02-26T15:58:36.407Z"
   },
   {
    "duration": 136,
    "start_time": "2025-02-26T15:58:36.434Z"
   },
   {
    "duration": 97,
    "start_time": "2025-02-26T15:58:36.572Z"
   },
   {
    "duration": 293,
    "start_time": "2025-02-26T15:58:36.671Z"
   },
   {
    "duration": 3437,
    "start_time": "2025-02-26T15:59:24.729Z"
   },
   {
    "duration": 1920,
    "start_time": "2025-02-26T15:59:28.170Z"
   },
   {
    "duration": 21,
    "start_time": "2025-02-26T15:59:30.092Z"
   },
   {
    "duration": 21,
    "start_time": "2025-02-26T15:59:30.115Z"
   },
   {
    "duration": 25,
    "start_time": "2025-02-26T15:59:30.137Z"
   },
   {
    "duration": 143,
    "start_time": "2025-02-26T15:59:30.164Z"
   },
   {
    "duration": 101,
    "start_time": "2025-02-26T15:59:30.309Z"
   },
   {
    "duration": 676,
    "start_time": "2025-02-26T15:59:30.412Z"
   },
   {
    "duration": 102,
    "start_time": "2025-02-26T16:00:36.747Z"
   },
   {
    "duration": 29,
    "start_time": "2025-02-26T16:00:53.665Z"
   },
   {
    "duration": 19,
    "start_time": "2025-02-26T16:02:52.943Z"
   },
   {
    "duration": 30,
    "start_time": "2025-02-26T16:06:51.073Z"
   },
   {
    "duration": 15,
    "start_time": "2025-02-26T16:08:36.702Z"
   },
   {
    "duration": 46,
    "start_time": "2025-02-26T16:14:06.706Z"
   },
   {
    "duration": 50,
    "start_time": "2025-02-26T16:15:31.811Z"
   },
   {
    "duration": 46,
    "start_time": "2025-02-26T16:15:41.911Z"
   },
   {
    "duration": 12,
    "start_time": "2025-02-26T16:16:22.079Z"
   },
   {
    "duration": 138,
    "start_time": "2025-02-26T16:16:26.596Z"
   },
   {
    "duration": 119,
    "start_time": "2025-02-26T16:16:37.052Z"
   },
   {
    "duration": 40,
    "start_time": "2025-02-26T16:17:01.413Z"
   },
   {
    "duration": 4,
    "start_time": "2025-02-26T16:28:02.765Z"
   },
   {
    "duration": 40,
    "start_time": "2025-02-26T16:28:12.936Z"
   },
   {
    "duration": 14,
    "start_time": "2025-02-26T16:29:02.397Z"
   },
   {
    "duration": 58,
    "start_time": "2025-03-01T06:25:30.547Z"
   },
   {
    "duration": 5438,
    "start_time": "2025-03-01T06:25:41.457Z"
   },
   {
    "duration": 2542,
    "start_time": "2025-03-01T06:25:46.897Z"
   },
   {
    "duration": 34,
    "start_time": "2025-03-01T06:25:49.441Z"
   },
   {
    "duration": 10,
    "start_time": "2025-03-01T06:25:49.477Z"
   },
   {
    "duration": 15,
    "start_time": "2025-03-01T06:25:49.488Z"
   },
   {
    "duration": 160,
    "start_time": "2025-03-01T06:25:49.504Z"
   },
   {
    "duration": 103,
    "start_time": "2025-03-01T06:25:49.674Z"
   },
   {
    "duration": 747,
    "start_time": "2025-03-01T06:25:49.779Z"
   },
   {
    "duration": 47,
    "start_time": "2025-03-01T06:25:50.528Z"
   },
   {
    "duration": 31,
    "start_time": "2025-03-01T06:25:50.578Z"
   },
   {
    "duration": 29,
    "start_time": "2025-03-01T06:25:50.611Z"
   },
   {
    "duration": 36,
    "start_time": "2025-03-01T06:25:50.641Z"
   },
   {
    "duration": 51,
    "start_time": "2025-03-01T06:25:50.679Z"
   },
   {
    "duration": 72,
    "start_time": "2025-03-01T06:25:50.732Z"
   },
   {
    "duration": 27,
    "start_time": "2025-03-01T06:25:50.805Z"
   },
   {
    "duration": 522,
    "start_time": "2025-03-01T06:27:00.000Z"
   },
   {
    "duration": 576,
    "start_time": "2025-03-01T06:27:57.473Z"
   },
   {
    "duration": 530,
    "start_time": "2025-03-01T06:28:08.576Z"
   },
   {
    "duration": 895,
    "start_time": "2025-03-01T06:28:36.704Z"
   },
   {
    "duration": 29,
    "start_time": "2025-03-01T06:29:28.611Z"
   },
   {
    "duration": 1229,
    "start_time": "2025-03-01T06:40:40.496Z"
   },
   {
    "duration": 1110,
    "start_time": "2025-03-01T06:53:04.156Z"
   },
   {
    "duration": 1158,
    "start_time": "2025-03-01T06:53:09.439Z"
   },
   {
    "duration": 1422,
    "start_time": "2025-03-01T06:53:22.185Z"
   },
   {
    "duration": 3858,
    "start_time": "2025-03-01T06:54:01.896Z"
   },
   {
    "duration": 2473,
    "start_time": "2025-03-01T06:54:05.756Z"
   },
   {
    "duration": 31,
    "start_time": "2025-03-01T06:54:08.231Z"
   },
   {
    "duration": 10,
    "start_time": "2025-03-01T06:54:08.264Z"
   },
   {
    "duration": 9,
    "start_time": "2025-03-01T06:54:08.276Z"
   },
   {
    "duration": 155,
    "start_time": "2025-03-01T06:54:08.287Z"
   },
   {
    "duration": 111,
    "start_time": "2025-03-01T06:54:08.443Z"
   },
   {
    "duration": 697,
    "start_time": "2025-03-01T06:54:08.556Z"
   },
   {
    "duration": 38,
    "start_time": "2025-03-01T06:54:09.255Z"
   },
   {
    "duration": 21,
    "start_time": "2025-03-01T06:54:09.296Z"
   },
   {
    "duration": 51,
    "start_time": "2025-03-01T06:54:09.319Z"
   },
   {
    "duration": 18,
    "start_time": "2025-03-01T06:54:09.372Z"
   },
   {
    "duration": 70,
    "start_time": "2025-03-01T06:54:09.391Z"
   },
   {
    "duration": 39,
    "start_time": "2025-03-01T06:54:09.463Z"
   },
   {
    "duration": 1197,
    "start_time": "2025-03-01T06:54:09.504Z"
   },
   {
    "duration": 35,
    "start_time": "2025-03-01T06:54:43.691Z"
   },
   {
    "duration": 33,
    "start_time": "2025-03-01T06:54:57.706Z"
   },
   {
    "duration": 48,
    "start_time": "2025-03-01T07:12:07.364Z"
   },
   {
    "duration": 43,
    "start_time": "2025-03-01T07:12:22.424Z"
   },
   {
    "duration": 65,
    "start_time": "2025-03-01T07:13:07.327Z"
   },
   {
    "duration": 49,
    "start_time": "2025-03-01T07:13:22.260Z"
   },
   {
    "duration": 42,
    "start_time": "2025-03-01T07:13:40.350Z"
   },
   {
    "duration": 1007,
    "start_time": "2025-03-01T07:14:07.601Z"
   },
   {
    "duration": 41,
    "start_time": "2025-03-01T07:14:18.866Z"
   },
   {
    "duration": 40,
    "start_time": "2025-03-01T07:14:49.742Z"
   },
   {
    "duration": 970,
    "start_time": "2025-03-01T07:15:04.659Z"
   },
   {
    "duration": 32,
    "start_time": "2025-03-01T07:18:02.846Z"
   },
   {
    "duration": 41,
    "start_time": "2025-03-01T07:18:07.162Z"
   },
   {
    "duration": 44,
    "start_time": "2025-03-01T07:18:36.922Z"
   },
   {
    "duration": 41,
    "start_time": "2025-03-01T07:18:57.240Z"
   },
   {
    "duration": 48,
    "start_time": "2025-03-01T07:21:27.897Z"
   },
   {
    "duration": 33,
    "start_time": "2025-03-01T07:22:34.179Z"
   },
   {
    "duration": 43,
    "start_time": "2025-03-01T07:22:39.636Z"
   },
   {
    "duration": 35,
    "start_time": "2025-03-01T07:23:11.205Z"
   },
   {
    "duration": 41,
    "start_time": "2025-03-01T07:23:14.984Z"
   },
   {
    "duration": 44,
    "start_time": "2025-03-01T07:23:35.669Z"
   },
   {
    "duration": 43,
    "start_time": "2025-03-01T07:23:45.919Z"
   },
   {
    "duration": 47,
    "start_time": "2025-03-01T07:23:59.155Z"
   },
   {
    "duration": 37,
    "start_time": "2025-03-01T07:24:56.048Z"
   },
   {
    "duration": 45,
    "start_time": "2025-03-01T07:25:08.368Z"
   },
   {
    "duration": 50,
    "start_time": "2025-03-01T07:25:23.661Z"
   },
   {
    "duration": 38,
    "start_time": "2025-03-01T07:26:24.782Z"
   },
   {
    "duration": 28,
    "start_time": "2025-03-01T07:28:38.136Z"
   },
   {
    "duration": 27,
    "start_time": "2025-03-01T07:34:06.684Z"
   },
   {
    "duration": 46,
    "start_time": "2025-03-01T07:34:28.361Z"
   },
   {
    "duration": 43,
    "start_time": "2025-03-01T07:34:50.903Z"
   },
   {
    "duration": 28,
    "start_time": "2025-03-01T07:35:41.289Z"
   },
   {
    "duration": 43,
    "start_time": "2025-03-01T07:35:46.498Z"
   },
   {
    "duration": 42,
    "start_time": "2025-03-01T07:36:22.864Z"
   },
   {
    "duration": 203,
    "start_time": "2025-03-01T07:45:02.706Z"
   },
   {
    "duration": 14,
    "start_time": "2025-03-01T07:45:17.229Z"
   },
   {
    "duration": 171,
    "start_time": "2025-03-01T07:45:23.244Z"
   },
   {
    "duration": 156,
    "start_time": "2025-03-01T07:46:12.846Z"
   },
   {
    "duration": 156,
    "start_time": "2025-03-01T07:46:22.435Z"
   },
   {
    "duration": 151,
    "start_time": "2025-03-01T07:46:32.929Z"
   },
   {
    "duration": 380,
    "start_time": "2025-03-01T07:47:09.748Z"
   },
   {
    "duration": 12,
    "start_time": "2025-03-01T07:48:13.830Z"
   },
   {
    "duration": 152,
    "start_time": "2025-03-01T07:48:21.423Z"
   },
   {
    "duration": 152,
    "start_time": "2025-03-01T07:48:26.205Z"
   },
   {
    "duration": 168,
    "start_time": "2025-03-01T07:49:34.747Z"
   },
   {
    "duration": 174,
    "start_time": "2025-03-01T07:49:39.596Z"
   },
   {
    "duration": 168,
    "start_time": "2025-03-01T07:49:46.620Z"
   },
   {
    "duration": 179,
    "start_time": "2025-03-01T07:49:50.264Z"
   },
   {
    "duration": 178,
    "start_time": "2025-03-01T07:50:20.758Z"
   },
   {
    "duration": 161,
    "start_time": "2025-03-01T07:50:47.008Z"
   },
   {
    "duration": 167,
    "start_time": "2025-03-01T07:51:37.102Z"
   },
   {
    "duration": 178,
    "start_time": "2025-03-01T07:51:46.154Z"
   },
   {
    "duration": 172,
    "start_time": "2025-03-01T07:51:58.336Z"
   },
   {
    "duration": 114,
    "start_time": "2025-03-01T07:52:27.895Z"
   },
   {
    "duration": 280,
    "start_time": "2025-03-01T07:52:43.266Z"
   },
   {
    "duration": 176,
    "start_time": "2025-03-01T07:52:55.573Z"
   },
   {
    "duration": 184,
    "start_time": "2025-03-01T07:54:02.994Z"
   },
   {
    "duration": 186,
    "start_time": "2025-03-01T07:54:09.968Z"
   },
   {
    "duration": 175,
    "start_time": "2025-03-01T07:55:26.767Z"
   },
   {
    "duration": 163,
    "start_time": "2025-03-01T07:55:44.719Z"
   },
   {
    "duration": 79,
    "start_time": "2025-03-01T07:56:18.278Z"
   },
   {
    "duration": 373,
    "start_time": "2025-03-01T07:56:26.527Z"
   },
   {
    "duration": 191,
    "start_time": "2025-03-01T07:57:05.019Z"
   },
   {
    "duration": 183,
    "start_time": "2025-03-01T07:59:42.007Z"
   },
   {
    "duration": 168,
    "start_time": "2025-03-01T08:01:57.798Z"
   },
   {
    "duration": 283,
    "start_time": "2025-03-01T08:05:07.313Z"
   },
   {
    "duration": 59,
    "start_time": "2025-03-01T08:10:43.718Z"
   },
   {
    "duration": 21,
    "start_time": "2025-03-01T08:10:54.098Z"
   },
   {
    "duration": 106,
    "start_time": "2025-03-01T08:20:22.101Z"
   },
   {
    "duration": 42,
    "start_time": "2025-03-01T08:20:34.639Z"
   },
   {
    "duration": 22,
    "start_time": "2025-03-01T08:21:09.246Z"
   },
   {
    "duration": 41,
    "start_time": "2025-03-01T08:21:19.508Z"
   },
   {
    "duration": 23,
    "start_time": "2025-03-01T08:22:06.903Z"
   },
   {
    "duration": 94,
    "start_time": "2025-03-01T08:23:42.799Z"
   },
   {
    "duration": 164,
    "start_time": "2025-03-01T08:23:50.992Z"
   },
   {
    "duration": 45,
    "start_time": "2025-03-01T08:24:30.713Z"
   },
   {
    "duration": 107,
    "start_time": "2025-03-01T08:26:17.951Z"
   },
   {
    "duration": 108,
    "start_time": "2025-03-01T08:26:59.026Z"
   },
   {
    "duration": 152,
    "start_time": "2025-03-01T08:27:07.430Z"
   },
   {
    "duration": 189,
    "start_time": "2025-03-01T08:33:03.551Z"
   },
   {
    "duration": 164,
    "start_time": "2025-03-01T08:33:54.532Z"
   },
   {
    "duration": 161,
    "start_time": "2025-03-01T08:34:05.672Z"
   },
   {
    "duration": 16,
    "start_time": "2025-03-01T08:34:30.885Z"
   },
   {
    "duration": 152,
    "start_time": "2025-03-01T08:34:41.926Z"
   },
   {
    "duration": 177,
    "start_time": "2025-03-01T08:35:09.709Z"
   },
   {
    "duration": 237,
    "start_time": "2025-03-01T08:35:44.927Z"
   },
   {
    "duration": 169,
    "start_time": "2025-03-01T08:35:51.024Z"
   },
   {
    "duration": 113,
    "start_time": "2025-03-01T08:38:37.530Z"
   },
   {
    "duration": 120,
    "start_time": "2025-03-01T08:38:52.262Z"
   },
   {
    "duration": 122,
    "start_time": "2025-03-01T08:39:14.944Z"
   },
   {
    "duration": 117,
    "start_time": "2025-03-01T08:39:40.095Z"
   },
   {
    "duration": 114,
    "start_time": "2025-03-01T08:40:27.575Z"
   },
   {
    "duration": 194,
    "start_time": "2025-03-01T08:41:11.212Z"
   },
   {
    "duration": 210,
    "start_time": "2025-03-01T08:59:21.299Z"
   },
   {
    "duration": 184,
    "start_time": "2025-03-01T09:00:42.112Z"
   },
   {
    "duration": 189,
    "start_time": "2025-03-01T09:01:07.994Z"
   },
   {
    "duration": 182,
    "start_time": "2025-03-01T09:02:20.272Z"
   },
   {
    "duration": 186,
    "start_time": "2025-03-01T09:02:47.043Z"
   },
   {
    "duration": 225,
    "start_time": "2025-03-01T09:03:03.912Z"
   },
   {
    "duration": 126,
    "start_time": "2025-03-01T09:05:43.112Z"
   },
   {
    "duration": 121,
    "start_time": "2025-03-01T09:06:06.295Z"
   },
   {
    "duration": 324,
    "start_time": "2025-03-01T09:06:21.367Z"
   },
   {
    "duration": 218,
    "start_time": "2025-03-01T09:07:12.856Z"
   },
   {
    "duration": 204,
    "start_time": "2025-03-01T09:08:08.598Z"
   },
   {
    "duration": 136,
    "start_time": "2025-03-01T09:08:14.374Z"
   },
   {
    "duration": 145,
    "start_time": "2025-03-01T09:08:32.451Z"
   },
   {
    "duration": 163,
    "start_time": "2025-03-01T09:15:39.526Z"
   },
   {
    "duration": 146,
    "start_time": "2025-03-01T09:15:46.262Z"
   },
   {
    "duration": 138,
    "start_time": "2025-03-01T09:15:53.190Z"
   },
   {
    "duration": 142,
    "start_time": "2025-03-01T09:15:56.537Z"
   },
   {
    "duration": 151,
    "start_time": "2025-03-01T09:16:03.440Z"
   },
   {
    "duration": 521,
    "start_time": "2025-03-01T09:16:15.640Z"
   },
   {
    "duration": 4680,
    "start_time": "2025-03-02T08:13:08.024Z"
   },
   {
    "duration": 1884,
    "start_time": "2025-03-02T08:13:12.706Z"
   },
   {
    "duration": 21,
    "start_time": "2025-03-02T08:13:14.592Z"
   },
   {
    "duration": 8,
    "start_time": "2025-03-02T08:13:14.616Z"
   },
   {
    "duration": 55,
    "start_time": "2025-03-02T08:13:14.625Z"
   },
   {
    "duration": 140,
    "start_time": "2025-03-02T08:13:14.681Z"
   },
   {
    "duration": 97,
    "start_time": "2025-03-02T08:13:14.822Z"
   },
   {
    "duration": 637,
    "start_time": "2025-03-02T08:13:14.921Z"
   },
   {
    "duration": 29,
    "start_time": "2025-03-02T08:13:15.559Z"
   },
   {
    "duration": 20,
    "start_time": "2025-03-02T08:13:15.590Z"
   },
   {
    "duration": 48,
    "start_time": "2025-03-02T08:13:15.611Z"
   },
   {
    "duration": 16,
    "start_time": "2025-03-02T08:13:15.660Z"
   },
   {
    "duration": 44,
    "start_time": "2025-03-02T08:13:15.678Z"
   },
   {
    "duration": 60,
    "start_time": "2025-03-02T08:13:15.724Z"
   },
   {
    "duration": 48,
    "start_time": "2025-03-02T08:13:15.785Z"
   },
   {
    "duration": 198,
    "start_time": "2025-03-02T08:13:15.834Z"
   },
   {
    "duration": 454,
    "start_time": "2025-03-02T08:13:16.034Z"
   },
   {
    "duration": 121,
    "start_time": "2025-03-02T08:15:01.704Z"
   },
   {
    "duration": 449,
    "start_time": "2025-03-02T08:17:53.475Z"
   },
   {
    "duration": 248,
    "start_time": "2025-03-02T08:18:10.684Z"
   },
   {
    "duration": 117,
    "start_time": "2025-03-02T08:18:22.435Z"
   },
   {
    "duration": 246,
    "start_time": "2025-03-02T08:18:40.199Z"
   },
   {
    "duration": 335,
    "start_time": "2025-03-02T08:18:59.553Z"
   },
   {
    "duration": 607,
    "start_time": "2025-03-02T08:19:09.560Z"
   },
   {
    "duration": 117,
    "start_time": "2025-03-02T08:19:35.673Z"
   },
   {
    "duration": 118,
    "start_time": "2025-03-02T08:27:19.241Z"
   },
   {
    "duration": 123,
    "start_time": "2025-03-02T08:27:23.621Z"
   },
   {
    "duration": 119,
    "start_time": "2025-03-02T08:27:42.155Z"
   },
   {
    "duration": 122,
    "start_time": "2025-03-02T08:27:47.140Z"
   },
   {
    "duration": 122,
    "start_time": "2025-03-02T08:27:53.259Z"
   },
   {
    "duration": 130,
    "start_time": "2025-03-02T08:28:17.991Z"
   },
   {
    "duration": 12,
    "start_time": "2025-03-02T08:30:20.511Z"
   },
   {
    "duration": 11,
    "start_time": "2025-03-02T08:30:29.604Z"
   },
   {
    "duration": 8,
    "start_time": "2025-03-02T08:30:45.747Z"
   },
   {
    "duration": 8,
    "start_time": "2025-03-02T08:30:52.475Z"
   },
   {
    "duration": 7,
    "start_time": "2025-03-02T08:30:57.444Z"
   },
   {
    "duration": 10,
    "start_time": "2025-03-02T08:31:01.540Z"
   },
   {
    "duration": 7,
    "start_time": "2025-03-02T08:31:07.382Z"
   },
   {
    "duration": 117,
    "start_time": "2025-03-02T08:31:18.404Z"
   },
   {
    "duration": 122,
    "start_time": "2025-03-02T08:31:22.067Z"
   },
   {
    "duration": 8,
    "start_time": "2025-03-02T08:31:32.102Z"
   },
   {
    "duration": 8,
    "start_time": "2025-03-02T08:31:48.810Z"
   },
   {
    "duration": 6,
    "start_time": "2025-03-02T08:31:59.555Z"
   },
   {
    "duration": 117,
    "start_time": "2025-03-02T08:32:13.578Z"
   },
   {
    "duration": 3,
    "start_time": "2025-03-02T08:35:21.697Z"
   },
   {
    "duration": 3,
    "start_time": "2025-03-02T08:35:30.065Z"
   },
   {
    "duration": 29,
    "start_time": "2025-03-02T08:35:42.842Z"
   },
   {
    "duration": 24,
    "start_time": "2025-03-02T08:36:22.753Z"
   },
   {
    "duration": 23,
    "start_time": "2025-03-02T08:37:32.094Z"
   },
   {
    "duration": 23,
    "start_time": "2025-03-02T08:38:01.322Z"
   },
   {
    "duration": 23,
    "start_time": "2025-03-02T08:38:10.553Z"
   },
   {
    "duration": 24,
    "start_time": "2025-03-02T08:38:21.646Z"
   },
   {
    "duration": 121,
    "start_time": "2025-03-02T08:40:15.039Z"
   },
   {
    "duration": 120,
    "start_time": "2025-03-02T08:40:23.147Z"
   },
   {
    "duration": 117,
    "start_time": "2025-03-02T08:45:20.059Z"
   },
   {
    "duration": 248,
    "start_time": "2025-03-02T08:52:40.850Z"
   },
   {
    "duration": 242,
    "start_time": "2025-03-02T08:52:46.056Z"
   },
   {
    "duration": 249,
    "start_time": "2025-03-02T08:55:37.402Z"
   },
   {
    "duration": 242,
    "start_time": "2025-03-02T08:58:28.436Z"
   },
   {
    "duration": 249,
    "start_time": "2025-03-02T09:01:19.308Z"
   },
   {
    "duration": 241,
    "start_time": "2025-03-02T09:01:24.098Z"
   },
   {
    "duration": 246,
    "start_time": "2025-03-02T09:01:32.912Z"
   },
   {
    "duration": 344,
    "start_time": "2025-03-02T09:03:24.423Z"
   },
   {
    "duration": 379,
    "start_time": "2025-03-02T09:03:43.988Z"
   },
   {
    "duration": 250,
    "start_time": "2025-03-02T09:04:20.186Z"
   },
   {
    "duration": 249,
    "start_time": "2025-03-02T09:04:36.967Z"
   },
   {
    "duration": 393,
    "start_time": "2025-03-02T09:04:51.204Z"
   },
   {
    "duration": 248,
    "start_time": "2025-03-02T09:05:27.966Z"
   },
   {
    "duration": 150,
    "start_time": "2025-03-02T09:05:34.223Z"
   },
   {
    "duration": 245,
    "start_time": "2025-03-02T09:06:08.113Z"
   },
   {
    "duration": 246,
    "start_time": "2025-03-02T09:06:43.950Z"
   },
   {
    "duration": 243,
    "start_time": "2025-03-02T09:06:59.103Z"
   },
   {
    "duration": 10,
    "start_time": "2025-03-02T09:07:19.893Z"
   },
   {
    "duration": 146,
    "start_time": "2025-03-02T09:07:28.604Z"
   },
   {
    "duration": 147,
    "start_time": "2025-03-02T09:07:52.180Z"
   },
   {
    "duration": 146,
    "start_time": "2025-03-02T09:08:03.738Z"
   },
   {
    "duration": 267,
    "start_time": "2025-03-02T09:09:47.115Z"
   },
   {
    "duration": 159,
    "start_time": "2025-03-02T09:10:05.665Z"
   },
   {
    "duration": 166,
    "start_time": "2025-03-02T09:10:39.341Z"
   },
   {
    "duration": 169,
    "start_time": "2025-03-02T09:11:19.591Z"
   },
   {
    "duration": 168,
    "start_time": "2025-03-02T09:11:27.725Z"
   },
   {
    "duration": 174,
    "start_time": "2025-03-02T09:11:43.572Z"
   },
   {
    "duration": 8,
    "start_time": "2025-03-02T09:42:05.569Z"
   },
   {
    "duration": 11,
    "start_time": "2025-03-02T09:42:10.738Z"
   },
   {
    "duration": 19,
    "start_time": "2025-03-02T09:42:30.825Z"
   },
   {
    "duration": 24,
    "start_time": "2025-03-02T09:44:12.932Z"
   },
   {
    "duration": 11,
    "start_time": "2025-03-02T09:44:23.598Z"
   },
   {
    "duration": 20,
    "start_time": "2025-03-02T09:50:08.360Z"
   },
   {
    "duration": 12,
    "start_time": "2025-03-02T09:50:21.222Z"
   },
   {
    "duration": 8,
    "start_time": "2025-03-02T09:50:49.962Z"
   },
   {
    "duration": 10,
    "start_time": "2025-03-02T09:54:18.100Z"
   },
   {
    "duration": 370,
    "start_time": "2025-03-02T09:57:03.874Z"
   },
   {
    "duration": 37,
    "start_time": "2025-03-02T09:57:14.911Z"
   },
   {
    "duration": 40,
    "start_time": "2025-03-02T09:57:20.735Z"
   },
   {
    "duration": 39,
    "start_time": "2025-03-02T09:57:42.270Z"
   },
   {
    "duration": 3582,
    "start_time": "2025-03-02T09:57:53.203Z"
   },
   {
    "duration": 2202,
    "start_time": "2025-03-02T09:57:56.787Z"
   },
   {
    "duration": 22,
    "start_time": "2025-03-02T09:57:58.990Z"
   },
   {
    "duration": 9,
    "start_time": "2025-03-02T09:57:59.014Z"
   },
   {
    "duration": 8,
    "start_time": "2025-03-02T09:57:59.024Z"
   },
   {
    "duration": 144,
    "start_time": "2025-03-02T09:57:59.034Z"
   },
   {
    "duration": 97,
    "start_time": "2025-03-02T09:57:59.180Z"
   },
   {
    "duration": 661,
    "start_time": "2025-03-02T09:57:59.278Z"
   },
   {
    "duration": 34,
    "start_time": "2025-03-02T09:57:59.941Z"
   },
   {
    "duration": 21,
    "start_time": "2025-03-02T09:57:59.979Z"
   },
   {
    "duration": 85,
    "start_time": "2025-03-02T09:58:00.002Z"
   },
   {
    "duration": 23,
    "start_time": "2025-03-02T09:58:00.089Z"
   },
   {
    "duration": 58,
    "start_time": "2025-03-02T09:58:00.114Z"
   },
   {
    "duration": 37,
    "start_time": "2025-03-02T09:58:00.173Z"
   },
   {
    "duration": 64,
    "start_time": "2025-03-02T09:58:00.212Z"
   },
   {
    "duration": 193,
    "start_time": "2025-03-02T09:58:00.278Z"
   },
   {
    "duration": 118,
    "start_time": "2025-03-02T09:58:00.472Z"
   },
   {
    "duration": 24,
    "start_time": "2025-03-02T09:58:00.591Z"
   },
   {
    "duration": 277,
    "start_time": "2025-03-02T09:58:00.617Z"
   },
   {
    "duration": 187,
    "start_time": "2025-03-02T09:58:00.895Z"
   },
   {
    "duration": 20,
    "start_time": "2025-03-02T09:58:01.084Z"
   },
   {
    "duration": 8,
    "start_time": "2025-03-02T09:58:01.105Z"
   },
   {
    "duration": 58,
    "start_time": "2025-03-02T09:58:01.114Z"
   },
   {
    "duration": 5,
    "start_time": "2025-03-02T09:59:27.090Z"
   },
   {
    "duration": 8,
    "start_time": "2025-03-02T09:59:38.982Z"
   },
   {
    "duration": 10,
    "start_time": "2025-03-02T10:00:44.994Z"
   },
   {
    "duration": 14,
    "start_time": "2025-03-02T10:13:22.665Z"
   },
   {
    "duration": 14,
    "start_time": "2025-03-02T10:13:38.894Z"
   },
   {
    "duration": 25,
    "start_time": "2025-03-02T10:14:05.466Z"
   },
   {
    "duration": 18,
    "start_time": "2025-03-02T10:15:26.212Z"
   },
   {
    "duration": 16,
    "start_time": "2025-03-02T10:15:53.971Z"
   },
   {
    "duration": 20,
    "start_time": "2025-03-02T10:15:58.018Z"
   },
   {
    "duration": 17,
    "start_time": "2025-03-02T10:16:10.254Z"
   },
   {
    "duration": 115,
    "start_time": "2025-03-02T10:16:38.171Z"
   },
   {
    "duration": 23,
    "start_time": "2025-03-02T10:16:46.820Z"
   },
   {
    "duration": 25,
    "start_time": "2025-03-02T10:18:21.832Z"
   },
   {
    "duration": 25,
    "start_time": "2025-03-02T10:18:45.799Z"
   },
   {
    "duration": 13,
    "start_time": "2025-03-02T10:19:14.333Z"
   },
   {
    "duration": 20,
    "start_time": "2025-03-02T10:19:56.242Z"
   },
   {
    "duration": 22,
    "start_time": "2025-03-02T10:20:00.492Z"
   },
   {
    "duration": 25,
    "start_time": "2025-03-02T10:20:12.954Z"
   },
   {
    "duration": 26,
    "start_time": "2025-03-02T10:21:29.617Z"
   },
   {
    "duration": 24,
    "start_time": "2025-03-02T10:22:39.367Z"
   },
   {
    "duration": 25,
    "start_time": "2025-03-02T10:23:48.255Z"
   },
   {
    "duration": 9,
    "start_time": "2025-03-02T10:24:03.340Z"
   },
   {
    "duration": 20,
    "start_time": "2025-03-02T10:24:13.506Z"
   },
   {
    "duration": 9,
    "start_time": "2025-03-02T10:24:15.453Z"
   },
   {
    "duration": 1935,
    "start_time": "2025-03-02T10:29:29.819Z"
   },
   {
    "duration": 3597,
    "start_time": "2025-03-02T10:29:36.427Z"
   },
   {
    "duration": 1862,
    "start_time": "2025-03-02T10:29:40.026Z"
   },
   {
    "duration": 21,
    "start_time": "2025-03-02T10:29:41.890Z"
   },
   {
    "duration": 8,
    "start_time": "2025-03-02T10:29:41.913Z"
   },
   {
    "duration": 7,
    "start_time": "2025-03-02T10:29:41.923Z"
   },
   {
    "duration": 135,
    "start_time": "2025-03-02T10:29:41.931Z"
   },
   {
    "duration": 106,
    "start_time": "2025-03-02T10:29:42.068Z"
   },
   {
    "duration": 673,
    "start_time": "2025-03-02T10:29:42.176Z"
   },
   {
    "duration": 36,
    "start_time": "2025-03-02T10:29:42.852Z"
   },
   {
    "duration": 21,
    "start_time": "2025-03-02T10:29:42.892Z"
   },
   {
    "duration": 115,
    "start_time": "2025-03-02T10:29:42.915Z"
   },
   {
    "duration": 17,
    "start_time": "2025-03-02T10:29:43.032Z"
   },
   {
    "duration": 115,
    "start_time": "2025-03-02T10:29:43.051Z"
   },
   {
    "duration": 37,
    "start_time": "2025-03-02T10:29:43.168Z"
   },
   {
    "duration": 68,
    "start_time": "2025-03-02T10:29:43.207Z"
   },
   {
    "duration": 192,
    "start_time": "2025-03-02T10:29:43.278Z"
   },
   {
    "duration": 131,
    "start_time": "2025-03-02T10:29:43.472Z"
   },
   {
    "duration": 23,
    "start_time": "2025-03-02T10:29:43.604Z"
   },
   {
    "duration": 281,
    "start_time": "2025-03-02T10:29:43.629Z"
   },
   {
    "duration": 184,
    "start_time": "2025-03-02T10:29:43.911Z"
   },
   {
    "duration": 22,
    "start_time": "2025-03-02T10:29:44.096Z"
   },
   {
    "duration": 7,
    "start_time": "2025-03-02T10:29:44.120Z"
   },
   {
    "duration": 58,
    "start_time": "2025-03-02T10:29:44.129Z"
   },
   {
    "duration": 20,
    "start_time": "2025-03-02T10:29:44.189Z"
   },
   {
    "duration": 9,
    "start_time": "2025-03-02T10:29:44.210Z"
   },
   {
    "duration": 24,
    "start_time": "2025-03-02T10:31:55.517Z"
   },
   {
    "duration": 10,
    "start_time": "2025-03-02T10:32:01.036Z"
   },
   {
    "duration": 141,
    "start_time": "2025-03-02T10:33:33.458Z"
   },
   {
    "duration": 55,
    "start_time": "2025-03-02T10:34:16.727Z"
   },
   {
    "duration": 9,
    "start_time": "2025-03-02T10:34:18.916Z"
   },
   {
    "duration": 10,
    "start_time": "2025-03-02T10:35:14.205Z"
   },
   {
    "duration": 80,
    "start_time": "2025-03-02T10:38:04.322Z"
   },
   {
    "duration": 72,
    "start_time": "2025-03-02T10:38:22.534Z"
   },
   {
    "duration": 8,
    "start_time": "2025-03-02T10:38:24.488Z"
   },
   {
    "duration": 79,
    "start_time": "2025-03-02T10:38:58.016Z"
   },
   {
    "duration": 8,
    "start_time": "2025-03-02T10:39:00.006Z"
   },
   {
    "duration": 15,
    "start_time": "2025-03-02T10:42:21.920Z"
   },
   {
    "duration": 61,
    "start_time": "2025-03-02T10:42:39.843Z"
   },
   {
    "duration": 55,
    "start_time": "2025-03-02T10:42:50.771Z"
   },
   {
    "duration": 61,
    "start_time": "2025-03-02T10:44:23.038Z"
   },
   {
    "duration": 63,
    "start_time": "2025-03-02T10:44:27.337Z"
   },
   {
    "duration": 55,
    "start_time": "2025-03-02T10:46:02.663Z"
   },
   {
    "duration": 59,
    "start_time": "2025-03-02T10:46:25.406Z"
   },
   {
    "duration": 80,
    "start_time": "2025-03-02T10:47:14.015Z"
   },
   {
    "duration": 69,
    "start_time": "2025-03-02T10:48:14.405Z"
   },
   {
    "duration": 99,
    "start_time": "2025-03-02T10:49:20.460Z"
   },
   {
    "duration": 67,
    "start_time": "2025-03-02T10:49:28.062Z"
   },
   {
    "duration": 72,
    "start_time": "2025-03-02T10:49:36.550Z"
   },
   {
    "duration": 68,
    "start_time": "2025-03-02T10:52:43.411Z"
   },
   {
    "duration": 63,
    "start_time": "2025-03-02T10:53:08.256Z"
   },
   {
    "duration": 65,
    "start_time": "2025-03-02T10:53:32.761Z"
   },
   {
    "duration": 42,
    "start_time": "2025-03-02T11:26:22.035Z"
   },
   {
    "duration": 80,
    "start_time": "2025-03-02T11:28:29.395Z"
   },
   {
    "duration": 135,
    "start_time": "2025-03-02T11:30:29.601Z"
   },
   {
    "duration": 1537,
    "start_time": "2025-03-02T11:40:25.407Z"
   },
   {
    "duration": 3740,
    "start_time": "2025-03-02T11:40:40.883Z"
   },
   {
    "duration": 1954,
    "start_time": "2025-03-02T11:40:44.625Z"
   },
   {
    "duration": 22,
    "start_time": "2025-03-02T11:40:46.581Z"
   },
   {
    "duration": 9,
    "start_time": "2025-03-02T11:40:46.604Z"
   },
   {
    "duration": 7,
    "start_time": "2025-03-02T11:40:46.614Z"
   },
   {
    "duration": 161,
    "start_time": "2025-03-02T11:40:46.623Z"
   },
   {
    "duration": 99,
    "start_time": "2025-03-02T11:40:46.786Z"
   },
   {
    "duration": 728,
    "start_time": "2025-03-02T11:40:46.886Z"
   },
   {
    "duration": 57,
    "start_time": "2025-03-02T11:40:47.616Z"
   },
   {
    "duration": 20,
    "start_time": "2025-03-02T11:40:47.676Z"
   },
   {
    "duration": 24,
    "start_time": "2025-03-02T11:40:47.698Z"
   },
   {
    "duration": 17,
    "start_time": "2025-03-02T11:40:47.723Z"
   },
   {
    "duration": 67,
    "start_time": "2025-03-02T11:40:47.741Z"
   },
   {
    "duration": 51,
    "start_time": "2025-03-02T11:40:47.810Z"
   },
   {
    "duration": 63,
    "start_time": "2025-03-02T11:40:47.863Z"
   },
   {
    "duration": 207,
    "start_time": "2025-03-02T11:40:47.928Z"
   },
   {
    "duration": 135,
    "start_time": "2025-03-02T11:40:48.137Z"
   },
   {
    "duration": 25,
    "start_time": "2025-03-02T11:40:48.273Z"
   },
   {
    "duration": 311,
    "start_time": "2025-03-02T11:40:48.299Z"
   },
   {
    "duration": 187,
    "start_time": "2025-03-02T11:40:48.612Z"
   },
   {
    "duration": 22,
    "start_time": "2025-03-02T11:40:48.801Z"
   },
   {
    "duration": 7,
    "start_time": "2025-03-02T11:40:48.825Z"
   },
   {
    "duration": 73,
    "start_time": "2025-03-02T11:40:48.866Z"
   },
   {
    "duration": 90,
    "start_time": "2025-03-02T11:40:48.940Z"
   },
   {
    "duration": 81,
    "start_time": "2025-03-02T11:40:49.032Z"
   },
   {
    "duration": 60,
    "start_time": "2025-03-02T11:40:49.114Z"
   },
   {
    "duration": 213,
    "start_time": "2025-03-02T11:40:49.175Z"
   },
   {
    "duration": 3741,
    "start_time": "2025-03-02T11:42:38.111Z"
   },
   {
    "duration": 2169,
    "start_time": "2025-03-02T11:42:41.854Z"
   },
   {
    "duration": 22,
    "start_time": "2025-03-02T11:42:44.025Z"
   },
   {
    "duration": 21,
    "start_time": "2025-03-02T11:42:44.048Z"
   },
   {
    "duration": 8,
    "start_time": "2025-03-02T11:42:44.071Z"
   },
   {
    "duration": 126,
    "start_time": "2025-03-02T11:42:44.081Z"
   },
   {
    "duration": 113,
    "start_time": "2025-03-02T11:42:44.208Z"
   },
   {
    "duration": 702,
    "start_time": "2025-03-02T11:42:44.322Z"
   },
   {
    "duration": 47,
    "start_time": "2025-03-02T11:42:45.025Z"
   },
   {
    "duration": 21,
    "start_time": "2025-03-02T11:42:45.076Z"
   },
   {
    "duration": 41,
    "start_time": "2025-03-02T11:42:45.099Z"
   },
   {
    "duration": 243,
    "start_time": "2025-03-02T11:42:45.141Z"
   },
   {
    "duration": 48,
    "start_time": "2025-03-02T11:42:45.386Z"
   },
   {
    "duration": 44,
    "start_time": "2025-03-02T11:42:45.435Z"
   },
   {
    "duration": 50,
    "start_time": "2025-03-02T11:42:45.480Z"
   },
   {
    "duration": 211,
    "start_time": "2025-03-02T11:42:45.532Z"
   },
   {
    "duration": 139,
    "start_time": "2025-03-02T11:42:45.744Z"
   },
   {
    "duration": 24,
    "start_time": "2025-03-02T11:42:45.884Z"
   },
   {
    "duration": 301,
    "start_time": "2025-03-02T11:42:45.909Z"
   },
   {
    "duration": 197,
    "start_time": "2025-03-02T11:42:46.211Z"
   },
   {
    "duration": 24,
    "start_time": "2025-03-02T11:42:46.409Z"
   },
   {
    "duration": 27,
    "start_time": "2025-03-02T11:42:46.434Z"
   },
   {
    "duration": 44,
    "start_time": "2025-03-02T11:42:46.462Z"
   },
   {
    "duration": 93,
    "start_time": "2025-03-02T11:42:46.508Z"
   },
   {
    "duration": 82,
    "start_time": "2025-03-02T11:42:46.602Z"
   },
   {
    "duration": 69,
    "start_time": "2025-03-02T11:42:46.686Z"
   },
   {
    "duration": 139,
    "start_time": "2025-03-02T11:42:46.757Z"
   },
   {
    "duration": 4,
    "start_time": "2025-03-02T11:43:24.339Z"
   },
   {
    "duration": 5,
    "start_time": "2025-03-02T11:43:44.174Z"
   },
   {
    "duration": 4,
    "start_time": "2025-03-02T11:43:59.774Z"
   },
   {
    "duration": 4,
    "start_time": "2025-03-02T11:44:03.142Z"
   },
   {
    "duration": 4,
    "start_time": "2025-03-02T11:44:08.695Z"
   },
   {
    "duration": 6,
    "start_time": "2025-03-02T11:44:15.152Z"
   },
   {
    "duration": 4,
    "start_time": "2025-03-02T11:44:37.313Z"
   },
   {
    "duration": 102,
    "start_time": "2025-03-02T11:45:04.406Z"
   },
   {
    "duration": 4,
    "start_time": "2025-03-02T11:45:13.574Z"
   },
   {
    "duration": 4,
    "start_time": "2025-03-02T11:45:22.241Z"
   },
   {
    "duration": 5,
    "start_time": "2025-03-02T11:45:40.806Z"
   },
   {
    "duration": 2,
    "start_time": "2025-03-02T11:45:48.543Z"
   },
   {
    "duration": 3,
    "start_time": "2025-03-02T11:46:09.081Z"
   },
   {
    "duration": 4,
    "start_time": "2025-03-02T11:46:16.919Z"
   },
   {
    "duration": 3,
    "start_time": "2025-03-02T11:46:51.129Z"
   },
   {
    "duration": 5,
    "start_time": "2025-03-02T11:47:09.643Z"
   },
   {
    "duration": 3,
    "start_time": "2025-03-02T11:47:22.614Z"
   },
   {
    "duration": 3,
    "start_time": "2025-03-02T11:47:39.553Z"
   },
   {
    "duration": 4,
    "start_time": "2025-03-02T11:48:17.745Z"
   },
   {
    "duration": 4,
    "start_time": "2025-03-02T11:48:32.716Z"
   },
   {
    "duration": 4,
    "start_time": "2025-03-02T11:49:12.880Z"
   },
   {
    "duration": 77,
    "start_time": "2025-03-02T11:49:20.035Z"
   },
   {
    "duration": 3,
    "start_time": "2025-03-02T11:49:27.811Z"
   },
   {
    "duration": 3507,
    "start_time": "2025-03-02T11:49:37.578Z"
   },
   {
    "duration": 1968,
    "start_time": "2025-03-02T11:49:41.087Z"
   },
   {
    "duration": 22,
    "start_time": "2025-03-02T11:49:43.057Z"
   },
   {
    "duration": 10,
    "start_time": "2025-03-02T11:49:43.082Z"
   },
   {
    "duration": 8,
    "start_time": "2025-03-02T11:49:43.094Z"
   },
   {
    "duration": 141,
    "start_time": "2025-03-02T11:49:43.103Z"
   },
   {
    "duration": 99,
    "start_time": "2025-03-02T11:49:43.245Z"
   },
   {
    "duration": 690,
    "start_time": "2025-03-02T11:49:43.346Z"
   },
   {
    "duration": 4,
    "start_time": "2025-03-02T11:49:44.038Z"
   },
   {
    "duration": 41,
    "start_time": "2025-03-02T11:49:44.045Z"
   },
   {
    "duration": 21,
    "start_time": "2025-03-02T11:49:44.087Z"
   },
   {
    "duration": 50,
    "start_time": "2025-03-02T11:49:44.110Z"
   },
   {
    "duration": 16,
    "start_time": "2025-03-02T11:49:44.162Z"
   },
   {
    "duration": 66,
    "start_time": "2025-03-02T11:49:44.180Z"
   },
   {
    "duration": 41,
    "start_time": "2025-03-02T11:49:44.247Z"
   },
   {
    "duration": 59,
    "start_time": "2025-03-02T11:49:44.289Z"
   },
   {
    "duration": 189,
    "start_time": "2025-03-02T11:49:44.350Z"
   },
   {
    "duration": 132,
    "start_time": "2025-03-02T11:49:44.541Z"
   },
   {
    "duration": 24,
    "start_time": "2025-03-02T11:49:44.675Z"
   },
   {
    "duration": 281,
    "start_time": "2025-03-02T11:49:44.701Z"
   },
   {
    "duration": 192,
    "start_time": "2025-03-02T11:49:44.984Z"
   },
   {
    "duration": 37,
    "start_time": "2025-03-02T11:49:45.179Z"
   },
   {
    "duration": 76,
    "start_time": "2025-03-02T11:49:45.217Z"
   },
   {
    "duration": 45,
    "start_time": "2025-03-02T11:49:45.294Z"
   },
   {
    "duration": 115,
    "start_time": "2025-03-02T11:49:45.340Z"
   },
   {
    "duration": 74,
    "start_time": "2025-03-02T11:49:45.456Z"
   },
   {
    "duration": 54,
    "start_time": "2025-03-02T11:49:45.532Z"
   },
   {
    "duration": 134,
    "start_time": "2025-03-02T11:49:45.590Z"
   },
   {
    "duration": 69,
    "start_time": "2025-03-02T11:57:40.494Z"
   },
   {
    "duration": 16,
    "start_time": "2025-03-02T11:57:56.193Z"
   },
   {
    "duration": 5,
    "start_time": "2025-03-02T11:58:34.941Z"
   },
   {
    "duration": 16,
    "start_time": "2025-03-02T11:59:15.297Z"
   },
   {
    "duration": 16,
    "start_time": "2025-03-02T11:59:19.538Z"
   },
   {
    "duration": 6,
    "start_time": "2025-03-02T11:59:41.513Z"
   },
   {
    "duration": 122,
    "start_time": "2025-03-02T12:08:36.246Z"
   },
   {
    "duration": 14,
    "start_time": "2025-03-02T12:18:00.475Z"
   },
   {
    "duration": 60,
    "start_time": "2025-03-02T12:18:04.788Z"
   },
   {
    "duration": 32,
    "start_time": "2025-03-02T12:18:45.851Z"
   },
   {
    "duration": 63,
    "start_time": "2025-03-02T12:19:05.645Z"
   },
   {
    "duration": 31,
    "start_time": "2025-03-02T12:19:35.414Z"
   },
   {
    "duration": 1322,
    "start_time": "2025-03-02T12:25:37.700Z"
   },
   {
    "duration": 1287,
    "start_time": "2025-03-02T12:25:42.111Z"
   },
   {
    "duration": 5,
    "start_time": "2025-03-02T12:25:52.330Z"
   },
   {
    "duration": 7,
    "start_time": "2025-03-02T12:26:04.086Z"
   },
   {
    "duration": 6,
    "start_time": "2025-03-02T12:26:51.349Z"
   },
   {
    "duration": 7,
    "start_time": "2025-03-02T12:26:57.501Z"
   },
   {
    "duration": 6,
    "start_time": "2025-03-02T12:27:03.396Z"
   },
   {
    "duration": 6,
    "start_time": "2025-03-02T12:27:45.243Z"
   },
   {
    "duration": 4,
    "start_time": "2025-03-02T12:28:00.378Z"
   },
   {
    "duration": 6,
    "start_time": "2025-03-02T12:28:06.016Z"
   },
   {
    "duration": 11,
    "start_time": "2025-03-02T12:34:21.684Z"
   },
   {
    "duration": 32,
    "start_time": "2025-03-02T12:34:35.713Z"
   },
   {
    "duration": 10,
    "start_time": "2025-03-02T12:36:06.407Z"
   },
   {
    "duration": 5,
    "start_time": "2025-03-02T12:36:14.813Z"
   },
   {
    "duration": 5,
    "start_time": "2025-03-02T12:36:25.379Z"
   },
   {
    "duration": 27,
    "start_time": "2025-03-02T12:37:30.894Z"
   },
   {
    "duration": 32,
    "start_time": "2025-03-02T12:37:46.551Z"
   },
   {
    "duration": 47,
    "start_time": "2025-03-02T12:39:24.634Z"
   },
   {
    "duration": 32,
    "start_time": "2025-03-02T12:39:26.463Z"
   },
   {
    "duration": 57,
    "start_time": "2025-03-02T13:09:05.354Z"
   },
   {
    "duration": 5,
    "start_time": "2025-03-02T13:11:10.472Z"
   },
   {
    "duration": 4,
    "start_time": "2025-03-02T13:11:17.574Z"
   },
   {
    "duration": 3613,
    "start_time": "2025-03-02T13:12:07.407Z"
   },
   {
    "duration": 2274,
    "start_time": "2025-03-02T13:12:11.022Z"
   },
   {
    "duration": 22,
    "start_time": "2025-03-02T13:12:13.298Z"
   },
   {
    "duration": 9,
    "start_time": "2025-03-02T13:12:13.322Z"
   },
   {
    "duration": 9,
    "start_time": "2025-03-02T13:12:13.332Z"
   },
   {
    "duration": 127,
    "start_time": "2025-03-02T13:12:13.342Z"
   },
   {
    "duration": 107,
    "start_time": "2025-03-02T13:12:13.470Z"
   },
   {
    "duration": 711,
    "start_time": "2025-03-02T13:12:13.579Z"
   },
   {
    "duration": 3,
    "start_time": "2025-03-02T13:12:14.292Z"
   },
   {
    "duration": 41,
    "start_time": "2025-03-02T13:12:14.298Z"
   },
   {
    "duration": 28,
    "start_time": "2025-03-02T13:12:14.341Z"
   },
   {
    "duration": 24,
    "start_time": "2025-03-02T13:12:14.371Z"
   },
   {
    "duration": 15,
    "start_time": "2025-03-02T13:12:14.396Z"
   },
   {
    "duration": 75,
    "start_time": "2025-03-02T13:12:14.413Z"
   },
   {
    "duration": 35,
    "start_time": "2025-03-02T13:12:14.490Z"
   },
   {
    "duration": 78,
    "start_time": "2025-03-02T13:12:14.527Z"
   },
   {
    "duration": 191,
    "start_time": "2025-03-02T13:12:14.607Z"
   },
   {
    "duration": 126,
    "start_time": "2025-03-02T13:12:14.800Z"
   },
   {
    "duration": 36,
    "start_time": "2025-03-02T13:12:14.928Z"
   },
   {
    "duration": 303,
    "start_time": "2025-03-02T13:12:14.966Z"
   },
   {
    "duration": 189,
    "start_time": "2025-03-02T13:12:15.271Z"
   },
   {
    "duration": 21,
    "start_time": "2025-03-02T13:12:15.462Z"
   },
   {
    "duration": 114,
    "start_time": "2025-03-02T13:12:15.485Z"
   },
   {
    "duration": 39,
    "start_time": "2025-03-02T13:12:15.601Z"
   },
   {
    "duration": 79,
    "start_time": "2025-03-02T13:12:15.642Z"
   },
   {
    "duration": 86,
    "start_time": "2025-03-02T13:12:15.723Z"
   },
   {
    "duration": 60,
    "start_time": "2025-03-02T13:12:15.811Z"
   },
   {
    "duration": 17,
    "start_time": "2025-03-02T13:12:15.874Z"
   },
   {
    "duration": 6,
    "start_time": "2025-03-02T13:12:15.893Z"
   },
   {
    "duration": 13,
    "start_time": "2025-03-02T13:12:15.901Z"
   },
   {
    "duration": 83,
    "start_time": "2025-03-02T13:12:15.916Z"
   },
   {
    "duration": 4,
    "start_time": "2025-03-02T13:12:16.001Z"
   },
   {
    "duration": 67,
    "start_time": "2025-03-02T13:12:16.006Z"
   },
   {
    "duration": 57,
    "start_time": "2025-03-02T13:12:16.075Z"
   },
   {
    "duration": 3617,
    "start_time": "2025-03-02T13:12:37.211Z"
   },
   {
    "duration": 1908,
    "start_time": "2025-03-02T13:12:40.831Z"
   },
   {
    "duration": 22,
    "start_time": "2025-03-02T13:12:42.741Z"
   },
   {
    "duration": 9,
    "start_time": "2025-03-02T13:12:42.764Z"
   },
   {
    "duration": 14,
    "start_time": "2025-03-02T13:12:42.774Z"
   },
   {
    "duration": 132,
    "start_time": "2025-03-02T13:12:42.790Z"
   },
   {
    "duration": 100,
    "start_time": "2025-03-02T13:12:42.924Z"
   },
   {
    "duration": 674,
    "start_time": "2025-03-02T13:12:43.026Z"
   },
   {
    "duration": 4,
    "start_time": "2025-03-02T13:12:43.701Z"
   },
   {
    "duration": 36,
    "start_time": "2025-03-02T13:12:43.707Z"
   },
   {
    "duration": 21,
    "start_time": "2025-03-02T13:12:43.758Z"
   },
   {
    "duration": 26,
    "start_time": "2025-03-02T13:12:43.780Z"
   },
   {
    "duration": 16,
    "start_time": "2025-03-02T13:12:43.808Z"
   },
   {
    "duration": 81,
    "start_time": "2025-03-02T13:12:43.826Z"
   },
   {
    "duration": 54,
    "start_time": "2025-03-02T13:12:43.909Z"
   },
   {
    "duration": 49,
    "start_time": "2025-03-02T13:12:43.964Z"
   },
   {
    "duration": 205,
    "start_time": "2025-03-02T13:12:44.015Z"
   },
   {
    "duration": 144,
    "start_time": "2025-03-02T13:12:44.221Z"
   },
   {
    "duration": 31,
    "start_time": "2025-03-02T13:12:44.367Z"
   },
   {
    "duration": 275,
    "start_time": "2025-03-02T13:12:44.399Z"
   },
   {
    "duration": 179,
    "start_time": "2025-03-02T13:12:44.675Z"
   },
   {
    "duration": 22,
    "start_time": "2025-03-02T13:12:44.858Z"
   },
   {
    "duration": 8,
    "start_time": "2025-03-02T13:12:44.882Z"
   },
   {
    "duration": 104,
    "start_time": "2025-03-02T13:12:44.892Z"
   },
   {
    "duration": 88,
    "start_time": "2025-03-02T13:12:44.998Z"
   },
   {
    "duration": 107,
    "start_time": "2025-03-02T13:12:45.088Z"
   },
   {
    "duration": 60,
    "start_time": "2025-03-02T13:12:45.198Z"
   },
   {
    "duration": 17,
    "start_time": "2025-03-02T13:12:45.262Z"
   },
   {
    "duration": 5,
    "start_time": "2025-03-02T13:12:45.281Z"
   },
   {
    "duration": 25,
    "start_time": "2025-03-02T13:12:45.288Z"
   },
   {
    "duration": 125,
    "start_time": "2025-03-02T13:12:45.315Z"
   },
   {
    "duration": 0,
    "start_time": "2025-03-02T13:12:45.442Z"
   },
   {
    "duration": 0,
    "start_time": "2025-03-02T13:12:45.443Z"
   },
   {
    "duration": 0,
    "start_time": "2025-03-02T13:12:45.444Z"
   },
   {
    "duration": 4,
    "start_time": "2025-03-02T13:12:56.670Z"
   },
   {
    "duration": 33,
    "start_time": "2025-03-02T13:13:12.954Z"
   },
   {
    "duration": 3651,
    "start_time": "2025-03-02T13:13:26.057Z"
   },
   {
    "duration": 1858,
    "start_time": "2025-03-02T13:13:29.710Z"
   },
   {
    "duration": 28,
    "start_time": "2025-03-02T13:13:31.570Z"
   },
   {
    "duration": 13,
    "start_time": "2025-03-02T13:13:31.601Z"
   },
   {
    "duration": 9,
    "start_time": "2025-03-02T13:13:31.616Z"
   },
   {
    "duration": 158,
    "start_time": "2025-03-02T13:13:31.626Z"
   },
   {
    "duration": 106,
    "start_time": "2025-03-02T13:13:31.786Z"
   },
   {
    "duration": 689,
    "start_time": "2025-03-02T13:13:31.894Z"
   },
   {
    "duration": 3,
    "start_time": "2025-03-02T13:13:32.584Z"
   },
   {
    "duration": 51,
    "start_time": "2025-03-02T13:13:32.590Z"
   },
   {
    "duration": 22,
    "start_time": "2025-03-02T13:13:32.642Z"
   },
   {
    "duration": 25,
    "start_time": "2025-03-02T13:13:32.666Z"
   },
   {
    "duration": 16,
    "start_time": "2025-03-02T13:13:32.693Z"
   },
   {
    "duration": 86,
    "start_time": "2025-03-02T13:13:32.711Z"
   },
   {
    "duration": 37,
    "start_time": "2025-03-02T13:13:32.798Z"
   },
   {
    "duration": 69,
    "start_time": "2025-03-02T13:13:32.837Z"
   },
   {
    "duration": 198,
    "start_time": "2025-03-02T13:13:32.908Z"
   },
   {
    "duration": 129,
    "start_time": "2025-03-02T13:13:33.108Z"
   },
   {
    "duration": 37,
    "start_time": "2025-03-02T13:13:33.239Z"
   },
   {
    "duration": 272,
    "start_time": "2025-03-02T13:13:33.278Z"
   },
   {
    "duration": 183,
    "start_time": "2025-03-02T13:13:33.557Z"
   },
   {
    "duration": 27,
    "start_time": "2025-03-02T13:13:33.742Z"
   },
   {
    "duration": 8,
    "start_time": "2025-03-02T13:13:33.770Z"
   },
   {
    "duration": 45,
    "start_time": "2025-03-02T13:13:33.779Z"
   },
   {
    "duration": 100,
    "start_time": "2025-03-02T13:13:33.825Z"
   },
   {
    "duration": 95,
    "start_time": "2025-03-02T13:13:33.926Z"
   },
   {
    "duration": 63,
    "start_time": "2025-03-02T13:13:34.023Z"
   },
   {
    "duration": 18,
    "start_time": "2025-03-02T13:13:34.089Z"
   },
   {
    "duration": 5,
    "start_time": "2025-03-02T13:13:34.109Z"
   },
   {
    "duration": 42,
    "start_time": "2025-03-02T13:13:34.116Z"
   },
   {
    "duration": 72,
    "start_time": "2025-03-02T13:13:34.159Z"
   },
   {
    "duration": 0,
    "start_time": "2025-03-02T13:13:34.233Z"
   },
   {
    "duration": 0,
    "start_time": "2025-03-02T13:13:34.234Z"
   },
   {
    "duration": 0,
    "start_time": "2025-03-02T13:13:34.235Z"
   },
   {
    "duration": 49,
    "start_time": "2025-03-02T13:13:40.723Z"
   },
   {
    "duration": 4,
    "start_time": "2025-03-02T13:13:43.243Z"
   },
   {
    "duration": 41,
    "start_time": "2025-03-02T13:13:45.125Z"
   },
   {
    "duration": 52,
    "start_time": "2025-03-02T13:13:54.672Z"
   },
   {
    "duration": 17,
    "start_time": "2025-03-02T13:14:12.485Z"
   },
   {
    "duration": 70,
    "start_time": "2025-03-02T13:16:21.555Z"
   },
   {
    "duration": 5,
    "start_time": "2025-03-02T13:16:50.378Z"
   },
   {
    "duration": 5,
    "start_time": "2025-03-02T13:17:00.357Z"
   },
   {
    "duration": 6,
    "start_time": "2025-03-02T13:17:08.047Z"
   },
   {
    "duration": 4,
    "start_time": "2025-03-02T13:17:13.000Z"
   },
   {
    "duration": 53,
    "start_time": "2025-03-02T13:17:17.251Z"
   },
   {
    "duration": 20,
    "start_time": "2025-03-02T13:18:51.526Z"
   },
   {
    "duration": 6,
    "start_time": "2025-03-02T13:19:16.286Z"
   },
   {
    "duration": 7,
    "start_time": "2025-03-02T13:19:35.823Z"
   },
   {
    "duration": 54,
    "start_time": "2025-03-02T13:20:04.198Z"
   },
   {
    "duration": 6,
    "start_time": "2025-03-02T13:20:19.065Z"
   },
   {
    "duration": 7,
    "start_time": "2025-03-02T13:20:37.828Z"
   },
   {
    "duration": 4,
    "start_time": "2025-03-02T13:21:12.098Z"
   },
   {
    "duration": 5,
    "start_time": "2025-03-02T13:21:19.863Z"
   },
   {
    "duration": 5,
    "start_time": "2025-03-02T13:22:08.276Z"
   },
   {
    "duration": 4,
    "start_time": "2025-03-02T13:22:39.084Z"
   },
   {
    "duration": 5,
    "start_time": "2025-03-02T13:22:55.015Z"
   },
   {
    "duration": 5,
    "start_time": "2025-03-02T13:22:59.004Z"
   },
   {
    "duration": 53,
    "start_time": "2025-03-02T13:23:15.251Z"
   },
   {
    "duration": 5,
    "start_time": "2025-03-02T13:23:58.304Z"
   },
   {
    "duration": 5,
    "start_time": "2025-03-02T13:26:07.102Z"
   },
   {
    "duration": 5,
    "start_time": "2025-03-02T13:27:02.372Z"
   },
   {
    "duration": 105,
    "start_time": "2025-03-02T13:28:21.940Z"
   },
   {
    "duration": 22,
    "start_time": "2025-03-02T13:28:35.560Z"
   },
   {
    "duration": 17,
    "start_time": "2025-03-02T13:29:28.500Z"
   },
   {
    "duration": 15,
    "start_time": "2025-03-02T13:34:45.452Z"
   },
   {
    "duration": 1501,
    "start_time": "2025-03-02T13:42:56.228Z"
   },
   {
    "duration": 17,
    "start_time": "2025-03-02T13:43:06.216Z"
   },
   {
    "duration": 7,
    "start_time": "2025-03-02T13:43:24.288Z"
   },
   {
    "duration": 28,
    "start_time": "2025-03-02T13:43:28.922Z"
   },
   {
    "duration": 21,
    "start_time": "2025-03-02T13:43:44.943Z"
   },
   {
    "duration": 76,
    "start_time": "2025-03-02T13:44:05.463Z"
   },
   {
    "duration": 61,
    "start_time": "2025-03-02T13:44:47.976Z"
   },
   {
    "duration": 71,
    "start_time": "2025-03-02T13:44:51.711Z"
   },
   {
    "duration": 60,
    "start_time": "2025-03-02T13:45:11.422Z"
   },
   {
    "duration": 64,
    "start_time": "2025-03-02T13:45:16.637Z"
   },
   {
    "duration": 3694,
    "start_time": "2025-03-02T14:00:36.028Z"
   },
   {
    "duration": 2916,
    "start_time": "2025-03-02T14:00:39.725Z"
   },
   {
    "duration": 22,
    "start_time": "2025-03-02T14:00:42.643Z"
   },
   {
    "duration": 66,
    "start_time": "2025-03-02T14:00:42.668Z"
   },
   {
    "duration": 8,
    "start_time": "2025-03-02T14:00:42.736Z"
   },
   {
    "duration": 120,
    "start_time": "2025-03-02T14:00:42.746Z"
   },
   {
    "duration": 103,
    "start_time": "2025-03-02T14:00:42.868Z"
   },
   {
    "duration": 689,
    "start_time": "2025-03-02T14:00:42.972Z"
   },
   {
    "duration": 4,
    "start_time": "2025-03-02T14:00:43.662Z"
   },
   {
    "duration": 121,
    "start_time": "2025-03-02T14:00:43.670Z"
   },
   {
    "duration": 22,
    "start_time": "2025-03-02T14:00:43.794Z"
   },
   {
    "duration": 48,
    "start_time": "2025-03-02T14:00:43.818Z"
   },
   {
    "duration": 17,
    "start_time": "2025-03-02T14:00:43.868Z"
   },
   {
    "duration": 75,
    "start_time": "2025-03-02T14:00:43.886Z"
   },
   {
    "duration": 38,
    "start_time": "2025-03-02T14:00:43.963Z"
   },
   {
    "duration": 67,
    "start_time": "2025-03-02T14:00:44.003Z"
   },
   {
    "duration": 198,
    "start_time": "2025-03-02T14:00:44.072Z"
   },
   {
    "duration": 135,
    "start_time": "2025-03-02T14:00:44.272Z"
   },
   {
    "duration": 24,
    "start_time": "2025-03-02T14:00:44.408Z"
   },
   {
    "duration": 295,
    "start_time": "2025-03-02T14:00:44.434Z"
   },
   {
    "duration": 187,
    "start_time": "2025-03-02T14:00:44.730Z"
   },
   {
    "duration": 23,
    "start_time": "2025-03-02T14:00:44.918Z"
   },
   {
    "duration": 22,
    "start_time": "2025-03-02T14:00:44.943Z"
   },
   {
    "duration": 41,
    "start_time": "2025-03-02T14:00:44.967Z"
   },
   {
    "duration": 103,
    "start_time": "2025-03-02T14:00:45.010Z"
   },
   {
    "duration": 96,
    "start_time": "2025-03-02T14:00:45.115Z"
   },
   {
    "duration": 68,
    "start_time": "2025-03-02T14:00:45.213Z"
   },
   {
    "duration": 59,
    "start_time": "2025-03-02T14:00:45.285Z"
   },
   {
    "duration": 7,
    "start_time": "2025-03-02T14:00:45.346Z"
   },
   {
    "duration": 19,
    "start_time": "2025-03-02T14:00:45.355Z"
   },
   {
    "duration": 66,
    "start_time": "2025-03-02T14:00:45.376Z"
   },
   {
    "duration": 43,
    "start_time": "2025-03-02T14:00:45.443Z"
   },
   {
    "duration": 17,
    "start_time": "2025-03-02T14:00:45.488Z"
   },
   {
    "duration": 16,
    "start_time": "2025-03-02T14:00:45.507Z"
   },
   {
    "duration": 93,
    "start_time": "2025-03-02T14:00:45.525Z"
   },
   {
    "duration": 4728,
    "start_time": "2025-03-04T17:22:24.452Z"
   },
   {
    "duration": 2095,
    "start_time": "2025-03-04T17:22:29.183Z"
   },
   {
    "duration": 24,
    "start_time": "2025-03-04T17:22:31.279Z"
   },
   {
    "duration": 10,
    "start_time": "2025-03-04T17:22:31.305Z"
   },
   {
    "duration": 12,
    "start_time": "2025-03-04T17:22:31.318Z"
   },
   {
    "duration": 168,
    "start_time": "2025-03-04T17:22:31.332Z"
   },
   {
    "duration": 121,
    "start_time": "2025-03-04T17:22:31.502Z"
   },
   {
    "duration": 798,
    "start_time": "2025-03-04T17:22:31.624Z"
   },
   {
    "duration": 3,
    "start_time": "2025-03-04T17:22:32.424Z"
   },
   {
    "duration": 44,
    "start_time": "2025-03-04T17:22:32.428Z"
   },
   {
    "duration": 20,
    "start_time": "2025-03-04T17:22:32.474Z"
   },
   {
    "duration": 35,
    "start_time": "2025-03-04T17:22:32.495Z"
   },
   {
    "duration": 33,
    "start_time": "2025-03-04T17:22:32.532Z"
   },
   {
    "duration": 65,
    "start_time": "2025-03-04T17:22:32.567Z"
   },
   {
    "duration": 45,
    "start_time": "2025-03-04T17:22:32.634Z"
   },
   {
    "duration": 56,
    "start_time": "2025-03-04T17:22:32.681Z"
   },
   {
    "duration": 208,
    "start_time": "2025-03-04T17:22:32.738Z"
   },
   {
    "duration": 136,
    "start_time": "2025-03-04T17:22:32.948Z"
   },
   {
    "duration": 25,
    "start_time": "2025-03-04T17:22:33.086Z"
   },
   {
    "duration": 293,
    "start_time": "2025-03-04T17:22:33.113Z"
   },
   {
    "duration": 192,
    "start_time": "2025-03-04T17:22:33.408Z"
   },
   {
    "duration": 22,
    "start_time": "2025-03-04T17:22:33.601Z"
   },
   {
    "duration": 13,
    "start_time": "2025-03-04T17:22:33.625Z"
   },
   {
    "duration": 59,
    "start_time": "2025-03-04T17:22:33.639Z"
   },
   {
    "duration": 92,
    "start_time": "2025-03-04T17:22:33.700Z"
   },
   {
    "duration": 88,
    "start_time": "2025-03-04T17:22:33.794Z"
   },
   {
    "duration": 77,
    "start_time": "2025-03-04T17:22:33.885Z"
   },
   {
    "duration": 19,
    "start_time": "2025-03-04T17:22:33.964Z"
   },
   {
    "duration": 6,
    "start_time": "2025-03-04T17:22:33.985Z"
   },
   {
    "duration": 16,
    "start_time": "2025-03-04T17:22:33.993Z"
   },
   {
    "duration": 87,
    "start_time": "2025-03-04T17:22:34.011Z"
   },
   {
    "duration": 36,
    "start_time": "2025-03-04T17:22:34.100Z"
   },
   {
    "duration": 33,
    "start_time": "2025-03-04T17:22:34.138Z"
   },
   {
    "duration": 15,
    "start_time": "2025-03-04T17:22:34.173Z"
   },
   {
    "duration": 84,
    "start_time": "2025-03-04T17:22:34.190Z"
   },
   {
    "duration": 144,
    "start_time": "2025-03-04T17:22:45.331Z"
   },
   {
    "duration": 124,
    "start_time": "2025-03-04T17:23:23.921Z"
   },
   {
    "duration": 19,
    "start_time": "2025-03-04T17:23:37.447Z"
   },
   {
    "duration": 433,
    "start_time": "2025-03-04T17:24:46.802Z"
   },
   {
    "duration": 10,
    "start_time": "2025-03-04T17:24:56.212Z"
   },
   {
    "duration": 12,
    "start_time": "2025-03-04T17:25:16.339Z"
   },
   {
    "duration": 16,
    "start_time": "2025-03-04T17:25:35.879Z"
   },
   {
    "duration": 20,
    "start_time": "2025-03-04T17:25:45.246Z"
   },
   {
    "duration": 12,
    "start_time": "2025-03-04T17:25:55.362Z"
   },
   {
    "duration": 13,
    "start_time": "2025-03-04T17:26:00.693Z"
   },
   {
    "duration": 96,
    "start_time": "2025-03-04T17:26:24.696Z"
   },
   {
    "duration": 9,
    "start_time": "2025-03-04T17:27:02.721Z"
   },
   {
    "duration": 11,
    "start_time": "2025-03-04T17:27:16.462Z"
   },
   {
    "duration": 74,
    "start_time": "2025-03-04T17:27:24.822Z"
   },
   {
    "duration": 56,
    "start_time": "2025-03-04T17:27:28.784Z"
   },
   {
    "duration": 41,
    "start_time": "2025-03-04T17:28:37.265Z"
   },
   {
    "duration": 65,
    "start_time": "2025-03-04T17:28:42.020Z"
   },
   {
    "duration": 130,
    "start_time": "2025-03-04T17:29:01.036Z"
   },
   {
    "duration": 210,
    "start_time": "2025-03-04T17:29:28.943Z"
   },
   {
    "duration": 25,
    "start_time": "2025-03-04T17:29:37.354Z"
   },
   {
    "duration": 280,
    "start_time": "2025-03-04T17:29:48.213Z"
   },
   {
    "duration": 176,
    "start_time": "2025-03-04T17:29:54.064Z"
   },
   {
    "duration": 265,
    "start_time": "2025-03-04T17:38:01.969Z"
   },
   {
    "duration": 57,
    "start_time": "2025-03-04T17:49:30.594Z"
   },
   {
    "duration": 9,
    "start_time": "2025-03-04T17:52:09.261Z"
   },
   {
    "duration": 33,
    "start_time": "2025-03-04T17:52:14.848Z"
   },
   {
    "duration": 65,
    "start_time": "2025-03-04T17:52:35.387Z"
   },
   {
    "duration": 40,
    "start_time": "2025-03-04T17:53:46.145Z"
   },
   {
    "duration": 68,
    "start_time": "2025-03-04T17:54:00.579Z"
   },
   {
    "duration": 64,
    "start_time": "2025-03-04T17:54:04.880Z"
   },
   {
    "duration": 69,
    "start_time": "2025-03-04T17:54:11.972Z"
   },
   {
    "duration": 26,
    "start_time": "2025-03-04T17:55:04.521Z"
   },
   {
    "duration": 181,
    "start_time": "2025-03-04T17:55:49.450Z"
   },
   {
    "duration": 30,
    "start_time": "2025-03-04T17:56:14.719Z"
   },
   {
    "duration": 29,
    "start_time": "2025-03-04T17:56:26.219Z"
   },
   {
    "duration": 24,
    "start_time": "2025-03-04T17:56:46.237Z"
   },
   {
    "duration": 72,
    "start_time": "2025-03-04T18:00:45.088Z"
   },
   {
    "duration": 145,
    "start_time": "2025-03-04T18:01:01.820Z"
   },
   {
    "duration": 29,
    "start_time": "2025-03-04T18:01:37.723Z"
   },
   {
    "duration": 38,
    "start_time": "2025-03-04T18:02:12.151Z"
   },
   {
    "duration": 28,
    "start_time": "2025-03-04T18:02:24.459Z"
   },
   {
    "duration": 53,
    "start_time": "2025-03-04T18:02:43.095Z"
   },
   {
    "duration": 67,
    "start_time": "2025-03-04T18:04:11.107Z"
   },
   {
    "duration": 74,
    "start_time": "2025-03-04T18:05:01.366Z"
   },
   {
    "duration": 79,
    "start_time": "2025-03-04T18:05:19.033Z"
   },
   {
    "duration": 77,
    "start_time": "2025-03-04T18:06:32.270Z"
   },
   {
    "duration": 191,
    "start_time": "2025-03-04T18:08:08.320Z"
   },
   {
    "duration": 52,
    "start_time": "2025-03-04T18:09:13.396Z"
   },
   {
    "duration": 83,
    "start_time": "2025-03-04T18:09:38.462Z"
   },
   {
    "duration": 24,
    "start_time": "2025-03-04T18:10:38.453Z"
   },
   {
    "duration": 31,
    "start_time": "2025-03-04T18:10:44.218Z"
   },
   {
    "duration": 112,
    "start_time": "2025-03-04T18:10:58.556Z"
   },
   {
    "duration": 33,
    "start_time": "2025-03-04T18:11:23.395Z"
   },
   {
    "duration": 198,
    "start_time": "2025-03-04T18:11:28.547Z"
   },
   {
    "duration": 54,
    "start_time": "2025-03-04T18:13:59.505Z"
   },
   {
    "duration": 58,
    "start_time": "2025-03-04T18:15:51.504Z"
   },
   {
    "duration": 13,
    "start_time": "2025-03-04T18:16:08.821Z"
   },
   {
    "duration": 169,
    "start_time": "2025-03-04T18:19:12.239Z"
   },
   {
    "duration": 89,
    "start_time": "2025-03-04T18:19:25.838Z"
   },
   {
    "duration": 273,
    "start_time": "2025-03-04T18:20:33.271Z"
   },
   {
    "duration": 23,
    "start_time": "2025-03-04T18:21:10.621Z"
   },
   {
    "duration": 23,
    "start_time": "2025-03-04T18:21:13.657Z"
   },
   {
    "duration": 58,
    "start_time": "2025-03-04T18:24:10.273Z"
   },
   {
    "duration": 44,
    "start_time": "2025-03-04T18:24:12.412Z"
   },
   {
    "duration": 3716,
    "start_time": "2025-03-04T18:24:34.389Z"
   },
   {
    "duration": 1951,
    "start_time": "2025-03-04T18:24:38.107Z"
   },
   {
    "duration": 22,
    "start_time": "2025-03-04T18:24:40.059Z"
   },
   {
    "duration": 9,
    "start_time": "2025-03-04T18:24:40.084Z"
   },
   {
    "duration": 34,
    "start_time": "2025-03-04T18:24:40.094Z"
   },
   {
    "duration": 135,
    "start_time": "2025-03-04T18:24:40.130Z"
   },
   {
    "duration": 109,
    "start_time": "2025-03-04T18:24:40.267Z"
   },
   {
    "duration": 722,
    "start_time": "2025-03-04T18:24:40.378Z"
   },
   {
    "duration": 3,
    "start_time": "2025-03-04T18:24:41.101Z"
   },
   {
    "duration": 51,
    "start_time": "2025-03-04T18:24:41.107Z"
   },
   {
    "duration": 21,
    "start_time": "2025-03-04T18:24:41.159Z"
   },
   {
    "duration": 26,
    "start_time": "2025-03-04T18:24:41.182Z"
   },
   {
    "duration": 15,
    "start_time": "2025-03-04T18:24:41.210Z"
   },
   {
    "duration": 71,
    "start_time": "2025-03-04T18:24:41.227Z"
   },
   {
    "duration": 38,
    "start_time": "2025-03-04T18:24:41.299Z"
   },
   {
    "duration": 62,
    "start_time": "2025-03-04T18:24:41.339Z"
   },
   {
    "duration": 193,
    "start_time": "2025-03-04T18:24:41.403Z"
   },
   {
    "duration": 205,
    "start_time": "2025-03-04T18:24:41.597Z"
   },
   {
    "duration": 22,
    "start_time": "2025-03-04T18:24:41.804Z"
   },
   {
    "duration": 287,
    "start_time": "2025-03-04T18:24:41.827Z"
   },
   {
    "duration": 173,
    "start_time": "2025-03-04T18:24:42.116Z"
   },
   {
    "duration": 21,
    "start_time": "2025-03-04T18:24:42.291Z"
   },
   {
    "duration": 15,
    "start_time": "2025-03-04T18:24:42.313Z"
   },
   {
    "duration": 52,
    "start_time": "2025-03-04T18:24:42.329Z"
   },
   {
    "duration": 91,
    "start_time": "2025-03-04T18:24:42.382Z"
   },
   {
    "duration": 68,
    "start_time": "2025-03-04T18:24:42.475Z"
   },
   {
    "duration": 49,
    "start_time": "2025-03-04T18:24:42.544Z"
   },
   {
    "duration": 17,
    "start_time": "2025-03-04T18:24:42.596Z"
   },
   {
    "duration": 5,
    "start_time": "2025-03-04T18:24:42.615Z"
   },
   {
    "duration": 132,
    "start_time": "2025-03-04T18:24:42.621Z"
   },
   {
    "duration": 81,
    "start_time": "2025-03-04T18:24:42.754Z"
   },
   {
    "duration": 56,
    "start_time": "2025-03-04T18:24:42.836Z"
   },
   {
    "duration": 42,
    "start_time": "2025-03-04T18:24:42.894Z"
   },
   {
    "duration": 264,
    "start_time": "2025-03-04T18:24:42.937Z"
   },
   {
    "duration": 22,
    "start_time": "2025-03-04T18:24:43.203Z"
   },
   {
    "duration": 34,
    "start_time": "2025-03-04T18:24:43.227Z"
   },
   {
    "duration": 17,
    "start_time": "2025-03-04T18:25:56.801Z"
   },
   {
    "duration": 107,
    "start_time": "2025-03-04T18:26:52.708Z"
   },
   {
    "duration": 25,
    "start_time": "2025-03-04T18:26:56.575Z"
   },
   {
    "duration": 21,
    "start_time": "2025-03-04T18:26:58.338Z"
   },
   {
    "duration": 153,
    "start_time": "2025-03-04T18:30:14.161Z"
   },
   {
    "duration": 141,
    "start_time": "2025-03-04T18:30:59.628Z"
   },
   {
    "duration": 138,
    "start_time": "2025-03-04T18:31:04.205Z"
   },
   {
    "duration": 140,
    "start_time": "2025-03-04T18:31:10.697Z"
   },
   {
    "duration": 153,
    "start_time": "2025-03-04T18:32:01.234Z"
   },
   {
    "duration": 10,
    "start_time": "2025-03-04T18:32:23.812Z"
   },
   {
    "duration": 8,
    "start_time": "2025-03-04T18:32:37.484Z"
   },
   {
    "duration": 9,
    "start_time": "2025-03-04T18:32:40.846Z"
   },
   {
    "duration": 10,
    "start_time": "2025-03-04T18:32:45.221Z"
   },
   {
    "duration": 9,
    "start_time": "2025-03-04T18:32:58.502Z"
   },
   {
    "duration": 5,
    "start_time": "2025-03-04T18:33:11.490Z"
   },
   {
    "duration": 12,
    "start_time": "2025-03-04T18:33:28.411Z"
   },
   {
    "duration": 9,
    "start_time": "2025-03-04T18:33:37.041Z"
   },
   {
    "duration": 8,
    "start_time": "2025-03-04T18:34:28.794Z"
   },
   {
    "duration": 10,
    "start_time": "2025-03-04T18:34:32.809Z"
   },
   {
    "duration": 19,
    "start_time": "2025-03-04T18:34:41.243Z"
   },
   {
    "duration": 89,
    "start_time": "2025-03-04T18:34:45.979Z"
   },
   {
    "duration": 9,
    "start_time": "2025-03-04T18:34:49.479Z"
   },
   {
    "duration": 4,
    "start_time": "2025-03-04T18:36:51.587Z"
   },
   {
    "duration": 4,
    "start_time": "2025-03-04T18:37:02.121Z"
   },
   {
    "duration": 1200,
    "start_time": "2025-03-04T18:37:40.352Z"
   },
   {
    "duration": 24,
    "start_time": "2025-03-04T18:37:57.295Z"
   },
   {
    "duration": 20,
    "start_time": "2025-03-04T18:38:00.251Z"
   },
   {
    "duration": 4,
    "start_time": "2025-03-04T18:38:08.120Z"
   },
   {
    "duration": 4,
    "start_time": "2025-03-04T18:38:12.701Z"
   },
   {
    "duration": 22,
    "start_time": "2025-03-04T18:38:34.585Z"
   },
   {
    "duration": 89,
    "start_time": "2025-03-04T18:38:36.527Z"
   },
   {
    "duration": 4,
    "start_time": "2025-03-04T18:38:41.445Z"
   },
   {
    "duration": 21,
    "start_time": "2025-03-04T18:38:55.666Z"
   },
   {
    "duration": 18,
    "start_time": "2025-03-04T18:38:57.679Z"
   },
   {
    "duration": 5,
    "start_time": "2025-03-04T18:39:02.444Z"
   },
   {
    "duration": 144,
    "start_time": "2025-03-04T18:42:02.222Z"
   },
   {
    "duration": 9,
    "start_time": "2025-03-04T18:42:12.463Z"
   },
   {
    "duration": 15,
    "start_time": "2025-03-04T18:42:33.028Z"
   },
   {
    "duration": 11,
    "start_time": "2025-03-04T18:42:39.086Z"
   },
   {
    "duration": 15,
    "start_time": "2025-03-04T18:42:44.974Z"
   },
   {
    "duration": 135,
    "start_time": "2025-03-04T18:42:49.014Z"
   },
   {
    "duration": 133,
    "start_time": "2025-03-04T18:42:54.406Z"
   },
   {
    "duration": 130,
    "start_time": "2025-03-04T18:42:57.577Z"
   },
   {
    "duration": 126,
    "start_time": "2025-03-04T18:43:02.238Z"
   },
   {
    "duration": 126,
    "start_time": "2025-03-04T18:43:08.028Z"
   },
   {
    "duration": 173,
    "start_time": "2025-03-04T18:43:11.588Z"
   },
   {
    "duration": 145,
    "start_time": "2025-03-04T18:43:43.686Z"
   },
   {
    "duration": 10,
    "start_time": "2025-03-04T18:43:49.727Z"
   },
   {
    "duration": 24831,
    "start_time": "2025-03-04T18:45:14.959Z"
   },
   {
    "duration": 17,
    "start_time": "2025-03-04T18:45:39.792Z"
   },
   {
    "duration": 9,
    "start_time": "2025-03-04T18:46:39.847Z"
   },
   {
    "duration": 10,
    "start_time": "2025-03-04T18:49:36.845Z"
   },
   {
    "duration": 8,
    "start_time": "2025-03-04T18:49:52.761Z"
   },
   {
    "duration": 9,
    "start_time": "2025-03-04T18:50:00.202Z"
   },
   {
    "duration": 9,
    "start_time": "2025-03-04T18:50:15.939Z"
   },
   {
    "duration": 16,
    "start_time": "2025-03-04T18:50:20.748Z"
   },
   {
    "duration": 9,
    "start_time": "2025-03-04T18:50:29.564Z"
   },
   {
    "duration": 10,
    "start_time": "2025-03-04T18:50:44.012Z"
   },
   {
    "duration": 10,
    "start_time": "2025-03-04T18:50:51.276Z"
   },
   {
    "duration": 13,
    "start_time": "2025-03-04T18:52:43.761Z"
   },
   {
    "duration": 15,
    "start_time": "2025-03-04T18:52:54.325Z"
   },
   {
    "duration": 2,
    "start_time": "2025-03-04T18:53:19.334Z"
   },
   {
    "duration": 8,
    "start_time": "2025-03-04T18:53:22.066Z"
   },
   {
    "duration": 10,
    "start_time": "2025-03-04T19:01:38.470Z"
   },
   {
    "duration": 159,
    "start_time": "2025-03-04T19:02:00.965Z"
   },
   {
    "duration": 238,
    "start_time": "2025-03-04T19:02:14.454Z"
   },
   {
    "duration": 1322,
    "start_time": "2025-03-04T19:02:33.250Z"
   },
   {
    "duration": 1010,
    "start_time": "2025-03-04T19:03:28.524Z"
   },
   {
    "duration": 111,
    "start_time": "2025-03-04T19:04:54.860Z"
   },
   {
    "duration": 103,
    "start_time": "2025-03-04T19:08:04.465Z"
   },
   {
    "duration": 21,
    "start_time": "2025-03-04T19:11:39.765Z"
   },
   {
    "duration": 15,
    "start_time": "2025-03-04T19:11:57.666Z"
   },
   {
    "duration": 16,
    "start_time": "2025-03-04T19:12:02.875Z"
   },
   {
    "duration": 8,
    "start_time": "2025-03-04T19:12:17.853Z"
   },
   {
    "duration": 9,
    "start_time": "2025-03-04T19:12:28.438Z"
   },
   {
    "duration": 10,
    "start_time": "2025-03-04T19:13:19.017Z"
   },
   {
    "duration": 9,
    "start_time": "2025-03-04T19:14:32.729Z"
   },
   {
    "duration": 89,
    "start_time": "2025-03-04T19:18:19.990Z"
   },
   {
    "duration": 3544,
    "start_time": "2025-03-04T19:21:03.969Z"
   },
   {
    "duration": 2271,
    "start_time": "2025-03-04T19:21:07.515Z"
   },
   {
    "duration": 21,
    "start_time": "2025-03-04T19:21:09.788Z"
   },
   {
    "duration": 8,
    "start_time": "2025-03-04T19:21:09.811Z"
   },
   {
    "duration": 7,
    "start_time": "2025-03-04T19:21:09.821Z"
   },
   {
    "duration": 125,
    "start_time": "2025-03-04T19:21:09.829Z"
   },
   {
    "duration": 101,
    "start_time": "2025-03-04T19:21:09.961Z"
   },
   {
    "duration": 675,
    "start_time": "2025-03-04T19:21:10.064Z"
   },
   {
    "duration": 3,
    "start_time": "2025-03-04T19:21:10.741Z"
   },
   {
    "duration": 50,
    "start_time": "2025-03-04T19:21:10.746Z"
   },
   {
    "duration": 19,
    "start_time": "2025-03-04T19:21:10.797Z"
   },
   {
    "duration": 32,
    "start_time": "2025-03-04T19:21:10.817Z"
   },
   {
    "duration": 24,
    "start_time": "2025-03-04T19:21:10.850Z"
   },
   {
    "duration": 62,
    "start_time": "2025-03-04T19:21:10.875Z"
   },
   {
    "duration": 35,
    "start_time": "2025-03-04T19:21:10.938Z"
   },
   {
    "duration": 107,
    "start_time": "2025-03-04T19:21:10.975Z"
   },
   {
    "duration": 181,
    "start_time": "2025-03-04T19:21:11.084Z"
   },
   {
    "duration": 190,
    "start_time": "2025-03-04T19:21:11.267Z"
   },
   {
    "duration": 24,
    "start_time": "2025-03-04T19:21:11.461Z"
   },
   {
    "duration": 297,
    "start_time": "2025-03-04T19:21:11.487Z"
   },
   {
    "duration": 168,
    "start_time": "2025-03-04T19:21:11.786Z"
   },
   {
    "duration": 20,
    "start_time": "2025-03-04T19:21:11.956Z"
   },
   {
    "duration": 7,
    "start_time": "2025-03-04T19:21:11.977Z"
   },
   {
    "duration": 37,
    "start_time": "2025-03-04T19:21:11.985Z"
   },
   {
    "duration": 105,
    "start_time": "2025-03-04T19:21:12.023Z"
   },
   {
    "duration": 80,
    "start_time": "2025-03-04T19:21:12.130Z"
   },
   {
    "duration": 55,
    "start_time": "2025-03-04T19:21:12.212Z"
   },
   {
    "duration": 17,
    "start_time": "2025-03-04T19:21:12.270Z"
   },
   {
    "duration": 4,
    "start_time": "2025-03-04T19:21:12.289Z"
   },
   {
    "duration": 131,
    "start_time": "2025-03-04T19:21:12.295Z"
   },
   {
    "duration": 81,
    "start_time": "2025-03-04T19:21:12.428Z"
   },
   {
    "duration": 50,
    "start_time": "2025-03-04T19:21:12.511Z"
   },
   {
    "duration": 44,
    "start_time": "2025-03-04T19:21:12.562Z"
   },
   {
    "duration": 252,
    "start_time": "2025-03-04T19:21:12.609Z"
   },
   {
    "duration": 22,
    "start_time": "2025-03-04T19:21:12.862Z"
   },
   {
    "duration": 18,
    "start_time": "2025-03-04T19:21:12.886Z"
   },
   {
    "duration": 9,
    "start_time": "2025-03-04T19:21:12.905Z"
   },
   {
    "duration": 18,
    "start_time": "2025-03-04T19:21:12.916Z"
   },
   {
    "duration": 9,
    "start_time": "2025-03-04T19:21:12.935Z"
   },
   {
    "duration": 110,
    "start_time": "2025-03-04T19:21:12.961Z"
   },
   {
    "duration": 50,
    "start_time": "2025-03-05T18:01:41.953Z"
   },
   {
    "duration": 15554,
    "start_time": "2025-03-05T18:01:47.263Z"
   },
   {
    "duration": 2007,
    "start_time": "2025-03-05T18:02:02.819Z"
   },
   {
    "duration": 22,
    "start_time": "2025-03-05T18:02:04.827Z"
   },
   {
    "duration": 10,
    "start_time": "2025-03-05T18:02:04.851Z"
   },
   {
    "duration": 29,
    "start_time": "2025-03-05T18:02:04.862Z"
   },
   {
    "duration": 121,
    "start_time": "2025-03-05T18:02:04.893Z"
   },
   {
    "duration": 96,
    "start_time": "2025-03-05T18:02:05.016Z"
   },
   {
    "duration": 682,
    "start_time": "2025-03-05T18:02:05.114Z"
   },
   {
    "duration": 3,
    "start_time": "2025-03-05T18:02:05.798Z"
   },
   {
    "duration": 42,
    "start_time": "2025-03-05T18:02:05.804Z"
   },
   {
    "duration": 27,
    "start_time": "2025-03-05T18:02:05.848Z"
   },
   {
    "duration": 45,
    "start_time": "2025-03-05T18:02:05.876Z"
   },
   {
    "duration": 15,
    "start_time": "2025-03-05T18:02:05.923Z"
   },
   {
    "duration": 71,
    "start_time": "2025-03-05T18:02:05.940Z"
   },
   {
    "duration": 37,
    "start_time": "2025-03-05T18:02:06.012Z"
   },
   {
    "duration": 127,
    "start_time": "2025-03-05T18:02:06.051Z"
   },
   {
    "duration": 186,
    "start_time": "2025-03-05T18:02:06.180Z"
   },
   {
    "duration": 183,
    "start_time": "2025-03-05T18:02:06.368Z"
   },
   {
    "duration": 23,
    "start_time": "2025-03-05T18:02:06.552Z"
   },
   {
    "duration": 284,
    "start_time": "2025-03-05T18:02:06.577Z"
   },
   {
    "duration": 182,
    "start_time": "2025-03-05T18:02:06.863Z"
   },
   {
    "duration": 21,
    "start_time": "2025-03-05T18:02:07.047Z"
   },
   {
    "duration": 7,
    "start_time": "2025-03-05T18:02:07.070Z"
   },
   {
    "duration": 62,
    "start_time": "2025-03-05T18:02:07.079Z"
   },
   {
    "duration": 88,
    "start_time": "2025-03-05T18:02:07.142Z"
   },
   {
    "duration": 74,
    "start_time": "2025-03-05T18:02:07.232Z"
   },
   {
    "duration": 56,
    "start_time": "2025-03-05T18:02:07.308Z"
   },
   {
    "duration": 18,
    "start_time": "2025-03-05T18:02:07.367Z"
   },
   {
    "duration": 6,
    "start_time": "2025-03-05T18:02:07.386Z"
   },
   {
    "duration": 137,
    "start_time": "2025-03-05T18:02:07.393Z"
   },
   {
    "duration": 77,
    "start_time": "2025-03-05T18:02:07.532Z"
   },
   {
    "duration": 105,
    "start_time": "2025-03-05T18:02:07.611Z"
   },
   {
    "duration": 41,
    "start_time": "2025-03-05T18:02:07.718Z"
   },
   {
    "duration": 245,
    "start_time": "2025-03-05T18:02:07.760Z"
   },
   {
    "duration": 33,
    "start_time": "2025-03-05T18:02:08.006Z"
   },
   {
    "duration": 100,
    "start_time": "2025-03-05T18:02:08.040Z"
   },
   {
    "duration": 8,
    "start_time": "2025-03-05T18:02:08.141Z"
   },
   {
    "duration": 12,
    "start_time": "2025-03-05T18:02:08.151Z"
   },
   {
    "duration": 8,
    "start_time": "2025-03-05T18:02:08.164Z"
   },
   {
    "duration": 120,
    "start_time": "2025-03-05T18:02:08.173Z"
   },
   {
    "duration": 103,
    "start_time": "2025-03-05T18:03:50.345Z"
   },
   {
    "duration": 104,
    "start_time": "2025-03-05T18:03:57.530Z"
   },
   {
    "duration": 106,
    "start_time": "2025-03-05T18:11:14.201Z"
   },
   {
    "duration": 99,
    "start_time": "2025-03-05T18:13:11.212Z"
   },
   {
    "duration": 164,
    "start_time": "2025-03-05T18:15:44.590Z"
   },
   {
    "duration": 104,
    "start_time": "2025-03-05T18:58:35.201Z"
   },
   {
    "duration": 15,
    "start_time": "2025-03-05T18:58:46.111Z"
   },
   {
    "duration": 15,
    "start_time": "2025-03-05T18:59:03.017Z"
   },
   {
    "duration": 9,
    "start_time": "2025-03-05T18:59:22.548Z"
   },
   {
    "duration": 9,
    "start_time": "2025-03-05T19:00:39.178Z"
   },
   {
    "duration": 10,
    "start_time": "2025-03-05T19:00:49.440Z"
   },
   {
    "duration": 9,
    "start_time": "2025-03-05T19:11:18.474Z"
   },
   {
    "duration": 8,
    "start_time": "2025-03-05T19:14:26.347Z"
   },
   {
    "duration": 9,
    "start_time": "2025-03-05T19:14:38.311Z"
   },
   {
    "duration": 12,
    "start_time": "2025-03-05T19:14:45.239Z"
   },
   {
    "duration": 18,
    "start_time": "2025-03-05T19:16:05.047Z"
   },
   {
    "duration": 71,
    "start_time": "2025-03-05T19:16:43.880Z"
   },
   {
    "duration": 13,
    "start_time": "2025-03-05T19:17:01.596Z"
   },
   {
    "duration": 14,
    "start_time": "2025-03-05T19:17:54.203Z"
   },
   {
    "duration": 14,
    "start_time": "2025-03-05T19:18:31.580Z"
   },
   {
    "duration": 110,
    "start_time": "2025-03-05T19:20:22.345Z"
   },
   {
    "duration": 3,
    "start_time": "2025-03-05T19:22:01.402Z"
   },
   {
    "duration": 105,
    "start_time": "2025-03-05T19:22:03.147Z"
   },
   {
    "duration": 11,
    "start_time": "2025-03-05T19:22:08.605Z"
   },
   {
    "duration": 3,
    "start_time": "2025-03-05T19:22:15.082Z"
   },
   {
    "duration": 3,
    "start_time": "2025-03-05T19:25:03.880Z"
   },
   {
    "duration": 109,
    "start_time": "2025-03-05T19:27:07.880Z"
   },
   {
    "duration": 3,
    "start_time": "2025-03-05T19:27:58.671Z"
   },
   {
    "duration": 108,
    "start_time": "2025-03-05T19:28:35.287Z"
   },
   {
    "duration": 3,
    "start_time": "2025-03-05T19:29:12.541Z"
   },
   {
    "duration": 107,
    "start_time": "2025-03-05T19:29:26.437Z"
   },
   {
    "duration": 111,
    "start_time": "2025-03-05T19:29:34.495Z"
   },
   {
    "duration": 108,
    "start_time": "2025-03-05T19:29:43.197Z"
   },
   {
    "duration": 113,
    "start_time": "2025-03-05T19:30:56.767Z"
   },
   {
    "duration": 9,
    "start_time": "2025-03-05T19:31:31.604Z"
   },
   {
    "duration": 8,
    "start_time": "2025-03-05T19:31:40.754Z"
   },
   {
    "duration": 3,
    "start_time": "2025-03-05T19:31:55.322Z"
   },
   {
    "duration": 122,
    "start_time": "2025-03-05T19:31:57.968Z"
   },
   {
    "duration": 114,
    "start_time": "2025-03-05T19:33:33.838Z"
   },
   {
    "duration": 110,
    "start_time": "2025-03-05T19:33:51.973Z"
   },
   {
    "duration": 196,
    "start_time": "2025-03-05T19:35:54.103Z"
   },
   {
    "duration": 114,
    "start_time": "2025-03-05T19:35:59.647Z"
   },
   {
    "duration": 109,
    "start_time": "2025-03-05T19:36:04.478Z"
   },
   {
    "duration": 124,
    "start_time": "2025-03-05T19:36:32.353Z"
   },
   {
    "duration": 119,
    "start_time": "2025-03-05T19:38:06.555Z"
   },
   {
    "duration": 3,
    "start_time": "2025-03-05T19:46:02.556Z"
   },
   {
    "duration": 18,
    "start_time": "2025-03-05T19:48:49.098Z"
   },
   {
    "duration": 9,
    "start_time": "2025-03-05T19:49:01.622Z"
   },
   {
    "duration": 10,
    "start_time": "2025-03-05T19:49:31.012Z"
   },
   {
    "duration": 8,
    "start_time": "2025-03-05T19:50:09.236Z"
   },
   {
    "duration": 17,
    "start_time": "2025-03-05T19:50:50.562Z"
   },
   {
    "duration": 45,
    "start_time": "2025-03-08T15:29:54.030Z"
   },
   {
    "duration": 6,
    "start_time": "2025-03-08T15:30:00.847Z"
   },
   {
    "duration": 4728,
    "start_time": "2025-03-08T15:30:05.059Z"
   },
   {
    "duration": 3,
    "start_time": "2025-03-08T15:30:09.789Z"
   },
   {
    "duration": 2487,
    "start_time": "2025-03-08T15:30:09.794Z"
   },
   {
    "duration": 23,
    "start_time": "2025-03-08T15:30:12.283Z"
   },
   {
    "duration": 9,
    "start_time": "2025-03-08T15:30:12.307Z"
   },
   {
    "duration": 10,
    "start_time": "2025-03-08T15:30:12.317Z"
   },
   {
    "duration": 129,
    "start_time": "2025-03-08T15:30:12.329Z"
   },
   {
    "duration": 100,
    "start_time": "2025-03-08T15:30:12.459Z"
   },
   {
    "duration": 651,
    "start_time": "2025-03-08T15:30:12.561Z"
   },
   {
    "duration": 3,
    "start_time": "2025-03-08T15:30:13.216Z"
   },
   {
    "duration": 43,
    "start_time": "2025-03-08T15:30:13.221Z"
   },
   {
    "duration": 20,
    "start_time": "2025-03-08T15:30:13.265Z"
   },
   {
    "duration": 26,
    "start_time": "2025-03-08T15:30:13.286Z"
   },
   {
    "duration": 63,
    "start_time": "2025-03-08T15:30:13.313Z"
   },
   {
    "duration": 70,
    "start_time": "2025-03-08T15:30:13.378Z"
   },
   {
    "duration": 36,
    "start_time": "2025-03-08T15:30:13.449Z"
   },
   {
    "duration": 63,
    "start_time": "2025-03-08T15:30:13.486Z"
   },
   {
    "duration": 178,
    "start_time": "2025-03-08T15:30:13.550Z"
   },
   {
    "duration": 170,
    "start_time": "2025-03-08T15:30:13.729Z"
   },
   {
    "duration": 25,
    "start_time": "2025-03-08T15:30:13.900Z"
   },
   {
    "duration": 271,
    "start_time": "2025-03-08T15:30:13.927Z"
   },
   {
    "duration": 159,
    "start_time": "2025-03-08T15:30:14.199Z"
   },
   {
    "duration": 19,
    "start_time": "2025-03-08T15:30:14.359Z"
   },
   {
    "duration": 6,
    "start_time": "2025-03-08T15:30:14.380Z"
   },
   {
    "duration": 37,
    "start_time": "2025-03-08T15:30:14.387Z"
   },
   {
    "duration": 90,
    "start_time": "2025-03-08T15:30:14.425Z"
   },
   {
    "duration": 70,
    "start_time": "2025-03-08T15:30:14.517Z"
   },
   {
    "duration": 103,
    "start_time": "2025-03-08T15:30:14.590Z"
   },
   {
    "duration": 15,
    "start_time": "2025-03-08T15:30:14.696Z"
   },
   {
    "duration": 5,
    "start_time": "2025-03-08T15:30:14.713Z"
   },
   {
    "duration": 111,
    "start_time": "2025-03-08T15:30:14.720Z"
   },
   {
    "duration": 80,
    "start_time": "2025-03-08T15:30:14.832Z"
   },
   {
    "duration": 50,
    "start_time": "2025-03-08T15:30:14.914Z"
   },
   {
    "duration": 40,
    "start_time": "2025-03-08T15:30:14.965Z"
   },
   {
    "duration": 256,
    "start_time": "2025-03-08T15:30:15.007Z"
   },
   {
    "duration": 22,
    "start_time": "2025-03-08T15:30:15.265Z"
   },
   {
    "duration": 120,
    "start_time": "2025-03-08T15:30:15.289Z"
   },
   {
    "duration": 23,
    "start_time": "2025-03-08T15:30:15.410Z"
   },
   {
    "duration": 36,
    "start_time": "2025-03-08T15:30:15.435Z"
   },
   {
    "duration": 31,
    "start_time": "2025-03-08T15:30:15.473Z"
   },
   {
    "duration": 98,
    "start_time": "2025-03-08T15:30:15.505Z"
   },
   {
    "duration": 99,
    "start_time": "2025-03-08T15:30:15.605Z"
   },
   {
    "duration": 31,
    "start_time": "2025-03-08T15:30:15.705Z"
   },
   {
    "duration": 137,
    "start_time": "2025-03-08T15:30:15.737Z"
   },
   {
    "duration": 16,
    "start_time": "2025-03-08T15:30:15.876Z"
   },
   {
    "duration": 33,
    "start_time": "2025-03-08T15:30:15.893Z"
   },
   {
    "duration": 11,
    "start_time": "2025-03-08T15:30:31.656Z"
   },
   {
    "duration": 10,
    "start_time": "2025-03-08T15:31:23.996Z"
   },
   {
    "duration": 16,
    "start_time": "2025-03-08T15:38:07.155Z"
   },
   {
    "duration": 35,
    "start_time": "2025-03-08T15:38:13.018Z"
   },
   {
    "duration": 111,
    "start_time": "2025-03-08T15:38:45.385Z"
   },
   {
    "duration": 32,
    "start_time": "2025-03-08T15:38:50.840Z"
   },
   {
    "duration": 75,
    "start_time": "2025-03-08T15:39:01.770Z"
   },
   {
    "duration": 31,
    "start_time": "2025-03-08T15:39:07.244Z"
   },
   {
    "duration": 70,
    "start_time": "2025-03-08T15:39:23.071Z"
   },
   {
    "duration": 22,
    "start_time": "2025-03-08T15:39:26.291Z"
   },
   {
    "duration": 18,
    "start_time": "2025-03-08T15:41:43.308Z"
   },
   {
    "duration": 17,
    "start_time": "2025-03-08T15:41:57.192Z"
   },
   {
    "duration": 4,
    "start_time": "2025-03-08T15:42:00.741Z"
   },
   {
    "duration": 27,
    "start_time": "2025-03-08T15:42:04.545Z"
   },
   {
    "duration": 24,
    "start_time": "2025-03-08T15:43:15.375Z"
   },
   {
    "duration": 25,
    "start_time": "2025-03-08T15:43:32.432Z"
   },
   {
    "duration": 18,
    "start_time": "2025-03-08T15:43:52.794Z"
   },
   {
    "duration": 25,
    "start_time": "2025-03-08T15:44:19.122Z"
   },
   {
    "duration": 23,
    "start_time": "2025-03-08T15:45:05.233Z"
   },
   {
    "duration": 17,
    "start_time": "2025-03-08T15:46:18.353Z"
   },
   {
    "duration": 23,
    "start_time": "2025-03-08T15:46:37.009Z"
   },
   {
    "duration": 18,
    "start_time": "2025-03-08T15:46:49.010Z"
   },
   {
    "duration": 29,
    "start_time": "2025-03-08T15:47:12.348Z"
   },
   {
    "duration": 150,
    "start_time": "2025-03-08T15:47:33.211Z"
   },
   {
    "duration": 328,
    "start_time": "2025-03-08T15:47:42.872Z"
   },
   {
    "duration": 31,
    "start_time": "2025-03-08T15:47:53.044Z"
   },
   {
    "duration": 50,
    "start_time": "2025-03-08T15:51:56.181Z"
   },
   {
    "duration": 76,
    "start_time": "2025-03-08T15:52:42.816Z"
   },
   {
    "duration": 48,
    "start_time": "2025-03-08T15:53:00.361Z"
   },
   {
    "duration": 53,
    "start_time": "2025-03-08T15:53:13.390Z"
   },
   {
    "duration": 43,
    "start_time": "2025-03-08T15:53:19.015Z"
   },
   {
    "duration": 47,
    "start_time": "2025-03-08T15:54:25.233Z"
   },
   {
    "duration": 39,
    "start_time": "2025-03-08T15:56:05.183Z"
   },
   {
    "duration": 131,
    "start_time": "2025-03-08T15:59:26.690Z"
   },
   {
    "duration": 141,
    "start_time": "2025-03-08T15:59:45.259Z"
   },
   {
    "duration": 231,
    "start_time": "2025-03-08T15:59:48.805Z"
   },
   {
    "duration": 27,
    "start_time": "2025-03-08T16:00:13.889Z"
   },
   {
    "duration": 99,
    "start_time": "2025-03-08T16:03:49.288Z"
   },
   {
    "duration": 7,
    "start_time": "2025-03-08T16:08:15.139Z"
   },
   {
    "duration": 114,
    "start_time": "2025-03-08T16:10:45.685Z"
   },
   {
    "duration": 19,
    "start_time": "2025-03-08T16:15:54.969Z"
   },
   {
    "duration": 8,
    "start_time": "2025-03-08T16:16:22.645Z"
   },
   {
    "duration": 132,
    "start_time": "2025-03-08T16:17:21.380Z"
   },
   {
    "duration": 88,
    "start_time": "2025-03-08T16:21:12.318Z"
   },
   {
    "duration": 90,
    "start_time": "2025-03-08T16:21:41.010Z"
   },
   {
    "duration": 102,
    "start_time": "2025-03-08T16:27:10.261Z"
   },
   {
    "duration": 185,
    "start_time": "2025-03-08T16:28:56.566Z"
   },
   {
    "duration": 96,
    "start_time": "2025-03-08T16:29:04.029Z"
   },
   {
    "duration": 94,
    "start_time": "2025-03-08T16:29:09.469Z"
   },
   {
    "duration": 3,
    "start_time": "2025-03-08T16:30:47.637Z"
   },
   {
    "duration": 15,
    "start_time": "2025-03-08T16:32:43.545Z"
   },
   {
    "duration": 13,
    "start_time": "2025-03-08T16:33:00.857Z"
   },
   {
    "duration": 12,
    "start_time": "2025-03-08T16:33:06.602Z"
   },
   {
    "duration": 24,
    "start_time": "2025-03-08T16:33:23.753Z"
   },
   {
    "duration": 10,
    "start_time": "2025-03-08T16:33:30.754Z"
   },
   {
    "duration": 6,
    "start_time": "2025-03-08T16:33:47.916Z"
   },
   {
    "duration": 7,
    "start_time": "2025-03-08T16:34:14.609Z"
   },
   {
    "duration": 5,
    "start_time": "2025-03-08T16:34:39.679Z"
   },
   {
    "duration": 134,
    "start_time": "2025-03-08T16:36:28.456Z"
   },
   {
    "duration": 6,
    "start_time": "2025-03-08T16:36:39.303Z"
   },
   {
    "duration": 6,
    "start_time": "2025-03-08T16:37:03.920Z"
   },
   {
    "duration": 11,
    "start_time": "2025-03-08T16:37:15.059Z"
   },
   {
    "duration": 122,
    "start_time": "2025-03-08T16:38:26.933Z"
   },
   {
    "duration": 6,
    "start_time": "2025-03-08T16:39:01.193Z"
   },
   {
    "duration": 6,
    "start_time": "2025-03-08T16:42:48.425Z"
   },
   {
    "duration": 109,
    "start_time": "2025-03-08T16:43:16.820Z"
   },
   {
    "duration": 8,
    "start_time": "2025-03-08T16:44:54.044Z"
   },
   {
    "duration": 14,
    "start_time": "2025-03-08T16:45:19.561Z"
   },
   {
    "duration": 17,
    "start_time": "2025-03-08T17:01:32.728Z"
   },
   {
    "duration": 25,
    "start_time": "2025-03-08T17:06:37.808Z"
   },
   {
    "duration": 108,
    "start_time": "2025-03-08T17:06:43.017Z"
   },
   {
    "duration": 128,
    "start_time": "2025-03-08T17:06:48.112Z"
   },
   {
    "duration": 6,
    "start_time": "2025-03-08T17:06:57.794Z"
   },
   {
    "duration": 100,
    "start_time": "2025-03-08T17:07:03.181Z"
   },
   {
    "duration": 104,
    "start_time": "2025-03-08T17:08:12.763Z"
   },
   {
    "duration": 9,
    "start_time": "2025-03-08T17:11:54.480Z"
   },
   {
    "duration": 10,
    "start_time": "2025-03-08T17:12:08.038Z"
   },
   {
    "duration": 10,
    "start_time": "2025-03-08T17:12:18.873Z"
   },
   {
    "duration": 24,
    "start_time": "2025-03-08T17:20:22.424Z"
   },
   {
    "duration": 1093,
    "start_time": "2025-03-08T17:21:05.858Z"
   },
   {
    "duration": 10,
    "start_time": "2025-03-08T17:21:35.886Z"
   },
   {
    "duration": 23,
    "start_time": "2025-03-08T17:21:42.892Z"
   },
   {
    "duration": 10,
    "start_time": "2025-03-08T17:22:51.990Z"
   },
   {
    "duration": 10,
    "start_time": "2025-03-08T17:22:56.934Z"
   },
   {
    "duration": 13,
    "start_time": "2025-03-08T17:23:06.267Z"
   },
   {
    "duration": 10,
    "start_time": "2025-03-08T17:23:11.522Z"
   },
   {
    "duration": 77,
    "start_time": "2025-03-08T17:23:14.609Z"
   },
   {
    "duration": 25,
    "start_time": "2025-03-08T17:23:18.111Z"
   },
   {
    "duration": 3850,
    "start_time": "2025-03-08T17:23:26.983Z"
   },
   {
    "duration": 3,
    "start_time": "2025-03-08T17:23:30.835Z"
   },
   {
    "duration": 2446,
    "start_time": "2025-03-08T17:23:30.839Z"
   },
   {
    "duration": 19,
    "start_time": "2025-03-08T17:23:33.287Z"
   },
   {
    "duration": 9,
    "start_time": "2025-03-08T17:23:33.307Z"
   },
   {
    "duration": 23,
    "start_time": "2025-03-08T17:23:33.317Z"
   },
   {
    "duration": 147,
    "start_time": "2025-03-08T17:23:33.341Z"
   },
   {
    "duration": 120,
    "start_time": "2025-03-08T17:23:33.490Z"
   },
   {
    "duration": 705,
    "start_time": "2025-03-08T17:23:33.611Z"
   },
   {
    "duration": 4,
    "start_time": "2025-03-08T17:23:34.320Z"
   },
   {
    "duration": 119,
    "start_time": "2025-03-08T17:23:34.325Z"
   },
   {
    "duration": 32,
    "start_time": "2025-03-08T17:23:34.446Z"
   },
   {
    "duration": 54,
    "start_time": "2025-03-08T17:23:34.480Z"
   },
   {
    "duration": 24,
    "start_time": "2025-03-08T17:23:34.535Z"
   },
   {
    "duration": 106,
    "start_time": "2025-03-08T17:23:34.562Z"
   },
   {
    "duration": 34,
    "start_time": "2025-03-08T17:23:34.671Z"
   },
   {
    "duration": 71,
    "start_time": "2025-03-08T17:23:34.706Z"
   },
   {
    "duration": 202,
    "start_time": "2025-03-08T17:23:34.778Z"
   },
   {
    "duration": 199,
    "start_time": "2025-03-08T17:23:34.982Z"
   },
   {
    "duration": 21,
    "start_time": "2025-03-08T17:23:35.183Z"
   },
   {
    "duration": 316,
    "start_time": "2025-03-08T17:23:35.206Z"
   },
   {
    "duration": 179,
    "start_time": "2025-03-08T17:23:35.524Z"
   },
   {
    "duration": 20,
    "start_time": "2025-03-08T17:23:35.705Z"
   },
   {
    "duration": 25,
    "start_time": "2025-03-08T17:23:35.726Z"
   },
   {
    "duration": 48,
    "start_time": "2025-03-08T17:23:35.753Z"
   },
   {
    "duration": 123,
    "start_time": "2025-03-08T17:23:35.803Z"
   },
   {
    "duration": 87,
    "start_time": "2025-03-08T17:23:35.928Z"
   },
   {
    "duration": 60,
    "start_time": "2025-03-08T17:23:36.020Z"
   },
   {
    "duration": 35,
    "start_time": "2025-03-08T17:23:36.082Z"
   },
   {
    "duration": 7,
    "start_time": "2025-03-08T17:23:36.119Z"
   },
   {
    "duration": 116,
    "start_time": "2025-03-08T17:23:36.127Z"
   },
   {
    "duration": 82,
    "start_time": "2025-03-08T17:23:36.247Z"
   },
   {
    "duration": 64,
    "start_time": "2025-03-08T17:23:36.330Z"
   },
   {
    "duration": 70,
    "start_time": "2025-03-08T17:23:36.396Z"
   },
   {
    "duration": 253,
    "start_time": "2025-03-08T17:23:36.468Z"
   },
   {
    "duration": 31,
    "start_time": "2025-03-08T17:23:36.722Z"
   },
   {
    "duration": 24,
    "start_time": "2025-03-08T17:23:36.756Z"
   },
   {
    "duration": 22,
    "start_time": "2025-03-08T17:23:36.782Z"
   },
   {
    "duration": 20,
    "start_time": "2025-03-08T17:23:36.805Z"
   },
   {
    "duration": 13,
    "start_time": "2025-03-08T17:23:36.827Z"
   },
   {
    "duration": 112,
    "start_time": "2025-03-08T17:23:36.842Z"
   },
   {
    "duration": 123,
    "start_time": "2025-03-08T17:23:36.956Z"
   },
   {
    "duration": 9,
    "start_time": "2025-03-08T17:23:37.080Z"
   },
   {
    "duration": 146,
    "start_time": "2025-03-08T17:23:37.090Z"
   },
   {
    "duration": 27,
    "start_time": "2025-03-08T17:23:37.238Z"
   },
   {
    "duration": 29,
    "start_time": "2025-03-08T17:23:37.268Z"
   },
   {
    "duration": 119,
    "start_time": "2025-03-08T17:23:37.298Z"
   },
   {
    "duration": 129,
    "start_time": "2025-03-08T17:23:37.419Z"
   },
   {
    "duration": 8,
    "start_time": "2025-03-08T17:23:37.551Z"
   },
   {
    "duration": 192,
    "start_time": "2025-03-08T17:23:37.562Z"
   },
   {
    "duration": 12,
    "start_time": "2025-03-08T17:23:37.756Z"
   },
   {
    "duration": 42,
    "start_time": "2025-03-08T17:23:37.772Z"
   },
   {
    "duration": 10,
    "start_time": "2025-03-08T17:23:42.818Z"
   },
   {
    "duration": 25,
    "start_time": "2025-03-08T17:24:03.963Z"
   },
   {
    "duration": 10,
    "start_time": "2025-03-08T17:24:44.998Z"
   },
   {
    "duration": 19,
    "start_time": "2025-03-08T17:26:19.762Z"
   },
   {
    "duration": 31,
    "start_time": "2025-03-08T17:28:56.152Z"
   },
   {
    "duration": 14,
    "start_time": "2025-03-08T17:29:21.495Z"
   },
   {
    "duration": 8,
    "start_time": "2025-03-08T17:31:01.157Z"
   },
   {
    "duration": 24,
    "start_time": "2025-03-08T17:31:35.361Z"
   },
   {
    "duration": 109,
    "start_time": "2025-03-08T17:31:59.140Z"
   },
   {
    "duration": 10,
    "start_time": "2025-03-08T17:32:25.825Z"
   },
   {
    "duration": 6,
    "start_time": "2025-03-08T17:32:43.683Z"
   },
   {
    "duration": 12,
    "start_time": "2025-03-08T17:33:02.612Z"
   },
   {
    "duration": 6,
    "start_time": "2025-03-08T17:33:32.486Z"
   },
   {
    "duration": 11,
    "start_time": "2025-03-08T17:33:46.081Z"
   },
   {
    "duration": 8,
    "start_time": "2025-03-08T17:34:03.995Z"
   },
   {
    "duration": 9,
    "start_time": "2025-03-08T17:34:27.350Z"
   },
   {
    "duration": 10,
    "start_time": "2025-03-08T17:34:37.560Z"
   },
   {
    "duration": 10,
    "start_time": "2025-03-08T17:36:40.695Z"
   },
   {
    "duration": 8,
    "start_time": "2025-03-08T17:37:29.508Z"
   },
   {
    "duration": 22,
    "start_time": "2025-03-08T17:38:15.405Z"
   },
   {
    "duration": 8,
    "start_time": "2025-03-08T17:42:17.668Z"
   },
   {
    "duration": 24,
    "start_time": "2025-03-08T17:42:22.774Z"
   },
   {
    "duration": 52,
    "start_time": "2025-03-08T17:42:27.330Z"
   },
   {
    "duration": 38,
    "start_time": "2025-03-08T17:48:59.403Z"
   },
   {
    "duration": 45,
    "start_time": "2025-03-08T17:49:06.150Z"
   },
   {
    "duration": 32,
    "start_time": "2025-03-08T17:51:58.501Z"
   },
   {
    "duration": 11,
    "start_time": "2025-03-08T17:56:25.628Z"
   },
   {
    "duration": 23,
    "start_time": "2025-03-08T17:56:36.861Z"
   },
   {
    "duration": 5,
    "start_time": "2025-03-08T17:57:34.315Z"
   },
   {
    "duration": 23,
    "start_time": "2025-03-08T17:57:44.233Z"
   },
   {
    "duration": 10,
    "start_time": "2025-03-08T17:58:05.985Z"
   },
   {
    "duration": 5,
    "start_time": "2025-03-08T17:59:11.304Z"
   },
   {
    "duration": 11,
    "start_time": "2025-03-08T17:59:42.125Z"
   },
   {
    "duration": 10,
    "start_time": "2025-03-08T17:59:48.306Z"
   },
   {
    "duration": 7,
    "start_time": "2025-03-08T17:59:56.134Z"
   },
   {
    "duration": 6,
    "start_time": "2025-03-08T18:01:48.134Z"
   },
   {
    "duration": 19,
    "start_time": "2025-03-08T18:01:54.920Z"
   },
   {
    "duration": 26,
    "start_time": "2025-03-08T18:02:40.066Z"
   },
   {
    "duration": 7,
    "start_time": "2025-03-08T18:02:47.316Z"
   },
   {
    "duration": 7,
    "start_time": "2025-03-08T18:03:20.373Z"
   },
   {
    "duration": 9,
    "start_time": "2025-03-08T18:03:30.282Z"
   },
   {
    "duration": 6,
    "start_time": "2025-03-08T18:15:41.865Z"
   },
   {
    "duration": 7,
    "start_time": "2025-03-08T18:16:35.374Z"
   },
   {
    "duration": 7,
    "start_time": "2025-03-08T18:17:23.312Z"
   },
   {
    "duration": 7,
    "start_time": "2025-03-08T18:17:32.923Z"
   },
   {
    "duration": 12,
    "start_time": "2025-03-08T18:18:07.211Z"
   },
   {
    "duration": 7,
    "start_time": "2025-03-08T18:18:23.667Z"
   },
   {
    "duration": 10,
    "start_time": "2025-03-08T18:19:14.335Z"
   },
   {
    "duration": 10,
    "start_time": "2025-03-08T18:19:33.022Z"
   },
   {
    "duration": 11,
    "start_time": "2025-03-08T18:19:59.155Z"
   },
   {
    "duration": 10,
    "start_time": "2025-03-08T18:20:44.497Z"
   },
   {
    "duration": 10,
    "start_time": "2025-03-08T18:24:53.266Z"
   },
   {
    "duration": 10,
    "start_time": "2025-03-08T18:25:00.654Z"
   },
   {
    "duration": 9,
    "start_time": "2025-03-08T18:25:06.094Z"
   },
   {
    "duration": 12,
    "start_time": "2025-03-08T18:27:24.258Z"
   },
   {
    "duration": 11,
    "start_time": "2025-03-08T18:27:37.304Z"
   },
   {
    "duration": 72,
    "start_time": "2025-03-08T18:32:11.044Z"
   },
   {
    "duration": 15,
    "start_time": "2025-03-08T18:33:53.998Z"
   },
   {
    "duration": 13,
    "start_time": "2025-03-08T18:40:26.589Z"
   },
   {
    "duration": 15,
    "start_time": "2025-03-08T18:40:53.994Z"
   },
   {
    "duration": 13,
    "start_time": "2025-03-08T18:42:09.120Z"
   },
   {
    "duration": 6,
    "start_time": "2025-03-08T18:45:31.277Z"
   },
   {
    "duration": 11,
    "start_time": "2025-03-08T18:45:42.778Z"
   },
   {
    "duration": 14,
    "start_time": "2025-03-08T18:47:07.301Z"
   },
   {
    "duration": 138,
    "start_time": "2025-03-08T18:48:08.750Z"
   },
   {
    "duration": 130,
    "start_time": "2025-03-08T18:48:44.971Z"
   },
   {
    "duration": 10,
    "start_time": "2025-03-08T18:49:09.508Z"
   },
   {
    "duration": 138,
    "start_time": "2025-03-08T18:49:20.114Z"
   },
   {
    "duration": 129,
    "start_time": "2025-03-08T18:52:21.140Z"
   },
   {
    "duration": 136,
    "start_time": "2025-03-08T18:54:51.436Z"
   },
   {
    "duration": 138,
    "start_time": "2025-03-08T18:55:33.396Z"
   },
   {
    "duration": 147,
    "start_time": "2025-03-08T18:56:29.634Z"
   },
   {
    "duration": 14,
    "start_time": "2025-03-08T18:59:48.015Z"
   },
   {
    "duration": 153,
    "start_time": "2025-03-08T19:00:13.405Z"
   },
   {
    "duration": 153,
    "start_time": "2025-03-08T19:01:28.277Z"
   },
   {
    "duration": 152,
    "start_time": "2025-03-08T19:01:59.083Z"
   },
   {
    "duration": 78,
    "start_time": "2025-03-08T19:02:57.124Z"
   },
   {
    "duration": 231,
    "start_time": "2025-03-08T19:04:08.680Z"
   },
   {
    "duration": 165,
    "start_time": "2025-03-08T19:05:55.741Z"
   },
   {
    "duration": 136,
    "start_time": "2025-03-08T19:06:01.997Z"
   },
   {
    "duration": 143,
    "start_time": "2025-03-08T19:06:25.405Z"
   },
   {
    "duration": 192,
    "start_time": "2025-03-08T19:07:25.459Z"
   },
   {
    "duration": 140,
    "start_time": "2025-03-08T19:16:04.979Z"
   },
   {
    "duration": 14,
    "start_time": "2025-03-08T19:21:07.164Z"
   },
   {
    "duration": 16,
    "start_time": "2025-03-08T19:21:23.705Z"
   },
   {
    "duration": 4862,
    "start_time": "2025-03-09T12:41:48.945Z"
   },
   {
    "duration": 3,
    "start_time": "2025-03-09T12:41:53.809Z"
   },
   {
    "duration": 2034,
    "start_time": "2025-03-09T12:41:53.814Z"
   },
   {
    "duration": 23,
    "start_time": "2025-03-09T12:41:55.850Z"
   },
   {
    "duration": 9,
    "start_time": "2025-03-09T12:41:55.875Z"
   },
   {
    "duration": 8,
    "start_time": "2025-03-09T12:41:55.885Z"
   },
   {
    "duration": 125,
    "start_time": "2025-03-09T12:41:55.895Z"
   },
   {
    "duration": 104,
    "start_time": "2025-03-09T12:41:56.022Z"
   },
   {
    "duration": 707,
    "start_time": "2025-03-09T12:41:56.128Z"
   },
   {
    "duration": 4,
    "start_time": "2025-03-09T12:41:56.839Z"
   },
   {
    "duration": 46,
    "start_time": "2025-03-09T12:41:56.845Z"
   },
   {
    "duration": 23,
    "start_time": "2025-03-09T12:41:56.904Z"
   },
   {
    "duration": 30,
    "start_time": "2025-03-09T12:41:56.929Z"
   },
   {
    "duration": 46,
    "start_time": "2025-03-09T12:41:56.961Z"
   },
   {
    "duration": 50,
    "start_time": "2025-03-09T12:41:57.009Z"
   },
   {
    "duration": 54,
    "start_time": "2025-03-09T12:41:57.060Z"
   },
   {
    "duration": 54,
    "start_time": "2025-03-09T12:41:57.116Z"
   },
   {
    "duration": 228,
    "start_time": "2025-03-09T12:41:57.172Z"
   },
   {
    "duration": 207,
    "start_time": "2025-03-09T12:41:57.404Z"
   },
   {
    "duration": 39,
    "start_time": "2025-03-09T12:41:57.613Z"
   },
   {
    "duration": 314,
    "start_time": "2025-03-09T12:41:57.654Z"
   },
   {
    "duration": 207,
    "start_time": "2025-03-09T12:41:57.970Z"
   },
   {
    "duration": 29,
    "start_time": "2025-03-09T12:41:58.178Z"
   },
   {
    "duration": 8,
    "start_time": "2025-03-09T12:41:58.208Z"
   },
   {
    "duration": 39,
    "start_time": "2025-03-09T12:41:58.218Z"
   },
   {
    "duration": 108,
    "start_time": "2025-03-09T12:41:58.258Z"
   },
   {
    "duration": 91,
    "start_time": "2025-03-09T12:41:58.368Z"
   },
   {
    "duration": 57,
    "start_time": "2025-03-09T12:41:58.463Z"
   },
   {
    "duration": 18,
    "start_time": "2025-03-09T12:41:58.522Z"
   },
   {
    "duration": 6,
    "start_time": "2025-03-09T12:41:58.542Z"
   },
   {
    "duration": 139,
    "start_time": "2025-03-09T12:41:58.550Z"
   },
   {
    "duration": 90,
    "start_time": "2025-03-09T12:41:58.691Z"
   },
   {
    "duration": 55,
    "start_time": "2025-03-09T12:41:58.782Z"
   },
   {
    "duration": 43,
    "start_time": "2025-03-09T12:41:58.838Z"
   },
   {
    "duration": 257,
    "start_time": "2025-03-09T12:41:58.882Z"
   },
   {
    "duration": 24,
    "start_time": "2025-03-09T12:41:59.141Z"
   },
   {
    "duration": 19,
    "start_time": "2025-03-09T12:41:59.167Z"
   },
   {
    "duration": 3,
    "start_time": "2025-03-09T12:41:59.204Z"
   },
   {
    "duration": 12,
    "start_time": "2025-03-09T12:41:59.209Z"
   },
   {
    "duration": 13,
    "start_time": "2025-03-09T12:41:59.223Z"
   },
   {
    "duration": 133,
    "start_time": "2025-03-09T12:41:59.237Z"
   },
   {
    "duration": 117,
    "start_time": "2025-03-09T12:41:59.372Z"
   },
   {
    "duration": 16,
    "start_time": "2025-03-09T12:41:59.491Z"
   },
   {
    "duration": 130,
    "start_time": "2025-03-09T12:41:59.509Z"
   },
   {
    "duration": 17,
    "start_time": "2025-03-09T12:41:59.641Z"
   },
   {
    "duration": 52,
    "start_time": "2025-03-09T12:41:59.660Z"
   },
   {
    "duration": 8,
    "start_time": "2025-03-09T12:41:59.713Z"
   },
   {
    "duration": 140,
    "start_time": "2025-03-09T12:41:59.723Z"
   },
   {
    "duration": 211,
    "start_time": "2025-03-09T12:41:59.865Z"
   },
   {
    "duration": 6,
    "start_time": "2025-03-09T12:42:00.078Z"
   },
   {
    "duration": 156,
    "start_time": "2025-03-09T12:42:00.086Z"
   },
   {
    "duration": 9,
    "start_time": "2025-03-09T12:42:00.244Z"
   },
   {
    "duration": 47,
    "start_time": "2025-03-09T12:42:00.255Z"
   },
   {
    "duration": 54,
    "start_time": "2025-03-09T12:42:00.304Z"
   },
   {
    "duration": 213,
    "start_time": "2025-03-09T12:42:00.360Z"
   },
   {
    "duration": 199,
    "start_time": "2025-03-09T12:42:00.575Z"
   },
   {
    "duration": 182,
    "start_time": "2025-03-09T12:42:00.776Z"
   },
   {
    "duration": 171,
    "start_time": "2025-03-09T12:42:00.960Z"
   },
   {
    "duration": 244,
    "start_time": "2025-03-09T12:42:01.133Z"
   },
   {
    "duration": 16,
    "start_time": "2025-03-09T12:46:09.008Z"
   },
   {
    "duration": 33,
    "start_time": "2025-03-09T12:47:31.500Z"
   },
   {
    "duration": 5,
    "start_time": "2025-03-09T12:48:22.129Z"
   },
   {
    "duration": 7,
    "start_time": "2025-03-09T12:48:39.464Z"
   },
   {
    "duration": 19,
    "start_time": "2025-03-09T12:48:47.404Z"
   },
   {
    "duration": 10,
    "start_time": "2025-03-09T12:49:27.368Z"
   },
   {
    "duration": 10,
    "start_time": "2025-03-09T12:50:02.219Z"
   },
   {
    "duration": 13,
    "start_time": "2025-03-09T12:50:10.880Z"
   },
   {
    "duration": 18,
    "start_time": "2025-03-09T12:59:24.092Z"
   },
   {
    "duration": 119,
    "start_time": "2025-03-09T12:59:37.766Z"
   },
   {
    "duration": 18,
    "start_time": "2025-03-09T12:59:51.836Z"
   },
   {
    "duration": 7,
    "start_time": "2025-03-09T13:00:04.497Z"
   },
   {
    "duration": 18,
    "start_time": "2025-03-09T13:00:15.612Z"
   },
   {
    "duration": 28,
    "start_time": "2025-03-09T13:00:17.662Z"
   },
   {
    "duration": 17,
    "start_time": "2025-03-09T13:00:28.805Z"
   },
   {
    "duration": 18,
    "start_time": "2025-03-09T13:00:46.228Z"
   },
   {
    "duration": 16,
    "start_time": "2025-03-09T13:01:05.572Z"
   },
   {
    "duration": 17,
    "start_time": "2025-03-09T13:01:23.587Z"
   },
   {
    "duration": 17,
    "start_time": "2025-03-09T13:02:34.198Z"
   },
   {
    "duration": 16,
    "start_time": "2025-03-09T13:02:42.621Z"
   },
   {
    "duration": 16,
    "start_time": "2025-03-09T13:02:47.414Z"
   },
   {
    "duration": 20,
    "start_time": "2025-03-09T13:04:26.173Z"
   },
   {
    "duration": 13,
    "start_time": "2025-03-09T13:06:39.490Z"
   },
   {
    "duration": 20,
    "start_time": "2025-03-09T13:10:11.709Z"
   },
   {
    "duration": 20,
    "start_time": "2025-03-09T13:12:35.392Z"
   },
   {
    "duration": 12,
    "start_time": "2025-03-09T13:13:43.464Z"
   },
   {
    "duration": 17,
    "start_time": "2025-03-09T13:13:57.209Z"
   },
   {
    "duration": 14,
    "start_time": "2025-03-09T13:15:07.525Z"
   },
   {
    "duration": 167,
    "start_time": "2025-03-09T13:15:28.846Z"
   },
   {
    "duration": 143,
    "start_time": "2025-03-09T13:15:48.816Z"
   },
   {
    "duration": 144,
    "start_time": "2025-03-09T13:16:25.130Z"
   },
   {
    "duration": 10,
    "start_time": "2025-03-09T13:17:29.650Z"
   },
   {
    "duration": 10,
    "start_time": "2025-03-09T13:17:38.361Z"
   },
   {
    "duration": 138,
    "start_time": "2025-03-09T13:17:55.689Z"
   },
   {
    "duration": 217,
    "start_time": "2025-03-09T13:18:53.620Z"
   },
   {
    "duration": 146,
    "start_time": "2025-03-09T13:19:56.366Z"
   },
   {
    "duration": 148,
    "start_time": "2025-03-09T13:20:05.170Z"
   },
   {
    "duration": 44,
    "start_time": "2025-03-09T13:46:57.422Z"
   },
   {
    "duration": 38,
    "start_time": "2025-03-09T13:47:01.543Z"
   },
   {
    "duration": 3826,
    "start_time": "2025-03-09T13:54:04.098Z"
   },
   {
    "duration": 3,
    "start_time": "2025-03-09T13:54:07.926Z"
   },
   {
    "duration": 2666,
    "start_time": "2025-03-09T13:54:07.931Z"
   },
   {
    "duration": 23,
    "start_time": "2025-03-09T13:54:10.599Z"
   },
   {
    "duration": 9,
    "start_time": "2025-03-09T13:54:10.623Z"
   },
   {
    "duration": 17,
    "start_time": "2025-03-09T13:54:10.633Z"
   },
   {
    "duration": 146,
    "start_time": "2025-03-09T13:54:10.652Z"
   },
   {
    "duration": 110,
    "start_time": "2025-03-09T13:54:10.804Z"
   },
   {
    "duration": 724,
    "start_time": "2025-03-09T13:54:10.916Z"
   },
   {
    "duration": 3,
    "start_time": "2025-03-09T13:54:11.644Z"
   },
   {
    "duration": 32,
    "start_time": "2025-03-09T13:54:11.649Z"
   },
   {
    "duration": 23,
    "start_time": "2025-03-09T13:54:11.704Z"
   },
   {
    "duration": 30,
    "start_time": "2025-03-09T13:54:11.729Z"
   },
   {
    "duration": 16,
    "start_time": "2025-03-09T13:54:11.760Z"
   },
   {
    "duration": 75,
    "start_time": "2025-03-09T13:54:11.778Z"
   },
   {
    "duration": 55,
    "start_time": "2025-03-09T13:54:11.854Z"
   },
   {
    "duration": 53,
    "start_time": "2025-03-09T13:54:11.910Z"
   },
   {
    "duration": 220,
    "start_time": "2025-03-09T13:54:11.965Z"
   },
   {
    "duration": 206,
    "start_time": "2025-03-09T13:54:12.187Z"
   },
   {
    "duration": 31,
    "start_time": "2025-03-09T13:54:12.395Z"
   },
   {
    "duration": 301,
    "start_time": "2025-03-09T13:54:12.428Z"
   },
   {
    "duration": 185,
    "start_time": "2025-03-09T13:54:12.731Z"
   },
   {
    "duration": 22,
    "start_time": "2025-03-09T13:54:12.918Z"
   },
   {
    "duration": 8,
    "start_time": "2025-03-09T13:54:12.941Z"
   },
   {
    "duration": 61,
    "start_time": "2025-03-09T13:54:12.951Z"
   },
   {
    "duration": 91,
    "start_time": "2025-03-09T13:54:13.013Z"
   },
   {
    "duration": 74,
    "start_time": "2025-03-09T13:54:13.105Z"
   },
   {
    "duration": 58,
    "start_time": "2025-03-09T13:54:13.183Z"
   },
   {
    "duration": 18,
    "start_time": "2025-03-09T13:54:13.243Z"
   },
   {
    "duration": 8,
    "start_time": "2025-03-09T13:54:13.263Z"
   },
   {
    "duration": 137,
    "start_time": "2025-03-09T13:54:13.272Z"
   },
   {
    "duration": 94,
    "start_time": "2025-03-09T13:54:13.411Z"
   },
   {
    "duration": 45,
    "start_time": "2025-03-09T13:54:13.507Z"
   },
   {
    "duration": 60,
    "start_time": "2025-03-09T13:54:13.554Z"
   },
   {
    "duration": 257,
    "start_time": "2025-03-09T13:54:13.615Z"
   },
   {
    "duration": 31,
    "start_time": "2025-03-09T13:54:13.874Z"
   },
   {
    "duration": 18,
    "start_time": "2025-03-09T13:54:13.907Z"
   },
   {
    "duration": 7,
    "start_time": "2025-03-09T13:54:13.926Z"
   },
   {
    "duration": 23,
    "start_time": "2025-03-09T13:54:13.934Z"
   },
   {
    "duration": 13,
    "start_time": "2025-03-09T13:54:13.959Z"
   },
   {
    "duration": 130,
    "start_time": "2025-03-09T13:54:13.973Z"
   },
   {
    "duration": 119,
    "start_time": "2025-03-09T13:54:14.105Z"
   },
   {
    "duration": 9,
    "start_time": "2025-03-09T13:54:14.226Z"
   },
   {
    "duration": 133,
    "start_time": "2025-03-09T13:54:14.238Z"
   },
   {
    "duration": 17,
    "start_time": "2025-03-09T13:54:14.373Z"
   },
   {
    "duration": 38,
    "start_time": "2025-03-09T13:54:14.404Z"
   },
   {
    "duration": 9,
    "start_time": "2025-03-09T13:54:14.444Z"
   },
   {
    "duration": 133,
    "start_time": "2025-03-09T13:54:14.454Z"
   },
   {
    "duration": 135,
    "start_time": "2025-03-09T13:54:14.589Z"
   },
   {
    "duration": 8,
    "start_time": "2025-03-09T13:54:14.726Z"
   },
   {
    "duration": 204,
    "start_time": "2025-03-09T13:54:14.735Z"
   },
   {
    "duration": 8,
    "start_time": "2025-03-09T13:54:14.941Z"
   },
   {
    "duration": 23,
    "start_time": "2025-03-09T13:54:14.951Z"
   },
   {
    "duration": 31,
    "start_time": "2025-03-09T13:54:14.975Z"
   },
   {
    "duration": 199,
    "start_time": "2025-03-09T13:54:15.008Z"
   },
   {
    "duration": 188,
    "start_time": "2025-03-09T13:54:15.209Z"
   },
   {
    "duration": 168,
    "start_time": "2025-03-09T13:54:15.404Z"
   },
   {
    "duration": 172,
    "start_time": "2025-03-09T13:54:15.573Z"
   },
   {
    "duration": 236,
    "start_time": "2025-03-09T13:54:15.747Z"
   },
   {
    "duration": 20,
    "start_time": "2025-03-09T13:54:15.984Z"
   },
   {
    "duration": 153,
    "start_time": "2025-03-09T13:54:16.005Z"
   },
   {
    "duration": 3655,
    "start_time": "2025-03-10T13:19:49.556Z"
   },
   {
    "duration": 2,
    "start_time": "2025-03-10T13:19:53.214Z"
   },
   {
    "duration": 3244,
    "start_time": "2025-03-10T13:19:53.218Z"
   },
   {
    "duration": 19,
    "start_time": "2025-03-10T13:19:56.464Z"
   },
   {
    "duration": 15,
    "start_time": "2025-03-10T13:19:56.485Z"
   },
   {
    "duration": 8,
    "start_time": "2025-03-10T13:19:56.502Z"
   },
   {
    "duration": 132,
    "start_time": "2025-03-10T13:19:56.511Z"
   },
   {
    "duration": 98,
    "start_time": "2025-03-10T13:19:56.645Z"
   },
   {
    "duration": 643,
    "start_time": "2025-03-10T13:19:56.744Z"
   },
   {
    "duration": 3,
    "start_time": "2025-03-10T13:19:57.389Z"
   },
   {
    "duration": 62,
    "start_time": "2025-03-10T13:19:57.393Z"
   },
   {
    "duration": 21,
    "start_time": "2025-03-10T13:19:57.456Z"
   },
   {
    "duration": 41,
    "start_time": "2025-03-10T13:19:57.478Z"
   },
   {
    "duration": 18,
    "start_time": "2025-03-10T13:19:57.522Z"
   },
   {
    "duration": 76,
    "start_time": "2025-03-10T13:19:57.542Z"
   },
   {
    "duration": 35,
    "start_time": "2025-03-10T13:19:57.620Z"
   },
   {
    "duration": 47,
    "start_time": "2025-03-10T13:19:57.657Z"
   },
   {
    "duration": 190,
    "start_time": "2025-03-10T13:19:57.706Z"
   },
   {
    "duration": 173,
    "start_time": "2025-03-10T13:19:57.897Z"
   },
   {
    "duration": 22,
    "start_time": "2025-03-10T13:19:58.072Z"
   },
   {
    "duration": 273,
    "start_time": "2025-03-10T13:19:58.095Z"
   },
   {
    "duration": 172,
    "start_time": "2025-03-10T13:19:58.369Z"
   },
   {
    "duration": 25,
    "start_time": "2025-03-10T13:19:58.542Z"
   },
   {
    "duration": 11,
    "start_time": "2025-03-10T13:19:58.569Z"
   },
   {
    "duration": 36,
    "start_time": "2025-03-10T13:19:58.581Z"
   },
   {
    "duration": 91,
    "start_time": "2025-03-10T13:19:58.619Z"
   },
   {
    "duration": 63,
    "start_time": "2025-03-10T13:19:58.711Z"
   },
   {
    "duration": 40,
    "start_time": "2025-03-10T13:19:58.776Z"
   },
   {
    "duration": 74,
    "start_time": "2025-03-10T13:19:58.820Z"
   },
   {
    "duration": 5,
    "start_time": "2025-03-10T13:19:58.895Z"
   },
   {
    "duration": 98,
    "start_time": "2025-03-10T13:19:58.901Z"
   },
   {
    "duration": 82,
    "start_time": "2025-03-10T13:19:59.000Z"
   },
   {
    "duration": 39,
    "start_time": "2025-03-10T13:19:59.084Z"
   },
   {
    "duration": 52,
    "start_time": "2025-03-10T13:19:59.124Z"
   },
   {
    "duration": 231,
    "start_time": "2025-03-10T13:19:59.178Z"
   },
   {
    "duration": 21,
    "start_time": "2025-03-10T13:19:59.410Z"
   },
   {
    "duration": 26,
    "start_time": "2025-03-10T13:19:59.433Z"
   },
   {
    "duration": 12,
    "start_time": "2025-03-10T13:19:59.460Z"
   },
   {
    "duration": 18,
    "start_time": "2025-03-10T13:19:59.474Z"
   },
   {
    "duration": 35,
    "start_time": "2025-03-10T13:19:59.493Z"
   },
   {
    "duration": 101,
    "start_time": "2025-03-10T13:19:59.532Z"
   },
   {
    "duration": 105,
    "start_time": "2025-03-10T13:19:59.634Z"
   },
   {
    "duration": 17,
    "start_time": "2025-03-10T13:19:59.741Z"
   },
   {
    "duration": 112,
    "start_time": "2025-03-10T13:19:59.759Z"
   },
   {
    "duration": 15,
    "start_time": "2025-03-10T13:19:59.872Z"
   },
   {
    "duration": 90,
    "start_time": "2025-03-10T13:19:59.889Z"
   },
   {
    "duration": 9,
    "start_time": "2025-03-10T13:19:59.980Z"
   },
   {
    "duration": 165,
    "start_time": "2025-03-10T13:19:59.990Z"
   },
   {
    "duration": 115,
    "start_time": "2025-03-10T13:20:00.157Z"
   },
   {
    "duration": 5,
    "start_time": "2025-03-10T13:20:00.273Z"
   },
   {
    "duration": 217,
    "start_time": "2025-03-10T13:20:00.280Z"
   },
   {
    "duration": 7,
    "start_time": "2025-03-10T13:20:00.499Z"
   },
   {
    "duration": 103,
    "start_time": "2025-03-10T13:20:00.507Z"
   },
   {
    "duration": 63,
    "start_time": "2025-03-10T13:20:00.611Z"
   },
   {
    "duration": 187,
    "start_time": "2025-03-10T13:20:00.675Z"
   },
   {
    "duration": 163,
    "start_time": "2025-03-10T13:20:00.863Z"
   },
   {
    "duration": 152,
    "start_time": "2025-03-10T13:20:01.027Z"
   },
   {
    "duration": 161,
    "start_time": "2025-03-10T13:20:01.181Z"
   },
   {
    "duration": 238,
    "start_time": "2025-03-10T13:20:01.343Z"
   },
   {
    "duration": 10,
    "start_time": "2025-03-10T13:20:01.583Z"
   },
   {
    "duration": 189,
    "start_time": "2025-03-10T13:20:01.594Z"
   }
  ],
  "colab": {
   "provenance": []
  },
  "kernelspec": {
   "display_name": "Python [conda env:base] *",
   "language": "python",
   "name": "conda-base-py"
  },
  "language_info": {
   "codemirror_mode": {
    "name": "ipython",
    "version": 3
   },
   "file_extension": ".py",
   "mimetype": "text/x-python",
   "name": "python",
   "nbconvert_exporter": "python",
   "pygments_lexer": "ipython3",
   "version": "3.9.21"
  },
  "toc": {
   "base_numbering": 1,
   "nav_menu": {},
   "number_sections": true,
   "sideBar": true,
   "skip_h1_title": true,
   "title_cell": "Table of Contents",
   "title_sidebar": "Contents",
   "toc_cell": false,
   "toc_position": {},
   "toc_section_display": true,
   "toc_window_display": false
  }
 },
 "nbformat": 4,
 "nbformat_minor": 4
}
